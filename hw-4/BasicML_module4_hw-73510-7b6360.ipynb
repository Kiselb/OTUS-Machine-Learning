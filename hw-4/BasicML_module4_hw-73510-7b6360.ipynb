{
 "cells": [
  {
   "cell_type": "code",
   "execution_count": 1,
   "metadata": {},
   "outputs": [],
   "source": [
    "import numpy as np"
   ]
  },
  {
   "cell_type": "markdown",
   "metadata": {},
   "source": [
    "## Basic ML Homework\n",
    "### Модуль 4: Теоретический минимум для ML: линейная алгебра, начала мат.анализа"
   ]
  },
  {
   "cell_type": "markdown",
   "metadata": {},
   "source": [
    "## 1. Линейная алгебра"
   ]
  },
  {
   "cell_type": "markdown",
   "metadata": {},
   "source": [
    "**1(1)** Даны матрицы:\n",
    "\n",
    "\n",
    "$A = \\begin{pmatrix}\n",
    "2 & −4 \\\\\n",
    "3 & 5 \\\\\n",
    "−1 & 0 \n",
    "\\end{pmatrix},\n",
    "$\n",
    "$B = \\begin{pmatrix}1 & 2 & 7 \\\\ −3 & −4 & 0 \\\\ 5 & 2 & 1 \\end{pmatrix}$, $C = \\begin{pmatrix}\n",
    "6 & −3 & 9 \\\\\n",
    "4 & −5 & 2 \\\\\n",
    "8 & 1 & 5\n",
    "\\end{pmatrix}.$\n",
    "\n",
    "Посчитайте матрицу $D = A^{\\top}C - 2A^{\\top}B^{\\top}$. Приведите полную последовательность вычислений."
   ]
  },
  {
   "cell_type": "markdown",
   "metadata": {},
   "source": [
    "#### Решение:"
   ]
  },
  {
   "cell_type": "markdown",
   "metadata": {},
   "source": [
    "$ \\mathbf{A}^\\intercal = \\begin{pmatrix} 2 & 3 & -1 \\\\ −4 & 5 & 0 \\end{pmatrix} $"
   ]
  },
  {
   "cell_type": "markdown",
   "metadata": {},
   "source": [
    "$ \\mathbf{B}^\\intercal = \\begin{pmatrix} 1 & -3 & 5 \\\\ 2 & -4 & 2 \\\\ 7 & 0 & 1 \\end{pmatrix} $"
   ]
  },
  {
   "cell_type": "markdown",
   "metadata": {},
   "source": [
    "$ \\mathbf{D} = \\begin{pmatrix} 2 & 3 & -1 \\\\ −4 & 5 & 0 \\end{pmatrix} \\cdot \\begin{pmatrix} 6 & -3 & 9 \\\\ 4 & -5 & 2 \\\\ 8 & 1 & 5 \\end{pmatrix} -\n",
    "2 \\cdot \\begin{pmatrix} 2 & 3 & -1 \\\\ −4 & 5 & 0 \\end{pmatrix} \\cdot \\begin{pmatrix} 1 & -3 & 5 \\\\ 2 & -4 & 2 \\\\ 7 & 0 & 1 \\end{pmatrix} $"
   ]
  },
  {
   "cell_type": "markdown",
   "metadata": {},
   "source": [
    "$ \\mathbf{D} = \\begin{pmatrix} 16 & -22 & 19 \\\\ −4 & -13 & -26 \\end{pmatrix} -\n",
    "2 \\cdot \\begin{pmatrix} 1 & -18 & 15 \\\\ 6 & -8 & -10 \\end{pmatrix} $"
   ]
  },
  {
   "cell_type": "markdown",
   "metadata": {},
   "source": [
    "$ \\mathbf{D} = \\begin{pmatrix} 16 & -22 & 19 \\\\ −4 & -13 & -26 \\end{pmatrix} -\n",
    "\\begin{pmatrix} 2 & -36 & 30 \\\\ 12 & -16 & -20 \\end{pmatrix} $"
   ]
  },
  {
   "cell_type": "markdown",
   "metadata": {},
   "source": [
    "$ \\mathbf{D} = \\begin{pmatrix} 14 & 14 & -11 \\\\ −16 & 3 & -6 \\end{pmatrix} $"
   ]
  },
  {
   "cell_type": "markdown",
   "metadata": {},
   "source": [
    "#### Проверка:"
   ]
  },
  {
   "cell_type": "code",
   "execution_count": 2,
   "metadata": {},
   "outputs": [
    {
     "data": {
      "text/plain": [
       "array([[ 2, -4],\n",
       "       [ 3,  5],\n",
       "       [-1,  0]])"
      ]
     },
     "execution_count": 2,
     "metadata": {},
     "output_type": "execute_result"
    }
   ],
   "source": [
    "A = np.array((2, -4, 3, 5, -1, 0))\n",
    "A = np.reshape(A, (3, 2))\n",
    "A "
   ]
  },
  {
   "cell_type": "code",
   "execution_count": 3,
   "metadata": {},
   "outputs": [
    {
     "data": {
      "text/plain": [
       "array([[ 1,  2,  7],\n",
       "       [-3, -4,  0],\n",
       "       [ 5,  2,  1]])"
      ]
     },
     "execution_count": 3,
     "metadata": {},
     "output_type": "execute_result"
    }
   ],
   "source": [
    "B = np.array((1, 2, 7, -3, -4, 0, 5, 2, 1))\n",
    "B = np.reshape(B, (3, 3))\n",
    "B"
   ]
  },
  {
   "cell_type": "code",
   "execution_count": 4,
   "metadata": {},
   "outputs": [
    {
     "data": {
      "text/plain": [
       "array([[ 6, -3,  9],\n",
       "       [ 4, -5,  2],\n",
       "       [ 8,  1,  5]])"
      ]
     },
     "execution_count": 4,
     "metadata": {},
     "output_type": "execute_result"
    }
   ],
   "source": [
    "C = np.array((6, -3, 9, 4, -5, 2, 8, 1, 5))\n",
    "C = np.reshape(C, (3, 3))\n",
    "C"
   ]
  },
  {
   "cell_type": "code",
   "execution_count": 5,
   "metadata": {},
   "outputs": [
    {
     "data": {
      "text/plain": [
       "array([[ 14,  14, -11],\n",
       "       [-16,   3,  -6]])"
      ]
     },
     "execution_count": 5,
     "metadata": {},
     "output_type": "execute_result"
    }
   ],
   "source": [
    "D = A.T @ C - 2 * A.T @ B.T\n",
    "D"
   ]
  },
  {
   "cell_type": "markdown",
   "metadata": {},
   "source": [
    "**2(2)** Дано:\n",
    "\n",
    "$ 3 \\cdot \\begin{pmatrix} x & 2 & 3 \\\\ −1 & y & 4 \\end{pmatrix} +\n",
    "2 \\cdot \\begin{pmatrix} 1 & 2 & −5 \\\\ 2 & −6 & z \\end{pmatrix} =\n",
    "\\begin{pmatrix}\n",
    "8 & v & −1 \\\\\n",
    "1 & 6 & 4 \\end{pmatrix}. $\n",
    "\n",
    "Найдите значения $x$, $y$, $z$, и $v$."
   ]
  },
  {
   "cell_type": "markdown",
   "metadata": {},
   "source": [
    "### Решение:"
   ]
  },
  {
   "cell_type": "markdown",
   "metadata": {},
   "source": [
    "$ 3 \\cdot \\begin{pmatrix} x & 2 & 3 \\\\ −1 & y & 4 \\end{pmatrix} +\n",
    "2 \\cdot \\begin{pmatrix} 1 & 2 & −5 \\\\ 2 & −6 & z \\end{pmatrix} -\n",
    "\\begin{pmatrix}\n",
    "8 & v & −1 \\\\\n",
    "1 & 6 & 4 \\end{pmatrix} =\n",
    "\\begin{pmatrix}\n",
    "0 & 0 & 0 \\\\\n",
    "0 & 0 & 0 \\end{pmatrix} $"
   ]
  },
  {
   "cell_type": "markdown",
   "metadata": {},
   "source": [
    "$ \\begin{pmatrix} 3x + 2 - 8 & 6 + 4 - v & 9 - 10 + 1 \\\\ -3 + 4 - 1 & 3y - 12 - 6 & 12 + 2z - 4 \\end{pmatrix} =\n",
    "\\begin{pmatrix}\n",
    "0 & 0 & 0 \\\\\n",
    "0 & 0 & 0 \\end{pmatrix} $"
   ]
  },
  {
   "cell_type": "markdown",
   "metadata": {},
   "source": [
    "$ \\begin{pmatrix} 3x - 6 & 10 - v & 0 \\\\ 0 & 3y - 18 & 2z + 8 \\end{pmatrix} =\n",
    "\\begin{pmatrix}\n",
    "0 & 0 & 0 \\\\\n",
    "0 & 0 & 0 \\end{pmatrix} $"
   ]
  },
  {
   "cell_type": "markdown",
   "metadata": {},
   "source": [
    "$ \n",
    "    \\begin{aligned}\n",
    "    &3x - 6 = 0 \\\\\n",
    "    &10 - v = 0 \\\\\n",
    "    &3y - 18 = 0 \\\\\n",
    "    &2z + 8 = 0\n",
    "    \\end{aligned}\n",
    "$"
   ]
  },
  {
   "cell_type": "markdown",
   "metadata": {},
   "source": [
    "$ \n",
    "    \\begin{aligned}\n",
    "    &x = 2 \\\\\n",
    "    &v = 10 \\\\\n",
    "    &y = 6 \\\\\n",
    "    &z = -4\n",
    "    \\end{aligned}\n",
    "$"
   ]
  },
  {
   "cell_type": "markdown",
   "metadata": {},
   "source": [
    "#### Проверка:"
   ]
  },
  {
   "cell_type": "code",
   "execution_count": 6,
   "metadata": {},
   "outputs": [
    {
     "data": {
      "text/plain": [
       "array([[0, 0, 0],\n",
       "       [0, 0, 0]])"
      ]
     },
     "execution_count": 6,
     "metadata": {},
     "output_type": "execute_result"
    }
   ],
   "source": [
    "R = 3 * np.reshape(np.array((2, 2, 3, -1, 6, 4)), (2, 3)) + 2 * np.reshape(np.array((1, 2, -5, 2, -6, -4)), (2, 3)) - np.reshape(np.array((8, 10, -1, 1, 6, 4)), (2, 3))\n",
    "R"
   ]
  },
  {
   "cell_type": "markdown",
   "metadata": {},
   "source": [
    "**Исключена(3)** На множестве $\\mathbf{M}$ всех упорядоченных пар $(u; v)$ положительных чисел операции сложения и умножения введены\n",
    "следующим образом:\n",
    "\n",
    "$$\n",
    "(u_1; v_1) + (u_2; v_2) = (u_1 \\cdot u_2; v_1 \\cdot v_2); \n",
    "λ(u; v) = (u^{\\lambda}; v^{\\lambda}),\n",
    "$$\n",
    "\n",
    "где $\\lambda$ – вещественное число. Докажите, что при этом множество $\\mathbf{M}$ становится линейным пространством. Выясните: а) какая пара играет роль нулевого элемента; б) какая пара является противоположной паре $(u; v)$; в) укажите размерность этого пространства и какой-нибудь его базис."
   ]
  },
  {
   "cell_type": "markdown",
   "metadata": {},
   "source": [
    "#### Доказательство:"
   ]
  },
  {
   "cell_type": "markdown",
   "metadata": {},
   "source": [
    "##### Определение линейного пространства:"
   ]
  },
  {
   "cell_type": "markdown",
   "metadata": {},
   "source": [
    "Множество $L$  называется линейным или векторным пространством, если для всех элементов (векторов) этого множества определены операции сложения и умножения на число и справедливо:\n",
    "1. Каждой паре элементов $x$ и $y$ из $L$ отвечает элемент $x + y$ из $L$, называемый суммой $x$ и $y$, причём:\n",
    "    1. $x + y = y + x$ − сложение коммутативно;\n",
    "    2. $x + (y + z) = (x + y) + z$ − сложение ассоциативно;\n",
    "    3. $x + 0 = x$ − существует единственный нейтральный элемент $0$ $( x + 0 = x$ для любого $x$ из $L)$;\n",
    "    4. $x + (− x) = 0$ − для каждого элемента $x$ из $L$ существует единственный противоположный элемент $−x$ $( x + (−x) = 0$ для любого $x$ из $L)$.\n",
    "\n",
    "2. Каждой паре $x$ и $α$, где $α$ − число, а $x$ элемент из $L$, отвечает элемент $α·x$, наываемый произведением $α$ и $x$, причём:\n",
    "    1. $α·(β·x) = (α·β)·x$ − умножнение на число ассоциативно;\n",
    "    2. $1·x = x$ − для любого элемента $x$ из $L$.\n",
    "    \n",
    "3. Операции сложения и умножения на число связаны соотношениями:\n",
    "    1. $α·(x + y) = α·x + α·y$ − умножнение на число дистрибутивно относительно сложения элементов;\n",
    "    2. $(α + β)·x = α·x + β·x$ − умножнение на вектор дистрибутивно относительно сложения чисел."
   ]
  },
  {
   "cell_type": "markdown",
   "metadata": {},
   "source": [
    "###### 1.1. Коммутативность\n",
    "$\n",
    "    \\begin{aligned}\n",
    "    (u_1;v_1) + (u_2;v_2) = (u_1 \\cdot u_2; v_1 \\cdot v_2) = (u_2 \\cdot u_1; v_2 \\cdot v_1) = (u_2;v_2) + (u_1;v_1) \n",
    "    \\end{aligned}\n",
    "$, поскольку $\\cdot $ коммутативно"
   ]
  },
  {
   "cell_type": "markdown",
   "metadata": {},
   "source": [
    "###### 1.2. Ассоциативность\n",
    "$ (u_1;v_1) + ((u_2;v_2) + (u_3;v_3)) = (u_1;v_1) + (u_2 \\cdot u_3; v_2 \\cdot v_3) =  (u_1 \\cdot u_2 \\cdot u_3; v_1 \\cdot v_2 \\cdot v_3)$ $(1)$\\\n",
    "$ ((u_1;v_1) + (u_2;v_2)) + (u_3;v_3) = (u_1 \\cdot u_2; v_1 \\cdot v_2) + (u_3;v_3) =  (u_1 \\cdot u_2 \\cdot u_3; v_1 \\cdot v_2 \\cdot v_3)$ $(2)$\\\n",
    "$(1) = (2)$"
   ]
  },
  {
   "cell_type": "markdown",
   "metadata": {},
   "source": [
    "###### 1.3. Нейтральный элемент\n",
    "$ 0 = (1; 1)$\\\n",
    "$(u; v) + 0 = (u; v) + (1; 1) = (u \\cdot 1; v \\cdot 1) = (u; v)$"
   ]
  },
  {
   "cell_type": "markdown",
   "metadata": {},
   "source": [
    "###### 1.4. Противоположный элемент\n",
    "$ -(u; v) = (1 / u; 1 / v) $\\\n",
    "$(u; v) + (-(u; v)) = (u; v) + (1 / u; 1 / v) = (u / u; v / v) = (1; 1) = 0 $"
   ]
  },
  {
   "cell_type": "markdown",
   "metadata": {},
   "source": [
    "###### 2.1. Умножение ассоциативно\n",
    "$ \\alpha \\cdot (\\beta \\cdot (u;v)) = \\alpha \\cdot (u^\\beta; v^\\beta) = ((u^\\beta)^\\alpha; (v^\\beta)^\\alpha) = (u^{\\beta \\cdot \\alpha}; v^{\\beta \\cdot \\alpha}) = (u^{\\alpha \\cdot \\beta}; v^{\\alpha \\cdot \\beta})$ $(1)$\\\n",
    "$ (\\alpha \\cdot \\beta) \\cdot (u;v) = (u^{\\alpha \\cdot \\beta}; v^{\\alpha \\cdot \\beta})$ $(2)$\\\n",
    "$(1) = (2)$"
   ]
  },
  {
   "cell_type": "markdown",
   "metadata": {},
   "source": [
    "###### 2.2. $1·x = x$ − для любого элемента $x$ из $L$\n",
    "$ 1 \\cdot (u; v) = (u^1; v^1) = (u; v) $ "
   ]
  },
  {
   "cell_type": "markdown",
   "metadata": {},
   "source": [
    "###### 3.1. Умножнение на число дистрибутивно относительно сложения элементов\n",
    "$ \\alpha \\cdot ((u_1; v_1) + (u_2; v_2)) = \\alpha \\cdot (u_1 \\cdot u_2; v_1 \\cdot v_2) = ((u_1 \\cdot u_2)^\\alpha; (v_1 \\cdot v_2)^\\alpha) $ $(1)$\\\n",
    "$ \\alpha \\cdot (u_1; v_1) + \\alpha \\cdot (u_2; v_2) = (u_1^\\alpha; v_1^\\alpha) + (u_2^\\alpha; v_2^\\alpha) = (u_1^\\alpha \\cdot u_2^\\alpha; v_1^\\alpha \\cdot v_2^\\alpha)\n",
    " = ((u_1 \\cdot u_2)^\\alpha; (v_1 \\cdot v_2)^\\alpha) $ $(2)$\\\n",
    "$(1) = (2)$"
   ]
  },
  {
   "cell_type": "markdown",
   "metadata": {},
   "source": [
    "###### 3.2. Умножнение на вектор дистрибутивно относительно сложения чисел\n",
    "$ (\\alpha + \\beta) \\cdot (u; v) = (u^{\\alpha+\\beta}; v^{\\alpha+\\beta}) = (u^\\alpha \\cdot u^\\beta; v^\\alpha \\cdot v^\\beta) = (u^\\alpha; v^\\alpha) + (u^\\beta; v^\\beta) $"
   ]
  },
  {
   "cell_type": "markdown",
   "metadata": {},
   "source": [
    "###### Размерность линейного пространства и базис"
   ]
  },
  {
   "cell_type": "markdown",
   "metadata": {},
   "source": [
    "$ R^2 \\to R^2 $\n",
    "Размерность: 2"
   ]
  },
  {
   "cell_type": "markdown",
   "metadata": {},
   "source": [
    "Базис (канонический):\n",
    "$\n",
    "\\begin{pmatrix}\n",
    "1 & 0 \\\\\n",
    "0 & 1 \\end{pmatrix}\n",
    "$"
   ]
  },
  {
   "cell_type": "markdown",
   "metadata": {},
   "source": [
    "**Исключена(4)** Докажите, что множество всех квадратных матриц второго порядка с известными операциями сложения и умножения на число образуют четырехмерное линейное пространство. Укажите какой-нибудь базис этого пространства."
   ]
  },
  {
   "cell_type": "markdown",
   "metadata": {},
   "source": [
    "#### Доказательство:\n",
    "Доказательство того, что квадратные матрицы с известными операциями сложения образуют линейное пространство, аналогично доказательству, приведённому в п 1.3., с учётом свойств арифметических операций сложения и умножения. Дополнительно, нейтральным элементом является нулевая матрица. Квадратные матрицы второго порядка ($2 \\times 2$) образуют двумерное линейное простраство, поскольку возможны только 2 линейно независимых вектора (столбцы матрицы)."
   ]
  },
  {
   "cell_type": "markdown",
   "metadata": {},
   "source": [
    "Базис (канонический):\n",
    "$\n",
    "\\begin{pmatrix}\n",
    "1 & 0 \\\\\n",
    "0 & 1 \\end{pmatrix}\n",
    "$"
   ]
  },
  {
   "cell_type": "markdown",
   "metadata": {},
   "source": [
    "**3(5)** Укажите те значения параметров $p$ и $q$, при которых\n",
    "ранг матрицы $A = \\begin{pmatrix} 1 & 2 & 3 \\\\ 3 & 6 & p \\\\ 5 & 10 & q \\end{pmatrix}$ равен единице."
   ]
  },
  {
   "cell_type": "markdown",
   "metadata": {},
   "source": [
    "#### Решение:"
   ]
  },
  {
   "cell_type": "markdown",
   "metadata": {},
   "source": [
    "Ранг 1 матрицы A означает, что все столбцы можно выразить через один столбец. Таким столбцом является, например, первый столбец матрицы A. Приведённые ниже уравнения справедливы и для двух других столбцов, с соответствующими коэффициентами  "
   ]
  },
  {
   "cell_type": "markdown",
   "metadata": {},
   "source": [
    "$ \\lambda \\cdot \\begin{pmatrix} 1 \\\\ 3 \\\\ 5 \\end{pmatrix} = \\begin{pmatrix} 2 \\\\ 6 \\\\ 10 \\end{pmatrix} \\Rightarrow \\lambda = 2 $"
   ]
  },
  {
   "cell_type": "markdown",
   "metadata": {},
   "source": [
    "$ \\lambda \\cdot \\begin{pmatrix} 1 \\\\ 3 \\\\ 5 \\end{pmatrix} = \\begin{pmatrix} 3 \\\\ p \\\\ q \\end{pmatrix} \\Rightarrow \\lambda = 3$, при  $p = 9$ и $q = 15$"
   ]
  },
  {
   "cell_type": "markdown",
   "metadata": {},
   "source": [
    "#### Проверка:"
   ]
  },
  {
   "cell_type": "code",
   "execution_count": 7,
   "metadata": {},
   "outputs": [],
   "source": [
    "p = 9\n",
    "q = 15"
   ]
  },
  {
   "cell_type": "code",
   "execution_count": 8,
   "metadata": {},
   "outputs": [
    {
     "data": {
      "text/plain": [
       "array([[ 1,  2,  3],\n",
       "       [ 3,  6,  9],\n",
       "       [ 5, 10, 15]])"
      ]
     },
     "execution_count": 8,
     "metadata": {},
     "output_type": "execute_result"
    }
   ],
   "source": [
    "A = np.array((1, 2, 3, 3, 6, p, 5, 10, q))\n",
    "A = np.reshape(A, (3, 3))\n",
    "A"
   ]
  },
  {
   "cell_type": "code",
   "execution_count": 9,
   "metadata": {},
   "outputs": [
    {
     "data": {
      "text/plain": [
       "1"
      ]
     },
     "execution_count": 9,
     "metadata": {},
     "output_type": "execute_result"
    }
   ],
   "source": [
    "rank = np.linalg.matrix_rank(A)\n",
    "rank"
   ]
  },
  {
   "cell_type": "markdown",
   "metadata": {},
   "source": [
    "**4(6)** Относительно канонического (стандартного) базиса в $\\mathbb{R}^2$ даны три вектора $a_1 = (2, −5)^T$, $a_2 = (−1, 3)^T$, $x = (1, −4)^T$. Примите векторы $a_1$, $a_2$ за новый базис $B$, предварительно проверив, что они линейно независимы.\n",
    "- (a) Найдите координаты $[x]_B$ вектора $x$ в новом базисе\n",
    "- (b) Предположим, что координаты вектора $y$ в базисе $B$ заданы $[y]_B = (1, 1)^T$. Найдите координаты вектора $y$ в стандартном базисе."
   ]
  },
  {
   "cell_type": "markdown",
   "metadata": {},
   "source": [
    "##### Доказательство линейной независимости:"
   ]
  },
  {
   "cell_type": "markdown",
   "metadata": {},
   "source": [
    "Векторы образуют базис если являются линейно независимыми, т.е. решение уравнения (1) является нетривиальным"
   ]
  },
  {
   "cell_type": "markdown",
   "metadata": {},
   "source": [
    "$ \\lambda_1 \\cdot \\begin{pmatrix} 2 \\\\ -5 \\end{pmatrix} + \\lambda_2 \\cdot \\begin{pmatrix} -1 \\\\ 3 \\end{pmatrix} = \\begin{pmatrix} 0 \\\\ 0 \\end{pmatrix} $ $(1)$"
   ]
  },
  {
   "cell_type": "markdown",
   "metadata": {},
   "source": [
    "Решением данного уравнения яляется решение системы линейных уравнений:"
   ]
  },
  {
   "cell_type": "markdown",
   "metadata": {},
   "source": [
    "$\n",
    "\\begin{cases}\n",
    "2 \\cdot \\lambda_1  - \\lambda_2 = 0 \\\\\n",
    "-5 \\cdot \\lambda_1 + 3  \\cdot \\lambda_2 = 0\n",
    "\\end{cases}\n",
    "$"
   ]
  },
  {
   "cell_type": "markdown",
   "metadata": {},
   "source": [
    "$\n",
    "\\begin{cases}\n",
    "\\lambda_2 = 2 \\cdot \\lambda_1 \\\\\n",
    "-5 \\cdot \\lambda_1 +  6 \\cdot \\lambda_1 = 0\n",
    "\\end{cases}\n",
    "$"
   ]
  },
  {
   "cell_type": "markdown",
   "metadata": {},
   "source": [
    "$\n",
    "\\begin{cases}\n",
    "\\lambda_2 = 2 \\cdot \\lambda_1 \\\\\n",
    "\\lambda_1 = 0\n",
    "\\end{cases}\n",
    "$"
   ]
  },
  {
   "cell_type": "markdown",
   "metadata": {},
   "source": [
    "$\n",
    "\\begin{cases}\n",
    "\\lambda_2 = 0 \\\\\n",
    "\\lambda_1 = 0\n",
    "\\end{cases}\n",
    "$"
   ]
  },
  {
   "cell_type": "markdown",
   "metadata": {},
   "source": [
    "Существует только тривиальное решение, следовательно векторы являются линейно независимыми, и образуют базис"
   ]
  },
  {
   "cell_type": "markdown",
   "metadata": {},
   "source": [
    "(a) Найдите координаты $[x]_B$ вектора $x$ в новом базисе. Для вычисления координат в заданном базисе вектора $x$ необходимо решить следующую систему уравнений:\\\n",
    "\\\n",
    "$\n",
    "\\begin{cases}\n",
    "2 \\cdot \\lambda_1  - \\lambda_2 = 1 \\\\\n",
    "-5 \\cdot \\lambda_1 +  3 \\cdot \\lambda_2 = -4\n",
    "\\end{cases}\n",
    "$\n",
    "\\\n",
    "\\\n",
    "$\n",
    "\\begin{cases}\n",
    "\\lambda_2 = 2 \\cdot \\lambda_1 - 1 \\\\\n",
    "-5 \\cdot \\lambda_1 +  3 \\cdot (2 \\cdot \\lambda_1 - 1) = -4\n",
    "\\end{cases}\n",
    "$\n",
    "\\\n",
    "\\\n",
    "$\n",
    "\\begin{cases}\n",
    "\\lambda_2 = 2 \\cdot \\lambda_1 - 1 \\\\\n",
    "-5 \\cdot \\lambda_1 +  6 \\cdot \\lambda_1 - 3 = -4\n",
    "\\end{cases}\n",
    "$\n",
    "\\\n",
    "\\\n",
    "$\n",
    "\\begin{cases}\n",
    "\\lambda_2 = 2 \\cdot \\lambda_1 - 1 \\\\\n",
    "\\lambda_1 = -1\n",
    "\\end{cases}\n",
    "$\n",
    "\\\n",
    "\\\n",
    "$\n",
    "\\begin{cases}\n",
    "\\lambda_2 = -3 \\\\\n",
    "\\lambda_1 = -1\n",
    "\\end{cases}\n",
    "$\n",
    "\\\n",
    "\\\n",
    "Координаты вектора в новом базисе: $[-1, -3]$\n",
    "\\\n",
    "\\\n",
    "Второй способ, для проверки: $x' = A^{-1} \\cdot x$, где столбцы матрицы $A$ - векторы $a_1$ и $a_2$"
   ]
  },
  {
   "cell_type": "code",
   "execution_count": 10,
   "metadata": {},
   "outputs": [
    {
     "data": {
      "text/plain": [
       "array([[ 2, -1],\n",
       "       [-5,  3]])"
      ]
     },
     "execution_count": 10,
     "metadata": {},
     "output_type": "execute_result"
    }
   ],
   "source": [
    "A = np.array((2, -1, -5, 3))\n",
    "A = np.reshape(A, (2, 2))\n",
    "A"
   ]
  },
  {
   "cell_type": "code",
   "execution_count": 11,
   "metadata": {},
   "outputs": [
    {
     "data": {
      "text/plain": [
       "array([[3., 1.],\n",
       "       [5., 2.]])"
      ]
     },
     "execution_count": 11,
     "metadata": {},
     "output_type": "execute_result"
    }
   ],
   "source": [
    "\n",
    "A = np.linalg.inv(A)\n",
    "A"
   ]
  },
  {
   "cell_type": "code",
   "execution_count": 12,
   "metadata": {},
   "outputs": [
    {
     "data": {
      "text/plain": [
       "array([[ 1],\n",
       "       [-4]])"
      ]
     },
     "execution_count": 12,
     "metadata": {},
     "output_type": "execute_result"
    }
   ],
   "source": [
    "\n",
    "B = np.reshape(np.array((1, -4)), (2, 1))\n",
    "B"
   ]
  },
  {
   "cell_type": "code",
   "execution_count": 13,
   "metadata": {},
   "outputs": [
    {
     "data": {
      "text/plain": [
       "array([[-1.],\n",
       "       [-3.]])"
      ]
     },
     "execution_count": 13,
     "metadata": {},
     "output_type": "execute_result"
    }
   ],
   "source": [
    "\n",
    "A @ B"
   ]
  },
  {
   "cell_type": "markdown",
   "metadata": {},
   "source": [
    "(b) Предположим, что координаты вектора $y$ в базисе $B$ заданы $[y]_B = (1, 1)^T$. Найдите координаты вектора $y$ в стандартном базисе."
   ]
  },
  {
   "cell_type": "markdown",
   "metadata": {},
   "source": [
    "Сначала нужно выразить векторы стандартного базиса через базис $B$. Для этого нужно решить две, поскольку два базисных вектора $[1, 0]^T$ и $[0, 1]^T$, следующие системы уравнений:\n",
    "\\\n",
    "\\\n",
    "$\n",
    "\\begin{cases}\n",
    "2 \\cdot \\lambda_1  - \\lambda_2 = 1 \\\\\n",
    "-5 \\cdot \\lambda_1 +  3 \\cdot \\lambda_2 = 0\n",
    "\\end{cases}\n",
    "$\n",
    "и\n",
    "$\n",
    "\\begin{cases}\n",
    "2 \\cdot \\lambda_1  - \\lambda_2 = 0 \\\\\n",
    "-5 \\cdot \\lambda_1 +  3 \\cdot \\lambda_2 = 1\n",
    "\\end{cases}\n",
    "$\n"
   ]
  },
  {
   "cell_type": "markdown",
   "metadata": {},
   "source": [
    "Решив указанные системы уравнений, получим векторы стандартного базиса в базисе $B$: $(3, 5)^T$ и $(1, 2)^T$. Чтобы найти координаты вектора $y$ в стандартном базисе нужно решить следующую систему уравнений:\\\n",
    "\\\n",
    "$\n",
    "\\begin{cases}\n",
    "3 \\cdot \\lambda_1  + \\lambda_2 = 1 \\\\\n",
    "5 \\cdot \\lambda_1 +  2 \\cdot \\lambda_2 = 1\n",
    "\\end{cases}\n",
    "$\n",
    "\\\n",
    "\\\n",
    "Решением сситемы уравнений являются: $\\lambda_1=1$ и $\\lambda_2=-3$. Таким образом $[y]=(1, -3)^T$"
   ]
  },
  {
   "cell_type": "markdown",
   "metadata": {},
   "source": [
    "**Исключена(7)** Предположим, что существует линейный оператор, выраженный в базисе $(e_1, e_2)$ в виде матрицы $A = \\begin{pmatrix} 1 & 0 \\\\ 0 & 2 \\end{pmatrix}$. Найдите матрицу данного оператора в базисе из векторов $(\\tilde{e}_1, \\tilde{e}_2)$, если:\n",
    "\n",
    "$$\n",
    "\\begin{cases}\n",
    "\\tilde{e}_1 = -2e_1 + 5e_2 \\\\\n",
    "\\tilde{e}_2 = -e_1 + 2e_2\n",
    "\\end{cases}.\n",
    "$$"
   ]
  },
  {
   "cell_type": "markdown",
   "metadata": {},
   "source": [
    "##### Решение\n",
    "\n",
    "Определение линейного оператора: $ \\boldsymbol{y} = \\boldsymbol{A} \\cdot \\boldsymbol{x}$.  Координаты ветора при смене базиса определяются как: $\\boldsymbol{x}' = \\boldsymbol{T}^{-1} \\cdot \\boldsymbol{x}$, т. е. $\\boldsymbol{x} = \\boldsymbol{T} \\cdot \\boldsymbol{x'} $. Подставляя выражения для $\\boldsymbol{x}$ и $\\boldsymbol{y}$ получаем: $\\boldsymbol{T} \\cdot \\boldsymbol{y'} = \\boldsymbol{A} \\cdot \\boldsymbol{T} \\cdot \\boldsymbol{x'} $. Умножаем слева и справа на $\\boldsymbol{T^{-1}}$. Получаем: $\\boldsymbol{y'} = \\boldsymbol{T^{-1}} \\cdot \\boldsymbol{A} \\cdot \\boldsymbol{T} \\cdot \\boldsymbol{x'}$. Таким образом, матрица оператора: $\\boldsymbol{T^{-1}} \\cdot \\boldsymbol{A} \\cdot \\boldsymbol{T}$."
   ]
  },
  {
   "cell_type": "code",
   "execution_count": 14,
   "metadata": {},
   "outputs": [
    {
     "data": {
      "text/plain": [
       "array([[1, 0],\n",
       "       [0, 2]])"
      ]
     },
     "execution_count": 14,
     "metadata": {},
     "output_type": "execute_result"
    }
   ],
   "source": [
    "A = np.array((1, 0, 0, 2))\n",
    "A = np.reshape(A, (2, 2))\n",
    "A"
   ]
  },
  {
   "cell_type": "code",
   "execution_count": 15,
   "metadata": {},
   "outputs": [
    {
     "data": {
      "text/plain": [
       "array([[-2,  5],\n",
       "       [-1,  2]])"
      ]
     },
     "execution_count": 15,
     "metadata": {},
     "output_type": "execute_result"
    }
   ],
   "source": [
    "T = np.array((-2, 5, -1, 2))\n",
    "T = np.reshape(T, (2, 2))\n",
    "T"
   ]
  },
  {
   "cell_type": "code",
   "execution_count": 16,
   "metadata": {},
   "outputs": [
    {
     "data": {
      "text/plain": [
       "array([[  6., -10.],\n",
       "       [  2.,  -3.]])"
      ]
     },
     "execution_count": 16,
     "metadata": {},
     "output_type": "execute_result"
    }
   ],
   "source": [
    "AN = np.linalg.inv(T) @ A @ T\n",
    "AN"
   ]
  },
  {
   "cell_type": "markdown",
   "metadata": {},
   "source": [
    "**5** Исследовательское задание: малоранговая аппроксимация матрицы. Сгенерируйте случайную квадратную матрицу $A ∈ R$ $n×n$, $n ≥ 100$. Выполните сингулярное разложение этой матрицы, и получите три матрицы: $U$, $S$, $V^⊤$. Выполняйте аппроксимацию матрицы $A$ с рангом $r$, меняя его значение, например, от $2$ до $n$:\n",
    "$$\n",
    "\\tilde{A} = U[:, :r]S[:r, :r]V^T[:r, :],\n",
    "$$\n",
    "и каждый раз считайте ошибку апроксимации (как восстановленная матрица отличается от исходной):\n",
    "$$\n",
    "E(r)= \\|A-\\tilde{A}\\|_F=\\sqrt{\\sum_{i=1}^n{\\sum_{j=1}^n{(a_{ij}-\\tilde{a}_{ij})^2}}}\n",
    "$$\n",
    "Используя библиотеку *matplotlib*, постройте график зависимости ошибки аппроксимации матрицы от ранга $r$."
   ]
  },
  {
   "cell_type": "code",
   "execution_count": 17,
   "metadata": {},
   "outputs": [
    {
     "data": {
      "text/plain": [
       "array([[ 0.74350695, -1.35770144, -1.13170355, ..., -0.51266189,\n",
       "         1.36848607, -0.04228921],\n",
       "       [-0.12102898, -0.60564928,  0.14107327, ...,  0.84310984,\n",
       "        -0.66786732,  0.35056519],\n",
       "       [ 0.55410713, -0.77763157,  0.22405402, ...,  0.91207577,\n",
       "         0.57916098, -1.10666871],\n",
       "       ...,\n",
       "       [-0.54160612, -1.93993726,  0.26454019, ..., -0.94021204,\n",
       "        -0.68372163, -0.65533878],\n",
       "       [ 0.47192948,  0.01576277, -1.04546699, ...,  1.42663187,\n",
       "         1.57628001, -0.65770294],\n",
       "       [-0.08598147,  1.49257538,  0.13911103, ..., -0.97742667,\n",
       "         1.67768548,  1.53082942]])"
      ]
     },
     "execution_count": 17,
     "metadata": {},
     "output_type": "execute_result"
    }
   ],
   "source": [
    "rank = 200\n",
    "A = np.random.randn(rank, rank)\n",
    "A"
   ]
  },
  {
   "cell_type": "code",
   "execution_count": 18,
   "metadata": {},
   "outputs": [],
   "source": [
    "U, s, VT = np.linalg.svd(A)\n",
    "S = np.zeros_like(A)\n",
    "np.fill_diagonal(S, s)"
   ]
  },
  {
   "cell_type": "code",
   "execution_count": 19,
   "metadata": {},
   "outputs": [],
   "source": [
    "reconstruction_rank = range(1, len(s) + 1)\n",
    "error = np.zeros(len(reconstruction_rank))\n",
    "for r in range(len(reconstruction_rank)):  \n",
    "  AR = U[:,:reconstruction_rank[r]] @ S[:reconstruction_rank[r],:reconstruction_rank[r]] @ VT[:reconstruction_rank[r],:]\n",
    "  error[r] = np.sqrt(np.sum((A-AR)**2))"
   ]
  },
  {
   "cell_type": "code",
   "execution_count": 20,
   "metadata": {},
   "outputs": [],
   "source": [
    "import matplotlib.pyplot as plt"
   ]
  },
  {
   "cell_type": "code",
   "execution_count": 21,
   "metadata": {},
   "outputs": [
    {
     "data": {
      "text/plain": [
       "Text(0.5, 1.0, 'Точность реконструкции')"
      ]
     },
     "execution_count": 21,
     "metadata": {},
     "output_type": "execute_result"
    },
    {
     "data": {
      "image/png": "[encoded data removed]",
      "text/plain": [
       "<Figure size 1000x700 with 1 Axes>"
      ]
     },
     "metadata": {},
     "output_type": "display_data"
    }
   ],
   "source": [
    "plt.figure(figsize=(10,7))\n",
    "plt.plot(reconstruction_rank, error,'ks-')\n",
    "plt.xlabel('Ранг')\n",
    "plt.ylabel('Ошибка')\n",
    "plt.title('Точность реконструкции')"
   ]
  },
  {
   "cell_type": "markdown",
   "metadata": {},
   "source": [
    "## 2. Начала математического анализа"
   ]
  },
  {
   "cell_type": "markdown",
   "metadata": {},
   "source": [
    "**1(1)**. Найти матрицу Гессе следующей функции:\n",
    "$$\n",
    "    f(x,y) = x_1^3 - 2x_1x_2 + x_2^2 - 3x_1 - 2x_2.\n",
    "$$\n",
    "\\\n",
    "\\\n",
    "Найдите критические точки $x_c$, такие что $∇f(x_c) = 0$."
   ]
  },
  {
   "cell_type": "markdown",
   "metadata": {},
   "source": [
    "$ H(f)= \\begin{pmatrix} \\frac{\\partial^2 f}{\\partial^2 x_1} & \\frac{\\partial^2 f}{\\partial x_1 \\partial x_2} \\\\ \\frac{\\partial^2 f}{\\partial x_2 \\partial x_1} & \\frac{\\partial^2 f}{\\partial^2 x_2} \\end{pmatrix} = \\begin{pmatrix} 6x & -2 \\\\ -2 & 2 \\end{pmatrix}\n",
    "$\n",
    "\\\n",
    "\\\n",
    "Детальное описание нажождения производных я опустил, поскольку в данном случае это просто"
   ]
  },
  {
   "cell_type": "markdown",
   "metadata": {},
   "source": [
    "Нахождение критических точек"
   ]
  },
  {
   "cell_type": "markdown",
   "metadata": {},
   "source": [
    "$\n",
    "\\begin{cases}\n",
    "\\frac{\\partial f}{\\partial x_1} = 0 \\\\\n",
    "\\frac{\\partial f}{\\partial x_2} = 0\n",
    "\\end{cases}\n",
    "\\Leftrightarrow\n",
    "\\begin{cases}\n",
    "3x_1^2-2x_2-3 = 0 \\\\\n",
    "-2x_1+2x_2-2 = 0\n",
    "\\end{cases}\n",
    "\\Leftrightarrow\n",
    "\\begin{cases}\n",
    "3x_1^2-2x_1-2-3 = 0 \\\\\n",
    "2x_2 = 2x_1+2\n",
    "\\end{cases}\n",
    "\\Leftrightarrow\n",
    "\\begin{cases}\n",
    "3x_1^2-2x_1-5 = 0 \\\\\n",
    "x_2 = x_1+1\n",
    "\\end{cases}\n",
    "\\Rightarrow\n",
    "\\begin{cases}\n",
    "x_{1}=-1, x_{2}=0 \\\\\n",
    "x_{1}=\\frac{5}{3}, x_{2}=2\\frac{2}{3}\n",
    "\\end{cases}\n",
    "$"
   ]
  },
  {
   "cell_type": "markdown",
   "metadata": {},
   "source": [
    "**2(2)**. Проверьте, что функция $f = \\ln(\\sqrt{x} + \\sqrt{y})$ удовлетворяет уравнению:\n",
    "\n",
    "$$\n",
    "x \\frac{\\partial f}{\\partial x} + y \\frac{\\partial f}{\\partial y} = \\frac{1}{2}.\n",
    "$$"
   ]
  },
  {
   "cell_type": "markdown",
   "metadata": {},
   "source": [
    "##### Решение"
   ]
  },
  {
   "cell_type": "markdown",
   "metadata": {},
   "source": [
    "Пусть $v = \\sqrt{x} + \\sqrt{y}$ и $u = ln(v) $, тогда $\\frac{\\partial f}{\\partial x} = \\frac{\\partial u(v)}{\\partial v \\partial x} = \\frac{(u(v))'}{\\partial v\\partial x} = \\frac{u'(v)v'}{\\partial v\\partial x} = \\frac{(ln(v))'v'}{\\partial x} = \\frac{1}{v} \\frac{v'}{\\partial x} = \\frac{(\\sqrt{x} + \\sqrt{y})'}{(\\sqrt{x} + \\sqrt{y})\\partial{x}} = \\frac{1}{2}x^{- \\frac{1}{2}} \\cdot \\frac{1}{(\\sqrt{x} + \\sqrt{y})}=\\frac{1}{2\\sqrt{x}(\\sqrt{x} + \\sqrt{y})}$ \\\n",
    "Аналогично вычисляется частная производная по $y$: $\\frac{\\partial f}{\\partial y} = \\frac{1}{2\\sqrt{y}(\\sqrt{x} + \\sqrt{y})}$. Подставив выражения частных производных в проверяемое уравнение получим:\\\n",
    "$x \\frac{\\partial f}{\\partial x} + y \\frac{\\partial f}{\\partial y} = x \\frac{1}{2\\sqrt{x}(\\sqrt{x} + \\sqrt{y})} + y\\frac{1}{2\\sqrt{y}(\\sqrt{x} + \\sqrt{y})} = \\frac{x\\sqrt{y}(\\sqrt{x} + \\sqrt{y}) + y\\sqrt{x}(\\sqrt{x} + \\sqrt{y})}{2\\sqrt{x}(\\sqrt{x} + \\sqrt{y})\\sqrt{y}(\\sqrt{x} + \\sqrt{y})} = \\frac{xy+x\\sqrt{x}\\sqrt{y}+xy+y\\sqrt{x}\\sqrt{y}}{2(xy+x\\sqrt{x}\\sqrt{y}+y\\sqrt{x}\\sqrt{y}+xy)}=\\frac{1}{2}$"
   ]
  },
  {
   "cell_type": "markdown",
   "metadata": {},
   "source": [
    "**Исключена(3)**. Используя правило для вычисления производной сложной функции, найдите полный дифференциал $\\frac{df}{dt}$, если $$f = e^{xy}\\ln(x+y), \\quad x = 2t^2, \\quad y = 1 - 2t^2 .$$"
   ]
  },
  {
   "cell_type": "markdown",
   "metadata": {},
   "source": [
    "Если в выполнить подстановку $x$ и $y$ в выржение аргумента натурального логарифма, то получится $ln(2t^2 + 1 - 2t^2)=ln(1)=0$. Таким образом $f=0$ и, следовательно не имеет производной. Или я ошибаюсь?"
   ]
  },
  {
   "cell_type": "markdown",
   "metadata": {},
   "source": [
    "**3(4)**. Предположим, задана функция $f: \\mathbb{R}^3 \\rightarrow \\mathbb{R}^2$\n",
    "\n",
    "$$\n",
    "    f(x,y,z) = (x+y+z, xyz).\n",
    "$$\n",
    "\n",
    "   Найдите матрицу Якоби функции $f$, и её численное значение в точке $v = (1, 2, 3)$."
   ]
  },
  {
   "cell_type": "markdown",
   "metadata": {},
   "source": [
    "##### Решение"
   ]
  },
  {
   "cell_type": "markdown",
   "metadata": {},
   "source": [
    "Пусть $x=x_1, y=x_2, z=x_3$ и $y_1=x_1+x_2+x_3, y_2=x_1 x_2 x_3 $ "
   ]
  },
  {
   "cell_type": "markdown",
   "metadata": {},
   "source": [
    "$ J = \\begin{pmatrix} \\frac{\\partial y_1}{\\partial x_1} & \\frac{\\partial y_1}{\\partial x_2} & \\frac{\\partial y_1}{\\partial x_3} \\\\ \\frac{\\partial y_2}{\\partial x_1} & \\frac{\\partial y_2}{\\partial x_2} & \\frac{\\partial y_2}{\\partial x_3} \\end{pmatrix} = \\begin{pmatrix} 1 & 1 & 1 \\\\ x_2x_3 & x_1x_3 & x_1x_2 \\end{pmatrix} = \\begin{pmatrix} 1 & 1 & 1 \\\\ yz & xz & xy \\end{pmatrix}$"
   ]
  },
  {
   "cell_type": "markdown",
   "metadata": {},
   "source": [
    "Для $v=(1, 2, 3)$:\\\n",
    "\\\n",
    "$J_v = \\begin{pmatrix} 1 & 1 & 1 \\\\ 6 & 3 & 2 \\end{pmatrix}$"
   ]
  },
  {
   "cell_type": "markdown",
   "metadata": {},
   "source": [
    "**4**. (Куб евклидовой нормы). Найти первый и второй дифференциалы $df(x)$ и $d^2f(x)$, а также градиент $∇f(x)$ и гессиан $∇^2f(x)$ функции:\n",
    "$$\n",
    "f(x) = \\frac{1}{3}\\|x\\|_2^3, x ∈ R^n\\backslash\\lbrace 0 \\rbrace\n",
    "$$\n"
   ]
  },
  {
   "cell_type": "markdown",
   "metadata": {},
   "source": [
    "##### Первый дифференциал\n",
    "В данной задаче я буду использовать матрично-векторное дифференцирование.\n",
    "\\\n",
    "По определению нормы: $\\|x\\|_2^3=<x, x>^\\frac{3}{2}$, тогда\n",
    "$\n",
    "d(f(x))=d(\\frac{1}{3}<x, x>^\\frac{3}{2})=\\frac{1}{3}\\frac{3}{2}(<x, x>^{\\frac{1}{2}})d(<x, x>)\n",
    "$\n",
    "\\\n",
    "\\\n",
    "Легко показать, что $d(<x,x>)=<2x,dx>$, тогда\n",
    "\\\n",
    "\\\n",
    "$\n",
    "d(f(x))=\\frac{1}{2}\\|x\\|_{2}<2x,dx>=<\\|x\\|_{2}x,dx>\n",
    "$\n",
    "\\\n",
    "\\\n",
    "$\n",
    "d(f(x))=<\\|x\\|_{2}x, dx>\n",
    "$"
   ]
  },
  {
   "cell_type": "markdown",
   "metadata": {},
   "source": [
    "##### Градиент\n",
    "Согласно предущим выкладкам $\\nabla_x = \\|x\\|_{2}x$.\n",
    "\\\n",
    "Проверим это взяв частные производные.\n",
    "\\\n",
    "По аналогии с задачей 5:\n",
    "$\n",
    "\\nabla_x \\frac{1}{3}\\|x\\|_2^3 =\\lbrack \\frac{\\partial}{\\partial x_1}\\frac{1}{3}\\|x\\|_2^3, \\frac{\\partial}{\\partial x_2}\\frac{1}{3}\\|x\\|_2^3, \\cdots \\frac{\\partial}{\\partial x_n}\\frac{1}{3}\\|x\\|_2^3 \\rbrack = \\lbrack \\frac{1}{3}3\\|x\\|_2^2\\frac{\\partial}{\\partial x_1}\\|x\\|_2, \\frac{1}{3}3\\|x\\|_2^2\\frac{\\partial}{\\partial x_2}\\|x\\|_2, \\cdots \\frac{1}{3}3\\|x\\|_2^2\\frac{\\partial}{\\partial x_n}\\|x\\|_2 \\rbrack = \\|x\\|_2^2 \\lbrack \\frac{\\partial}{\\partial x_1}\\|x\\|_2, \\frac{\\partial}{\\partial x_2}\\|x\\|_2, \\cdots \\frac{\\partial}{\\partial x_n}\\|x\\|_2 \\rbrack = \\|x\\|_2x\n",
    "$"
   ]
  },
  {
   "cell_type": "markdown",
   "metadata": {},
   "source": [
    "##### Гессиан\n",
    "$\n",
    "\\nabla_x^2 \\frac{1}{3}\\|x\\|_2^3 = \\nabla_x \\|x\\|_2x = d(\\|x\\|_2x)\n",
    "$\n",
    "\\\n",
    "Используя результаты 5-й задачи - $d(\\|x\\|_2)=<\\frac{x}{\\|x\\|_2}, dx>$:\n",
    "\\\n",
    "$\n",
    "d(\\|x\\|_2x)=d(<x,x>^{\\frac{1}{2}}x)=xdx<x,x>^{\\frac{1}{2}}+xd(<x,x>^{\\frac{1}{2}})=<x,x>^{\\frac{1}{2}}dx+x\\frac{x}{\\|x\\|_2}dx=\\|x\\|_2dx+\\frac{\\|x\\|_2^2}{\\|x\\|_2}dx=2\\|x\\|_2dx\n",
    "$\n",
    "\\\n",
    "$\n",
    "\\nabla_x^2=2\\|x\\|_2\n",
    "$"
   ]
  },
  {
   "cell_type": "markdown",
   "metadata": {},
   "source": [
    "**5**. (Евклидова норма). Найдите первый дифференциал $df(x)$, и градиент $∇f(x)$ функции:\n",
    "$$\n",
    "f(x) = \\|x\\|_2, x ∈ R^n\\backslash\\lbrace 0 \\rbrace$$"
   ]
  },
  {
   "cell_type": "markdown",
   "metadata": {},
   "source": [
    "##### Дифференциал\n",
    "\n",
    "По определению $\\|x\\|_2 = \\sqrt{\\sum_{i=1}^n{(x_{i})^2}}$. Используя правило производной сложной функции $(u(v))'=u'(v)v'$, где u - $\\sqrt{v}$ и $u'=\\frac{1}{2\\sqrt{v}}$ и $v=\\sum_{i=1}^n{(x_{i})^2}$, получим:\n",
    "\\\n",
    "$\n",
    "\\frac{d}{dx}(\\|x\\|_2) = \\frac{du}{dv}\\frac{dv}{dx} = \\frac{1}{2\\sqrt{v}}\\frac{dv}{dx}=\\frac{1}{2\\|x\\|_2}\\frac{d}{dx}\\sum_{i=1}^n{(x_{i})^2}=\\frac{1}{2\\|x\\|_2}\\sum{\\frac{2x_idx_i}{dx}} = \\frac{1}{2\\|x\\|_2}(2x_1(1, 0_2\\dots 0_n) + \\cdots + 2x_n(0_1,0_2 \\dots 1_n))=\\frac{x}{\\|x\\|_2}\n",
    "$,\n",
    "\\\n",
    "тогда дифференциал функции $df(x) = <\\frac{x}{\\|x\\|_2}, dx>$"
   ]
  },
  {
   "cell_type": "markdown",
   "metadata": {},
   "source": [
    "##### Градиент\n",
    "$\n",
    "\\nabla_x \\|x\\|_2 =\\lbrack \\frac{\\partial}{\\partial x_1}\\|x\\|_2, \\frac{\\partial}{\\partial x_2}\\|x\\|_2, \\cdots \\frac{\\partial}{\\partial x_n}\\|x\\|_2 \\rbrack\n",
    "$\n",
    "По определению $\\|x\\|_2 = \\sqrt{\\sum_{i=1}^n{(x_{i})^2}}$. Используя правило производной сложной функции $(u(v))'=u'(v)v'$, где u - $\\sqrt{v}$ и $u'=\\frac{1}{2\\sqrt{v}}$ и $v=\\sum_{i=1}^n{(x_{i})^2}$, получим: $\\lbrack \\frac{1}{2\\cdot \\|x\\|} \\frac{\\partial}{\\partial x_1}\\sum_{i=1}^n{(x_{i})^2}, \\frac{1}{2\\cdot \\|x\\|} \\frac{\\partial}{\\partial x_2}\\sum_{i=1}^n{(x_{i})^2}, \\cdots \\frac{1}{2\\cdot \\|x\\|}\\frac{\\partial}{\\partial x_n}\\sum_{i=1}^n{(x_{i})^2} \\rbrack$. Вынесем общий знаменатель и учитывая, что $\\frac{\\partial}{\\partial x_i}\\sum_{i=1}^n{(x_{i})^2} = 2x_i$ (поскольку члены суммы не равные $i$ при $\\partial{x_i}$ обращаются в ноль - являются константами), получим: $\\frac{1}{2\\cdot \\|x\\|} \\lbrack 2x_1, 2x_2, \\cdots 2x_n \\rbrack$. И тогда: $\\nabla_x \\|x\\|_2=\\frac{x}{\\|x\\|_2}$.\n"
   ]
  },
  {
   "cell_type": "markdown",
   "metadata": {},
   "source": [
    "**6**. Найдите первый дифференциал $df(x)$ и градиент $∇f(x)$ функции:\n",
    "$$\n",
    "f(x) = \\|Ax\\|_2, x ∈ R^n \\backslash \\lbrace 0 \\rbrace, A ∈ R^{m×n}\n",
    "$$"
   ]
  },
  {
   "cell_type": "markdown",
   "metadata": {},
   "source": [
    "##### Дифференциал\n",
    "\n",
    "В данной задаче я буду использовать, в отличие от предыдущей задачи, матрично-векторное дифференцирование. По определению $\\|Ax\\|=<Ax, Ax>^\\frac{1}{2}$, тогда\n",
    "$\n",
    "d(f(x))=d(<Ax, Ax>^\\frac{1}{2})=\\frac{1}{2}(<Ax, Ax>^{-\\frac{1}{2}})d(<Ax, Ax>)\n",
    "$\n",
    "\\\n",
    "\\\n",
    "Отдельно вычислим $d(<Ax, Ax>)$. Для это используется правило дифференцирования произведения функций и свойства коммутативности и линейности скалярного произведения:\n",
    "\\\n",
    "$\n",
    "d(<Ax, Ax>)=<dAx, Ax> + <Ax, dAx>=<Adx, Ax> + <Ax, Adx>=<Ax, Adx> + <A^TAx, dx>=<A^TAx, dx> + <A^TAx, dx>=<2A^TAx, dx>\n",
    "$\n",
    "\\\n",
    "\\\n",
    "Тогда, зная, что $<Ax, Ax>^\\frac{1}{2}=\\|Ax\\|$ и является скаляром, можно записать:\n",
    "\\\n",
    "\\\n",
    "$\n",
    "d(f(x))=<Ax, Ax>^{-\\frac{1}{2}}<A^TAx, dx>=<\\frac{A^TAx}{\\|Ax\\|}, dx>\n",
    "$"
   ]
  },
  {
   "cell_type": "markdown",
   "metadata": {},
   "source": [
    "##### Градиент\n",
    "\n",
    "Согласно уравнению дифференциала, $∇f(x)=\\frac{A^TAx}{\\|Ax\\|}$"
   ]
  },
  {
   "cell_type": "markdown",
   "metadata": {},
   "source": [
    "**7**. Найдите первый дифференциал $df(x)$ и градиент $∇f(x)$ функции:\n",
    "$$\n",
    "f(x) = −e^{−x^⊤x}, x ∈ R^n\n",
    "$$"
   ]
  },
  {
   "cell_type": "markdown",
   "metadata": {},
   "source": [
    "##### Дифференциал\n",
    "Используя правило производной сложной функции, $u=-x^Tx$ и $\\frac{d}{du}e^u = e^u$ получим, что\n",
    "\\\n",
    "$\n",
    "\\frac{d}{dx}(−e^{−x^⊤x}) = \\frac{de^u}{du} \\frac{du}{dx}=−e^{−x^⊤x}(\\frac{d}{dx}(-x^Tx)) =2e^{−x^⊤x}x^T, \n",
    "$\n",
    "поскольку $\\frac{d}{dx}(-x^Tx) =-2x^T$\n"
   ]
  },
  {
   "cell_type": "markdown",
   "metadata": {},
   "source": [
    "##### Градиент\n",
    "\n",
    "$\n",
    "\\nabla_x (−e^{−x^⊤x}) =\\lbrack \\frac{\\partial}{\\partial x_1}(−e^{−x^⊤x}), \\frac{\\partial}{\\partial x_2}(−e^{−x^⊤x}), \\cdots \\frac{\\partial}{\\partial x_n}(−e^{−x^⊤x}) \\rbrack $. Согласно правилам, использованным при нахождении дифференциала, и $\\frac{\\partial}{\\partial x_i}(-x^Tx)=-2x_i$ - взятие частной производной по $x_i$ суммы квадратов (векторного произведения) будет применено к $x_i^2$, поскольку остальные члены, с индексом отличным от $i$, обращаются в 0. Таким образом, получаем, что $\\nabla_x (−e^{−x^⊤x}) = e^{−x^⊤x}\\lbrack 2x_1, 2x_2, \\cdots 2x_n\\rbrack = 2e^{−x^⊤x}x^T\n",
    "$"
   ]
  },
  {
   "cell_type": "code",
   "execution_count": null,
   "metadata": {},
   "outputs": [],
   "source": []
  }
 ],
 "metadata": {
  "kernelspec": {
   "display_name": "Python 3",
   "language": "python",
   "name": "python3"
  },
  "language_info": {
   "codemirror_mode": {
    "name": "ipython",
    "version": 3
   },
   "file_extension": ".py",
   "mimetype": "text/x-python",
   "name": "python",
   "nbconvert_exporter": "python",
   "pygments_lexer": "ipython3",
   "version": "3.11.5"
  }
 },
 "nbformat": 4,
 "nbformat_minor": 2
}
