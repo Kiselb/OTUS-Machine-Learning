{
 "cells": [
  {
   "cell_type": "code",
   "execution_count": 1,
   "metadata": {},
   "outputs": [],
   "source": [
    "import numpy as np"
   ]
  },
  {
   "cell_type": "markdown",
   "metadata": {},
   "source": [
    "## Basic ML Homework\n",
    "### Модуль 4: Теоретический минимум для ML: линейная алгебра, начала мат.анализа"
   ]
  },
  {
   "cell_type": "markdown",
   "metadata": {},
   "source": [
    "## 1. Линейная алгебра"
   ]
  },
  {
   "cell_type": "markdown",
   "metadata": {},
   "source": [
    "1.1 Даны матрицы $A = \\begin{pmatrix}\n",
    "2 & −4 \\\\\n",
    "3 & 5 \\\\\n",
    "−1 & 0 \n",
    "\\end{pmatrix},\n",
    "$\n",
    "$B = \\begin{pmatrix}1 & 2 & 7 \\\\ −3 & −4 & 0 \\\\ 5 & 2 & 1 \\end{pmatrix}$, $C = \\begin{pmatrix}\n",
    "6 & −3 & 9 \\\\\n",
    "4 & −5 & 2 \\\\\n",
    "8 & 1 & 5\n",
    "\\end{pmatrix}.$\n",
    "\n",
    "Посчитайте матрицу $D = A^{\\top}C - 2A^{\\top}B^{\\top}$. Приведите полную последовательность вычислений."
   ]
  },
  {
   "cell_type": "markdown",
   "metadata": {},
   "source": [
    "#### Решение:"
   ]
  },
  {
   "cell_type": "markdown",
   "metadata": {},
   "source": [
    "$ \\mathbf{A}^\\intercal = \\begin{pmatrix} 2 & 3 & -1 \\\\ −4 & 5 & 0 \\end{pmatrix} $"
   ]
  },
  {
   "cell_type": "markdown",
   "metadata": {},
   "source": [
    "$ \\mathbf{B}^\\intercal = \\begin{pmatrix} 1 & -3 & 5 \\\\ 2 & -4 & 2 \\\\ 7 & 0 & 1 \\end{pmatrix} $"
   ]
  },
  {
   "cell_type": "markdown",
   "metadata": {},
   "source": [
    "$ \\mathbf{D} = \\begin{pmatrix} 2 & 3 & -1 \\\\ −4 & 5 & 0 \\end{pmatrix} \\cdot \\begin{pmatrix} 6 & -3 & 9 \\\\ 4 & -5 & 2 \\\\ 8 & 1 & 5 \\end{pmatrix} -\n",
    "2 \\cdot \\begin{pmatrix} 2 & 3 & -1 \\\\ −4 & 5 & 0 \\end{pmatrix} \\cdot \\begin{pmatrix} 1 & -3 & 5 \\\\ 2 & -4 & 2 \\\\ 7 & 0 & 1 \\end{pmatrix} $"
   ]
  },
  {
   "cell_type": "markdown",
   "metadata": {},
   "source": [
    "$ \\mathbf{D} = \\begin{pmatrix} 16 & -22 & 19 \\\\ −4 & -13 & -26 \\end{pmatrix} -\n",
    "2 \\cdot \\begin{pmatrix} 1 & -18 & 15 \\\\ 6 & -8 & -10 \\end{pmatrix} $"
   ]
  },
  {
   "cell_type": "markdown",
   "metadata": {},
   "source": [
    "$ \\mathbf{D} = \\begin{pmatrix} 16 & -22 & 19 \\\\ −4 & -13 & -26 \\end{pmatrix} -\n",
    "\\begin{pmatrix} 2 & -36 & 30 \\\\ 12 & -16 & -20 \\end{pmatrix} $"
   ]
  },
  {
   "cell_type": "markdown",
   "metadata": {},
   "source": [
    "$ \\mathbf{D} = \\begin{pmatrix} 14 & 14 & -11 \\\\ −16 & 3 & -6 \\end{pmatrix} $"
   ]
  },
  {
   "cell_type": "markdown",
   "metadata": {},
   "source": [
    "#### Проверка:"
   ]
  },
  {
   "cell_type": "code",
   "execution_count": null,
   "metadata": {},
   "outputs": [
    {
     "data": {
      "text/plain": [
       "array([[ 2, -4],\n",
       "       [ 3,  5],\n",
       "       [-1,  0]])"
      ]
     },
     "metadata": {},
     "output_type": "display_data"
    }
   ],
   "source": [
    "A = np.array((2, -4, 3, 5, -1, 0))\n",
    "A = np.reshape(A, (3, 2))\n",
    "A "
   ]
  },
  {
   "cell_type": "code",
   "execution_count": null,
   "metadata": {},
   "outputs": [
    {
     "data": {
      "text/plain": [
       "array([[ 1,  2,  7],\n",
       "       [-3, -4,  0],\n",
       "       [ 5,  2,  1]])"
      ]
     },
     "metadata": {},
     "output_type": "display_data"
    }
   ],
   "source": [
    "B = np.array((1, 2, 7, -3, -4, 0, 5, 2, 1))\n",
    "B = np.reshape(B, (3, 3))\n",
    "B"
   ]
  },
  {
   "cell_type": "code",
   "execution_count": null,
   "metadata": {},
   "outputs": [
    {
     "data": {
      "text/plain": [
       "array([[ 6, -3,  9],\n",
       "       [ 4, -5,  2],\n",
       "       [ 8,  1,  5]])"
      ]
     },
     "metadata": {},
     "output_type": "display_data"
    }
   ],
   "source": [
    "C = np.array((6, -3, 9, 4, -5, 2, 8, 1, 5))\n",
    "C = np.reshape(C, (3, 3))\n",
    "C"
   ]
  },
  {
   "cell_type": "code",
   "execution_count": 7,
   "metadata": {},
   "outputs": [
    {
     "data": {
      "text/plain": [
       "array([[ 14,  14, -11],\n",
       "       [-16,   3,  -6]])"
      ]
     },
     "execution_count": 7,
     "metadata": {},
     "output_type": "execute_result"
    }
   ],
   "source": [
    "D = A.T @ C - 2 * A.T @ B.T\n",
    "D"
   ]
  },
  {
   "cell_type": "markdown",
   "metadata": {},
   "source": [
    "1.2 Дано:\n",
    "\n",
    "$ 3 \\cdot \\begin{pmatrix} x & 2 & 3 \\\\ −1 & y & 4 \\end{pmatrix} +\n",
    "2 \\cdot \\begin{pmatrix} 1 & 2 & −5 \\\\ 2 & −6 & z \\end{pmatrix} =\n",
    "\\begin{pmatrix}\n",
    "8 & v & −1 \\\\\n",
    "1 & 6 & 4 \\end{pmatrix}. $\n",
    "\n",
    "Найдите значения $x$, $y$, $z$, и $v$."
   ]
  },
  {
   "cell_type": "markdown",
   "metadata": {},
   "source": [
    "### Решение:"
   ]
  },
  {
   "cell_type": "markdown",
   "metadata": {},
   "source": [
    "$ 3 \\cdot \\begin{pmatrix} x & 2 & 3 \\\\ −1 & y & 4 \\end{pmatrix} +\n",
    "2 \\cdot \\begin{pmatrix} 1 & 2 & −5 \\\\ 2 & −6 & z \\end{pmatrix} -\n",
    "\\begin{pmatrix}\n",
    "8 & v & −1 \\\\\n",
    "1 & 6 & 4 \\end{pmatrix} =\n",
    "\\begin{pmatrix}\n",
    "0 & 0 & 0 \\\\\n",
    "0 & 0 & 0 \\end{pmatrix} $"
   ]
  },
  {
   "cell_type": "markdown",
   "metadata": {},
   "source": [
    "$ \\begin{pmatrix} 3x + 2 - 8 & 6 + 4 - v & 9 - 10 + 1 \\\\ -3 + 4 - 1 & 3y - 12 - 6 & 12 + 2z - 4 \\end{pmatrix} =\n",
    "\\begin{pmatrix}\n",
    "0 & 0 & 0 \\\\\n",
    "0 & 0 & 0 \\end{pmatrix} $"
   ]
  },
  {
   "cell_type": "markdown",
   "metadata": {},
   "source": [
    "$ \\begin{pmatrix} 3x - 6 & 10 - v & 0 \\\\ 0 & 3y - 18 & 2z + 8 \\end{pmatrix} =\n",
    "\\begin{pmatrix}\n",
    "0 & 0 & 0 \\\\\n",
    "0 & 0 & 0 \\end{pmatrix} $"
   ]
  },
  {
   "cell_type": "markdown",
   "metadata": {},
   "source": [
    "$ \n",
    "    \\begin{aligned}\n",
    "    &3x - 6 = 0 \\\\\n",
    "    &10 - v = 0 \\\\\n",
    "    &3y - 18 = 0 \\\\\n",
    "    &2z + 8 = 0\n",
    "    \\end{aligned}\n",
    "$"
   ]
  },
  {
   "cell_type": "markdown",
   "metadata": {},
   "source": [
    "$ \n",
    "    \\begin{aligned}\n",
    "    &x = 2 \\\\\n",
    "    &v = 10 \\\\\n",
    "    &y = 6 \\\\\n",
    "    &z = -4\n",
    "    \\end{aligned}\n",
    "$"
   ]
  },
  {
   "cell_type": "markdown",
   "metadata": {},
   "source": [
    "#### Проверка:"
   ]
  },
  {
   "cell_type": "code",
   "execution_count": 18,
   "metadata": {},
   "outputs": [
    {
     "data": {
      "text/plain": [
       "array([[0, 0, 0],\n",
       "       [0, 0, 0]])"
      ]
     },
     "execution_count": 18,
     "metadata": {},
     "output_type": "execute_result"
    }
   ],
   "source": [
    "R = 3 * np.reshape(np.array((2, 2, 3, -1, 6, 4)), (2, 3)) + 2 * np.reshape(np.array((1, 2, -5, 2, -6, -4)), (2, 3)) - np.reshape(np.array((8, 10, -1, 1, 6, 4)), (2, 3))\n",
    "R"
   ]
  },
  {
   "cell_type": "markdown",
   "metadata": {},
   "source": [
    "1.3 На множестве $\\mathbf{M}$ всех упорядоченных пар $(u; v)$ положительных чисел операции сложения и умножения введены\n",
    "следующим образом:\n",
    "\n",
    "$$\n",
    "(u_1; v_1) + (u_2; v_2) = (u_1 \\cdot u_2; v_1 \\cdot v_2); \n",
    "λ(u; v) = (u^{\\lambda}; v^{\\lambda}),\n",
    "$$\n",
    "\n",
    "где $\\lambda$ – вещественное число. Докажите, что при этом множество $\\mathbf{M}$ становится линейным пространством. Выясните: а) какая пара играет роль нулевого элемента; б) какая пара является противоположной паре $(u; v)$; в) укажите размерность этого пространства и какой-нибудь его базис."
   ]
  },
  {
   "cell_type": "markdown",
   "metadata": {},
   "source": [
    "#### Доказательство:"
   ]
  },
  {
   "cell_type": "markdown",
   "metadata": {},
   "source": [
    "##### Определение линейного пространства:"
   ]
  },
  {
   "cell_type": "markdown",
   "metadata": {},
   "source": [
    "Множество $L$  называется линейным или векторным пространством, если для всех элементов (векторов) этого множества определены операции сложения и умножения на число и справедливо:\n",
    "1. Каждой паре элементов $x$ и $y$ из $L$ отвечает элемент $x + y$ из $L$, называемый суммой $x$ и $y$, причём:\n",
    "    1. $x + y = y + x$ − сложение коммутативно;\n",
    "    2. $x + (y + z) = (x + y) + z$ − сложение ассоциативно;\n",
    "    3. $x + 0 = x$ − существует единственный нейтральный элемент $0$ $( x + 0 = x$ для любого $x$ из $L)$;\n",
    "    4. $x + (− x) = 0$ − для каждого элемента $x$ из $L$ существует единственный противоположный элемент $−x$ $( x + (−x) = 0$ для любого $x$ из $L)$.\n",
    "\n",
    "2. Каждой паре $x$ и $α$, где $α$ − число, а $x$ элемент из $L$, отвечает элемент $α·x$, наываемый произведением $α$ и $x$, причём:\n",
    "    1. $α·(β·x) = (α·β)·x$ − умножнение на число ассоциативно;\n",
    "    2. $1·x = x$ − для любого элемента $x$ из $L$.\n",
    "    \n",
    "3. Операции сложения и умножения на число связаны соотношениями:\n",
    "    1. $α·(x + y) = α·x + α·y$ − умножнение на число дистрибутивно относительно сложения элементов;\n",
    "    2. $(α + β)·x = α·x + β·x$ − умножнение на вектор дистрибутивно относительно сложения чисел."
   ]
  },
  {
   "cell_type": "markdown",
   "metadata": {},
   "source": [
    "1.1. Коммутативность\\\n",
    "$\n",
    "    \\begin{aligned}\n",
    "    (u_1;v_1) + (u_2;v_2) = (u_1 \\cdot u_2; v_1 \\cdot v_2) = (u_2 \\cdot u_1; v_2 \\cdot v_1) = (u_2;v_2) + (u_1;v_1) \n",
    "    \\end{aligned}\n",
    "$, поскольку элементарное умножение коммутативно"
   ]
  },
  {
   "cell_type": "markdown",
   "metadata": {},
   "source": [
    "1.2. Ассоциативность\\\n",
    "$ (u_1;v_1) + ((u_2;v_2) + (u_3;v_3)) = (u_1;v_1) + (u_2 \\cdot u_3; v_2 \\cdot v_3) =  (u_1 \\cdot u_2 \\cdot u_3; v_1 \\cdot v_2 \\cdot v_3)$ $(1)$\\\n",
    "$ ((u_1;v_1) + (u_2;v_2)) + (u_3;v_3) = (u_1 \\cdot u_2; v_1 \\cdot v_2) + (u_3;v_3) =  (u_1 \\cdot u_2 \\cdot u_3; v_1 \\cdot v_2 \\cdot v_3)$ $(2)$\\\n",
    "$(1) = (2)$"
   ]
  },
  {
   "cell_type": "markdown",
   "metadata": {},
   "source": [
    "1.3. Нейтральный элемент\\\n",
    "$ 0 = (1; 1)$\\\n",
    "$(u; v) + 0 = (u; v) + (1; 1) = (u \\cdot 1; v \\cdot 1) = (u; v)$"
   ]
  },
  {
   "cell_type": "markdown",
   "metadata": {},
   "source": [
    "1.4. Противоположный элемент\\\n",
    "$ -(u; v) = (1 / u; 1 / v) $\\\n",
    "$(u; v) + (-(u; v)) = (u; v) + (1 / u; 1 / v) = (u / u; v / v) = (1; 1) = 0 $"
   ]
  },
  {
   "cell_type": "markdown",
   "metadata": {},
   "source": [
    "1.4 Докажите, что множество всех квадратных матриц второго порядка с известными операциями сложения и умножения на число образуют четырехмерное линейное пространство. Укажите какой-нибудь базис этого пространства."
   ]
  },
  {
   "cell_type": "markdown",
   "metadata": {},
   "source": [
    "1.5 Укажите те значения параметров $p$ и $q$, при которых\n",
    "ранг матрицы $A = \\begin{pmatrix} 1 & 2 & 3 \\\\ 3 & 6 & p \\\\ 5 & 10 & q \\end{pmatrix}$ равен единице."
   ]
  },
  {
   "cell_type": "markdown",
   "metadata": {},
   "source": [
    "#### Решение:"
   ]
  },
  {
   "cell_type": "markdown",
   "metadata": {},
   "source": [
    "Ранг 1 матрицы A означает, что все столбцы можно выразить через один столбец. Таким столбцом является, например, первый столбец матрицы A. Приведённые ниже уравнения справедливы и для двух других столбцов, с соответствующими коэффициентами  "
   ]
  },
  {
   "cell_type": "markdown",
   "metadata": {},
   "source": [
    "$ \\lambda \\cdot \\begin{pmatrix} 1 \\\\ 3 \\\\ 5 \\end{pmatrix} = \\begin{pmatrix} 2 \\\\ 6 \\\\ 10 \\end{pmatrix} \\Rightarrow \\lambda = 2 $"
   ]
  },
  {
   "cell_type": "markdown",
   "metadata": {},
   "source": [
    "$ \\lambda \\cdot \\begin{pmatrix} 1 \\\\ 3 \\\\ 5 \\end{pmatrix} = \\begin{pmatrix} 3 \\\\ p \\\\ q \\end{pmatrix} \\Rightarrow \\lambda = 3$, при  $p = 9$ и $q = 15$"
   ]
  },
  {
   "cell_type": "markdown",
   "metadata": {},
   "source": [
    "#### Проверка:"
   ]
  },
  {
   "cell_type": "code",
   "execution_count": 13,
   "metadata": {},
   "outputs": [],
   "source": [
    "p = 9\n",
    "q = 15"
   ]
  },
  {
   "cell_type": "code",
   "execution_count": 14,
   "metadata": {},
   "outputs": [
    {
     "data": {
      "text/plain": [
       "array([[ 1,  2,  3],\n",
       "       [ 3,  6,  9],\n",
       "       [ 5, 10, 15]])"
      ]
     },
     "execution_count": 14,
     "metadata": {},
     "output_type": "execute_result"
    }
   ],
   "source": [
    "A = np.array((1, 2, 3, 3, 6, p, 5, 10, q))\n",
    "A = np.reshape(A, (3, 3))\n",
    "A"
   ]
  },
  {
   "cell_type": "code",
   "execution_count": 15,
   "metadata": {},
   "outputs": [
    {
     "data": {
      "text/plain": [
       "1"
      ]
     },
     "execution_count": 15,
     "metadata": {},
     "output_type": "execute_result"
    }
   ],
   "source": [
    "rank = np.linalg.matrix_rank(A)\n",
    "rank"
   ]
  },
  {
   "cell_type": "markdown",
   "metadata": {},
   "source": [
    "1.6 Относительно канонического базиса в $\\mathbb{R}^2$ даны три вектора $f_1 = (2, −5)$, $f_2 = (−1, 3)$, $x = (1, −4)$. Докажите, что векторы $f_1$ и $f_2$ можно принять за новый базис, и найдите координаты вектора $x$ в этом базисе"
   ]
  },
  {
   "cell_type": "markdown",
   "metadata": {},
   "source": [
    "1.7 Предположим, что существует линейный оператор, выраженный в базисе $(e_1, e_2)$ в виде матрицы $A = \\begin{pmatrix} 1 & 0 \\\\ 0 & 2 \\end{pmatrix}$. Найдите матрицу данного оператора в базисе из векторов $(\\tilde{e}_1, \\tilde{e}_2)$, если:\n",
    "\n",
    "$$\n",
    "\\begin{cases}\n",
    "\\tilde{e}_1 = -2e_1 + 5e_2 \\\\\n",
    "\\tilde{e}_2 = -e_1 + 2e_2\n",
    "\\end{cases}.\n",
    "$$"
   ]
  },
  {
   "cell_type": "markdown",
   "metadata": {},
   "source": [
    "## 2. Начала математического анализа"
   ]
  },
  {
   "cell_type": "markdown",
   "metadata": {},
   "source": [
    "1. Найти матрицу Гессе следующей функции:\n",
    "$$\n",
    "    f(x,y) = x^3 - 2xy + y^2 - 3x - 2y.\n",
    "$$\n",
    "\n",
    "    Доп.задание (явно в курсе не обсуждалось): найдите точки локального экстремума функции $f$."
   ]
  },
  {
   "cell_type": "markdown",
   "metadata": {},
   "source": [
    "2. Проверьте, что функция $f = \\ln(\\sqrt{x} + \\sqrt{y})$ удовлетворяет уравнению:\n",
    "\n",
    "$$\n",
    "x \\frac{\\partial f}{\\partial x} + y \\frac{\\partial f}{\\partial y} = \\frac{1}{2}.\n",
    "$$"
   ]
  },
  {
   "cell_type": "markdown",
   "metadata": {},
   "source": [
    "3. Используя правило для вычисления производной сложной функции, найдите полный дифференциал $\\frac{df}{dt}$, если $$f = e^{xy}\\ln(x+y), \\quad x = 2t^2, \\quad y = 1 - 2t^2 .$$"
   ]
  },
  {
   "cell_type": "markdown",
   "metadata": {},
   "source": [
    "4. Предположим, задана функция $f: \\mathbb{R}^3 \\rightarrow \\mathbb{R}^2$\n",
    "\n",
    "$$\n",
    "    f(x,y,z) = (x+y+z, xyz).\n",
    "$$\n",
    "\n",
    "   Найдите матрицу Якоби функции $f$, и её численное значение в точке $v = (1, 2, 3)$."
   ]
  },
  {
   "cell_type": "code",
   "execution_count": null,
   "metadata": {},
   "outputs": [],
   "source": []
  }
 ],
 "metadata": {
  "kernelspec": {
   "display_name": "Python 3",
   "language": "python",
   "name": "python3"
  },
  "language_info": {
   "codemirror_mode": {
    "name": "ipython",
    "version": 3
   },
   "file_extension": ".py",
   "mimetype": "text/x-python",
   "name": "python",
   "nbconvert_exporter": "python",
   "pygments_lexer": "ipython3",
   "version": "3.11.5"
  }
 },
 "nbformat": 4,
 "nbformat_minor": 2
}
