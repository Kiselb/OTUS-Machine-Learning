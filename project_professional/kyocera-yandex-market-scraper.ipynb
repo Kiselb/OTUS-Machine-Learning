{
 "cells": [
  {
   "cell_type": "code",
   "execution_count": 1,
   "metadata": {},
   "outputs": [],
   "source": [
    "from selenium import webdriver\n",
    "from selenium.webdriver.chrome.service import Service\n",
    "from selenium.webdriver.chrome.options import Options\n",
    "from selenium.webdriver.common.by import By\n",
    "from selenium.webdriver.support.ui import WebDriverWait\n",
    "from selenium.webdriver.support import expected_conditions as EC"
   ]
  },
  {
   "cell_type": "code",
   "execution_count": 2,
   "metadata": {},
   "outputs": [],
   "source": [
    "executable_path = \"C:\\Program Files (x86)\\chromedriver.exe\"\n",
    "\n",
    "chrome_service = webdriver.ChromeService(executable_path=executable_path)\n",
    "driver = webdriver.Chrome(service = chrome_service)\n",
    "\n",
    "driver.get(\"https://market.yandex.ru/\")\n",
    "driver.maximize_window()"
   ]
  },
  {
   "cell_type": "code",
   "execution_count": 49,
   "metadata": {},
   "outputs": [],
   "source": [
    "# //*[@id=\"MainHeader\"]/div/header/div[1]/div/div/div/div/div/div/form/div[1]/div/div/div/button\n",
    "clear_button = driver.find_element(By.XPATH, '//*[@id=\"MainHeader\"]/div/header/div[1]/div/div/div/div/div/div/form/div[1]/div/div/div/button')\n",
    "clear_button.click()"
   ]
  },
  {
   "cell_type": "code",
   "execution_count": 50,
   "metadata": {},
   "outputs": [
    {
     "data": {
      "text/plain": [
       "<selenium.webdriver.remote.webelement.WebElement (session=\"5977f7c5176b83e9443f3c429fd356ed\", element=\"f.B4CB0EB9A47F4CEFA1EE18DD8D426825.d.8F026F5D4F1FB12619D0250B3248F04C.e.129033\")>"
      ]
     },
     "execution_count": 50,
     "metadata": {},
     "output_type": "execute_result"
    }
   ],
   "source": [
    "# //*[@id=\"header-search\"]\n",
    "search = driver.find_element(By.ID, \"header-search\")\n",
    "search"
   ]
  },
  {
   "cell_type": "code",
   "execution_count": 51,
   "metadata": {},
   "outputs": [],
   "source": [
    "search.send_keys(\"110c0z3nl0\")"
   ]
  },
  {
   "cell_type": "code",
   "execution_count": 52,
   "metadata": {},
   "outputs": [],
   "source": [
    "# //*[@id=\"MainHeader\"]/div/header/div[1]/div/div/div/div/div/div/form/div[1]/button\n",
    "button = driver.find_element(By.XPATH, '//*[@id=\"MainHeader\"]/div/header/div[1]/div/div/div/div/div/div/form/div[1]/button')\n",
    "button.click()"
   ]
  },
  {
   "cell_type": "code",
   "execution_count": 24,
   "metadata": {},
   "outputs": [],
   "source": [
    "import time"
   ]
  },
  {
   "cell_type": "code",
   "execution_count": 53,
   "metadata": {},
   "outputs": [],
   "source": [
    "time.sleep(5)\n",
    "\n",
    "# //*[@id=\"/content/page/fancyPage/cms/4/SearchFilters-SearchFilters\"]/div/div/div/div/div[4]/div/fieldset/div/div/div[2]/div[2]/button\n",
    "button_manufacturer_more = driver.find_element(By.XPATH, '//*[@id=\"/content/page/fancyPage/cms/4/SearchFilters-SearchFilters\"]/div/div/div/div/div[4]/div/fieldset/div/div/div[2]/div[2]/button')\n",
    "button_manufacturer_more.click()"
   ]
  },
  {
   "cell_type": "code",
   "execution_count": 61,
   "metadata": {},
   "outputs": [],
   "source": [
    "# /html/body/div[1]/div/div[2]/div/div/div[2]/div/div/div[5]/div/div/div/div/div/aside/div/div[3]/div/div/div/div/div[4]/div/fieldset/div/div/div[1]/div/div/div/div/input\n",
    "search_manufacturer = driver.find_element(By.XPATH, '/html/body/div[1]/div/div[2]/div/div/div[2]/div/div/div[5]/div/div/div/div/div/aside/div/div[3]/div/div/div/div/div[4]/div/fieldset/div/div/div[1]/div/div/div/div/input')\n",
    "search_manufacturer.send_keys(\"KYOCERA\")"
   ]
  },
  {
   "cell_type": "code",
   "execution_count": 62,
   "metadata": {},
   "outputs": [],
   "source": [
    "# //*[@id=\"/content/page/fancyPage/cms/4/SearchFilters-SearchFilters\"]/div/div/div/div/div[4]/div/fieldset/div/div/div[2]/div/div/div/div/label\n",
    "select_manufacturer = driver.find_element(By.XPATH, '//*[@id=\"/content/page/fancyPage/cms/4/SearchFilters-SearchFilters\"]/div/div/div/div/div[4]/div/fieldset/div/div/div[2]/div/div/div/div/label')\n",
    "select_manufacturer.click()"
   ]
  },
  {
   "cell_type": "code",
   "execution_count": 57,
   "metadata": {},
   "outputs": [],
   "source": [
    "# //*[@id=\"/content/page/fancyPage/cms/4/SearchFilters-SearchFilters\"]/div/div/div/div/div[4]/div/fieldset/div/div/div[2]/div[1]/div/div/div/div/div/div[16]/div/label\n",
    "button_kyocera = driver.find_element(By.XPATH, '//*[@id=\"/content/page/fancyPage/cms/4/SearchFilters-SearchFilters\"]/div/div/div/div/div[4]/div/fieldset/div/div/div[2]/div[1]/div/div/div/div/div/div[16]/div/label')\n",
    "button_kyocera.click()"
   ]
  }
 ],
 "metadata": {
  "kernelspec": {
   "display_name": "Python 3",
   "language": "python",
   "name": "python3"
  },
  "language_info": {
   "codemirror_mode": {
    "name": "ipython",
    "version": 3
   },
   "file_extension": ".py",
   "mimetype": "text/x-python",
   "name": "python",
   "nbconvert_exporter": "python",
   "pygments_lexer": "ipython3",
   "version": "3.11.5"
  }
 },
 "nbformat": 4,
 "nbformat_minor": 2
}
