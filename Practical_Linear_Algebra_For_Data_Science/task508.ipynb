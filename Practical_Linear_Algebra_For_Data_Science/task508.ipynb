{
 "cells": [
  {
   "cell_type": "code",
   "execution_count": 1,
   "metadata": {},
   "outputs": [],
   "source": [
    "import numpy as np\n",
    "import matplotlib.pyplot as plt\n",
    "import scipy.linalg\n",
    "from scipy.linalg import toeplitz"
   ]
  },
  {
   "cell_type": "code",
   "execution_count": 5,
   "metadata": {},
   "outputs": [
    {
     "name": "stdout",
     "output_type": "stream",
     "text": [
      "True\n"
     ]
    }
   ],
   "source": [
    "def matrix_is_sim(m):\n",
    "    mt = m.T\n",
    "    if len(m[0,:]) != len(m[:, 0]):\n",
    "        return False\n",
    "    for i in range(len(m[0,:])):\n",
    "        for j in range(len(m[:, 0])):\n",
    "            if m[j, i] != mt[j, i]:\n",
    "                return False\n",
    "    return True\n",
    "#m = np.arange(15).reshape(3, 5)\n",
    "m = np.array([ [1,2,3], [2,3,1], [3,1,2] ])\n",
    "print(matrix_is_sim(m))\n"
   ]
  },
  {
   "cell_type": "code",
   "execution_count": 20,
   "metadata": {},
   "outputs": [
    {
     "name": "stdout",
     "output_type": "stream",
     "text": [
      "[[ 0.11876509 -0.60469388 -0.43027576  0.10098873]\n",
      " [-1.42458017 -1.00297693 -0.76580017  0.67009119]\n",
      " [ 1.76988664 -0.20543121 -0.79209258  0.92799765]\n",
      " [-1.26892369  0.09979385  0.02153996  0.50386214]]\n",
      "True\n"
     ]
    }
   ],
   "source": [
    "# create symmetric and nonsymmetric matrices\n",
    "A = np.random.randn(4,4)\n",
    "print(A)\n",
    "AtA = (A + A.T) / 2 # additive method!\n",
    "print(matrix_is_sim(AtA))"
   ]
  }
 ],
 "metadata": {
  "kernelspec": {
   "display_name": "Python 3",
   "language": "python",
   "name": "python3"
  },
  "language_info": {
   "codemirror_mode": {
    "name": "ipython",
    "version": 3
   },
   "file_extension": ".py",
   "mimetype": "text/x-python",
   "name": "python",
   "nbconvert_exporter": "python",
   "pygments_lexer": "ipython3",
   "version": "3.11.5"
  },
  "orig_nbformat": 4
 },
 "nbformat": 4,
 "nbformat_minor": 2
}
