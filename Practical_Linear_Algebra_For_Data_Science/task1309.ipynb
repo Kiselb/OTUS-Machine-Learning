{
 "cells": [
  {
   "cell_type": "code",
   "execution_count": 12,
   "metadata": {},
   "outputs": [],
   "source": [
    "import numpy as np\n",
    "import scipy as sc\n",
    "import matplotlib.pyplot as plt"
   ]
  },
  {
   "cell_type": "code",
   "execution_count": 13,
   "metadata": {},
   "outputs": [
    {
     "data": {
      "text/plain": [
       "array([[1. , 0.2, 0.9],\n",
       "       [0.2, 1. , 0.3],\n",
       "       [0.9, 0.3, 1. ]])"
      ]
     },
     "execution_count": 13,
     "metadata": {},
     "output_type": "execute_result"
    }
   ],
   "source": [
    "R = np.array([[1, .2, .9], [.2, 1, .3], [.9, .3, 1]])\n",
    "R"
   ]
  },
  {
   "cell_type": "code",
   "execution_count": 14,
   "metadata": {},
   "outputs": [],
   "source": [
    "L, V = np.linalg.eig(R)\n",
    "L = np.diag(L)"
   ]
  },
  {
   "cell_type": "code",
   "execution_count": 15,
   "metadata": {},
   "outputs": [
    {
     "data": {
      "text/plain": [
       "array([[-0.17690558,  0.3487044 ,  0.40145807, ...,  0.00964419,\n",
       "        -1.16238251,  2.09117238],\n",
       "       [-1.37828518, -0.5431268 , -0.33080181, ...,  0.01929848,\n",
       "        -0.68571837, -0.53632256],\n",
       "       [-0.62607774, -0.91220229,  0.76546404, ...,  0.29046972,\n",
       "        -0.8083181 , -1.06546776]])"
      ]
     },
     "execution_count": 15,
     "metadata": {},
     "output_type": "execute_result"
    }
   ],
   "source": [
    "X = np.random.randn(3, 10000)\n",
    "X"
   ]
  },
  {
   "cell_type": "code",
   "execution_count": 16,
   "metadata": {},
   "outputs": [
    {
     "data": {
      "text/plain": [
       "array([[ 0.28721579, -0.46161608, -0.09655579, ...,  0.0664375 ,\n",
       "         1.01450306, -2.13944667],\n",
       "       [ 0.67176698,  0.65849107, -0.85552221, ..., -0.26192188,\n",
       "         1.27407267, -0.01767122],\n",
       "       [-0.23329452, -0.60172597, -0.33562994, ...,  0.04174557,\n",
       "         0.83766458, -2.30152438]])"
      ]
     },
     "execution_count": 16,
     "metadata": {},
     "output_type": "execute_result"
    }
   ],
   "source": [
    "Y = V @ np.sqrt(L) @ X\n",
    "Y"
   ]
  },
  {
   "cell_type": "code",
   "execution_count": 18,
   "metadata": {},
   "outputs": [],
   "source": [
    "Y1 = Y.T @ V @ np.linalg.inv(np.sqrt(L))"
   ]
  },
  {
   "cell_type": "code",
   "execution_count": 21,
   "metadata": {},
   "outputs": [
    {
     "name": "stdout",
     "output_type": "stream",
     "text": [
      "[[ 1.     0.576  0.758 ...  0.114 -0.914  0.678]\n",
      " [ 0.576  1.    -0.097 ... -0.746 -0.858  0.991]\n",
      " [ 0.758 -0.097  1.    ...  0.735 -0.428  0.034]\n",
      " ...\n",
      " [ 0.114 -0.746  0.735 ...  1.     0.299 -0.653]\n",
      " [-0.914 -0.858 -0.428 ...  0.299  1.    -0.918]\n",
      " [ 0.678  0.991  0.034 ... -0.653 -0.918  1.   ]]\n"
     ]
    }
   ],
   "source": [
    "print(np.round(np.corrcoef(Y1), 3))"
   ]
  }
 ],
 "metadata": {
  "kernelspec": {
   "display_name": "Python 3",
   "language": "python",
   "name": "python3"
  },
  "language_info": {
   "codemirror_mode": {
    "name": "ipython",
    "version": 3
   },
   "file_extension": ".py",
   "mimetype": "text/x-python",
   "name": "python",
   "nbconvert_exporter": "python",
   "pygments_lexer": "ipython3",
   "version": "3.11.5"
  },
  "orig_nbformat": 4
 },
 "nbformat": 4,
 "nbformat_minor": 2
}
