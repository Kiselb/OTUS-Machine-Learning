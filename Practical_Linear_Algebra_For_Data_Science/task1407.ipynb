{
 "cells": [
  {
   "cell_type": "code",
   "execution_count": 4,
   "metadata": {},
   "outputs": [],
   "source": [
    "import numpy as np\n",
    "import scipy as sc\n",
    "import matplotlib.pyplot as plt"
   ]
  },
  {
   "cell_type": "code",
   "execution_count": 5,
   "metadata": {},
   "outputs": [],
   "source": [
    "A = np.random.randn(7, 4)"
   ]
  },
  {
   "cell_type": "code",
   "execution_count": 6,
   "metadata": {},
   "outputs": [],
   "source": [
    "L = np.linalg.pinv(A.T @ A) @ A.T"
   ]
  },
  {
   "cell_type": "code",
   "execution_count": 7,
   "metadata": {},
   "outputs": [],
   "source": [
    "AI = np.linalg.pinv(A)"
   ]
  },
  {
   "cell_type": "code",
   "execution_count": 8,
   "metadata": {},
   "outputs": [
    {
     "name": "stdout",
     "output_type": "stream",
     "text": [
      "[[-0. -0. -0.  0.  0. -0. -0.]\n",
      " [ 0. -0.  0.  0. -0.  0.  0.]\n",
      " [-0. -0. -0.  0.  0.  0. -0.]\n",
      " [-0.  0. -0. -0. -0. -0.  0.]]\n"
     ]
    }
   ],
   "source": [
    "print(np.round(L - AI, 5))"
   ]
  },
  {
   "cell_type": "code",
   "execution_count": 10,
   "metadata": {},
   "outputs": [],
   "source": [
    "A = np.random.randn(4, 7)"
   ]
  },
  {
   "cell_type": "code",
   "execution_count": 11,
   "metadata": {},
   "outputs": [],
   "source": [
    "R = A.T @ np.linalg.pinv(A @ A.T)"
   ]
  },
  {
   "cell_type": "code",
   "execution_count": 12,
   "metadata": {},
   "outputs": [],
   "source": [
    "AI = np.linalg.pinv(A)"
   ]
  },
  {
   "cell_type": "code",
   "execution_count": 13,
   "metadata": {},
   "outputs": [
    {
     "name": "stdout",
     "output_type": "stream",
     "text": [
      "[[-0.  0. -0.  0.]\n",
      " [ 0.  0.  0.  0.]\n",
      " [-0. -0.  0. -0.]\n",
      " [-0. -0. -0.  0.]\n",
      " [ 0.  0. -0.  0.]\n",
      " [ 0. -0.  0. -0.]\n",
      " [-0.  0. -0.  0.]]\n"
     ]
    }
   ],
   "source": [
    "print(np.round(R - AI, 5))"
   ]
  }
 ],
 "metadata": {
  "kernelspec": {
   "display_name": "Python 3",
   "language": "python",
   "name": "python3"
  },
  "language_info": {
   "codemirror_mode": {
    "name": "ipython",
    "version": 3
   },
   "file_extension": ".py",
   "mimetype": "text/x-python",
   "name": "python",
   "nbconvert_exporter": "python",
   "pygments_lexer": "ipython3",
   "version": "3.11.5"
  },
  "orig_nbformat": 4
 },
 "nbformat": 4,
 "nbformat_minor": 2
}
