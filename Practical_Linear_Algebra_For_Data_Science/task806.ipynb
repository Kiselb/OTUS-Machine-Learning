{
 "cells": [
  {
   "cell_type": "code",
   "execution_count": 1,
   "metadata": {},
   "outputs": [],
   "source": [
    "import numpy as np\n",
    "import matplotlib.pyplot as plt"
   ]
  },
  {
   "cell_type": "code",
   "execution_count": 2,
   "metadata": {},
   "outputs": [],
   "source": [
    "matrix_1 = np.random.randn(10, 10)\n",
    "matrix_2 = np.random.randn(10, 10)"
   ]
  },
  {
   "cell_type": "code",
   "execution_count": 3,
   "metadata": {},
   "outputs": [],
   "source": [
    "invmul = np.linalg.inv(matrix_1 @ matrix_2)\n",
    "mulinv_1 = np.linalg.inv(matrix_1) @ np.linalg.inv(matrix_2)\n",
    "mulinv_2 = np.linalg.inv(matrix_2) @ np.linalg.inv(matrix_1)"
   ]
  },
  {
   "cell_type": "code",
   "execution_count": 4,
   "metadata": {},
   "outputs": [],
   "source": [
    "dist12 = np.sqrt(np.sum( (invmul - mulinv_1)**2 ))\n",
    "dist13 = np.sqrt(np.sum( (invmul - mulinv_2)**2 ))"
   ]
  },
  {
   "cell_type": "code",
   "execution_count": 5,
   "metadata": {},
   "outputs": [
    {
     "name": "stdout",
     "output_type": "stream",
     "text": [
      "Distance between (AB)^-1 and (A^-1)(B^-1) is 2444.35352757\n",
      "Distance between (AB)^-1 and (B^-1)(A^-1) is 0.00000000\n"
     ]
    }
   ],
   "source": [
    "print(f'Distance between (AB)^-1 and (A^-1)(B^-1) is {dist12:.8f}')\n",
    "print(f'Distance between (AB)^-1 and (B^-1)(A^-1) is {dist13:.8f}')"
   ]
  }
 ],
 "metadata": {
  "kernelspec": {
   "display_name": "Python 3",
   "language": "python",
   "name": "python3"
  },
  "language_info": {
   "codemirror_mode": {
    "name": "ipython",
    "version": 3
   },
   "file_extension": ".py",
   "mimetype": "text/x-python",
   "name": "python",
   "nbconvert_exporter": "python",
   "pygments_lexer": "ipython3",
   "version": "3.11.5"
  },
  "orig_nbformat": 4
 },
 "nbformat": 4,
 "nbformat_minor": 2
}
