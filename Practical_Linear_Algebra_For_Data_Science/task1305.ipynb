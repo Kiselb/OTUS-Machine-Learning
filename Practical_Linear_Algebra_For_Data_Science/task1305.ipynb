{
 "cells": [
  {
   "cell_type": "code",
   "execution_count": 16,
   "metadata": {},
   "outputs": [],
   "source": [
    "import numpy as np\n",
    "import scipy as sc\n",
    "import matplotlib.pyplot as plt"
   ]
  },
  {
   "cell_type": "code",
   "execution_count": 17,
   "metadata": {},
   "outputs": [],
   "source": [
    "rank = 3\n",
    "M = np.random.randn(rank, rank)\n",
    "M = M @ M.T"
   ]
  },
  {
   "cell_type": "code",
   "execution_count": 18,
   "metadata": {},
   "outputs": [],
   "source": [
    "L, V = np.linalg.eig(M)"
   ]
  },
  {
   "cell_type": "code",
   "execution_count": 19,
   "metadata": {},
   "outputs": [
    {
     "name": "stdout",
     "output_type": "stream",
     "text": [
      "Correlation between N(A-lI) and evec 0: 0.98\n",
      "Correlation between N(A-lI) and evec 1: 0.05\n",
      "Correlation between N(A-lI) and evec 2: 0.58\n"
     ]
    }
   ],
   "source": [
    "for i in range(len(L)):\n",
    "    NV = sc.linalg.null_space(M - L[i] * np.eye(rank))\n",
    "    r = np.corrcoef(NV.T, V[[i],:])[0, 1]\n",
    "    print(f'Correlation between N(A-lI) and evec {i}: {np.abs(r):.2f}')"
   ]
  }
 ],
 "metadata": {
  "kernelspec": {
   "display_name": "Python 3",
   "language": "python",
   "name": "python3"
  },
  "language_info": {
   "codemirror_mode": {
    "name": "ipython",
    "version": 3
   },
   "file_extension": ".py",
   "mimetype": "text/x-python",
   "name": "python",
   "nbconvert_exporter": "python",
   "pygments_lexer": "ipython3",
   "version": "3.11.5"
  },
  "orig_nbformat": 4
 },
 "nbformat": 4,
 "nbformat_minor": 2
}
