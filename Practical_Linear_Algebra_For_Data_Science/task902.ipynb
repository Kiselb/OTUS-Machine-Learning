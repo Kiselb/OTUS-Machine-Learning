{
 "cells": [
  {
   "cell_type": "code",
   "execution_count": 1,
   "metadata": {},
   "outputs": [],
   "source": [
    "import numpy as np\n",
    "import matplotlib.pyplot as plt"
   ]
  },
  {
   "cell_type": "code",
   "execution_count": 2,
   "metadata": {},
   "outputs": [
    {
     "name": "stdout",
     "output_type": "stream",
     "text": [
      "[[-0.1598946  -0.20541495 -0.11190207 -0.94721284]\n",
      " [ 0.56669472 -0.69465978 -1.47888126 -0.36721036]\n",
      " [-0.51460621 -1.26232502  1.38646876  0.36388371]\n",
      " [ 1.39965895  0.17379065  1.40465406  1.21678131]]\n"
     ]
    }
   ],
   "source": [
    "MATRIX_SIZE = 4\n",
    "matrix = np.random.randn(MATRIX_SIZE, MATRIX_SIZE)\n",
    "print(matrix)"
   ]
  },
  {
   "cell_type": "code",
   "execution_count": 3,
   "metadata": {},
   "outputs": [
    {
     "name": "stdout",
     "output_type": "stream",
     "text": [
      "[[0. 0. 0. 0.]\n",
      " [0. 0. 0. 0.]\n",
      " [0. 0. 0. 0.]\n",
      " [0. 0. 0. 0.]]\n"
     ]
    }
   ],
   "source": [
    "Q = np.zeros((MATRIX_SIZE, MATRIX_SIZE))\n",
    "print(Q)"
   ]
  },
  {
   "cell_type": "code",
   "execution_count": 4,
   "metadata": {},
   "outputs": [
    {
     "name": "stdout",
     "output_type": "stream",
     "text": [
      "[[-0.09972838 -0.12069948 -0.05408278 -0.98618504]\n",
      " [ 0.35345499 -0.56871486 -0.73898538  0.07438815]\n",
      " [-0.3209667  -0.80957097  0.48011003  0.1052121 ]\n",
      " [ 0.8729858  -0.08117816  0.46954236 -0.10409553]]\n",
      "[[ 1.00000000e+00  2.82817950e-17  2.41639273e-17 -1.54487434e-17]\n",
      " [-4.89437395e-20  1.00000000e+00 -6.25023547e-17 -5.39399025e-17]\n",
      " [-1.90032045e-17  1.68859626e-17  1.00000000e+00 -2.33108300e-17]\n",
      " [-1.42984171e-17  8.84329097e-17  2.76693402e-17  1.00000000e+00]]\n"
     ]
    }
   ],
   "source": [
    "for i in range(MATRIX_SIZE):\n",
    "    Q[:, i] = matrix[:, i]\n",
    "    a = matrix[:, i]\n",
    "    for j in range(i):\n",
    "        q = Q[:, j]\n",
    "        Q[:, i] = Q[:, i] - np.dot(a, q) / np.dot(q, q) * q\n",
    "    Q[:, i] /= np.linalg.norm(Q[:, i])\n",
    "\n",
    "print(Q)\n",
    "print(Q @ np.linalg.inv(Q))"
   ]
  },
  {
   "cell_type": "code",
   "execution_count": 5,
   "metadata": {},
   "outputs": [],
   "source": [
    "QP, R = np.linalg.qr(matrix)"
   ]
  },
  {
   "cell_type": "code",
   "execution_count": 6,
   "metadata": {},
   "outputs": [
    {
     "name": "stdout",
     "output_type": "stream",
     "text": [
      "[[-0.         -0.         -0.10816556 -1.97237008]\n",
      " [-0.          0.         -1.47797075  0.14877629]\n",
      " [ 0.         -0.          0.96022005  0.21042421]\n",
      " [ 0.         -0.          0.93908472 -0.20819105]]\n",
      " \n",
      "[[-0.19945676 -0.24139897 -0.          0.        ]\n",
      " [ 0.70690998 -1.13742971 -0.         -0.        ]\n",
      " [-0.64193339 -1.61914194 -0.         -0.        ]\n",
      " [ 1.74597159 -0.16235632  0.          0.        ]]\n"
     ]
    }
   ],
   "source": [
    "print( np.round( Q - QP ,10) ), print(' ')\n",
    "print( np.round( Q + QP ,10) )"
   ]
  },
  {
   "cell_type": "code",
   "execution_count": 7,
   "metadata": {},
   "outputs": [
    {
     "data": {
      "text/plain": [
       "array([[-1.00159084,  0.71692448,  1.80613021, -1.55205868],\n",
       "       [-0.80577349,  0.43837389, -0.26261715, -1.79884807],\n",
       "       [-0.24951943,  0.32133889, -0.10252466, -0.09785393],\n",
       "       [ 1.74843027, -0.55256657,  0.13820491,  1.20420519],\n",
       "       [-1.21112318, -0.10792656,  0.99591269, -0.27257212],\n",
       "       [ 0.71798007,  1.0631437 , -0.22858416,  0.86212453],\n",
       "       [ 0.77301175,  1.50007192,  0.71820274,  0.33352259]])"
      ]
     },
     "execution_count": 7,
     "metadata": {},
     "output_type": "execute_result"
    }
   ],
   "source": [
    "M = np.random.randn(7, 4)\n",
    "M"
   ]
  },
  {
   "cell_type": "code",
   "execution_count": 15,
   "metadata": {},
   "outputs": [],
   "source": [
    "QP, R = np.linalg.qr(M)"
   ]
  },
  {
   "cell_type": "code",
   "execution_count": 16,
   "metadata": {},
   "outputs": [
    {
     "data": {
      "text/plain": [
       "array([[-0.36940251, -0.33361691,  0.6512218 , -0.31780918],\n",
       "       [-0.29718198, -0.20320207, -0.35243288, -0.67172572],\n",
       "       [-0.0920267 , -0.15035107, -0.15896787,  0.12320392],\n",
       "       [ 0.64484868,  0.25312955,  0.45399314, -0.27106168],\n",
       "       [-0.44668134,  0.055808  ,  0.3636421 ,  0.50332182],\n",
       "       [ 0.26480238, -0.50376339, -0.23274519,  0.32400838],\n",
       "       [ 0.28509893, -0.70981447,  0.18415966,  0.02852976]])"
      ]
     },
     "execution_count": 16,
     "metadata": {},
     "output_type": "execute_result"
    }
   ],
   "source": [
    "QP"
   ]
  },
  {
   "cell_type": "code",
   "execution_count": 17,
   "metadata": {},
   "outputs": [
    {
     "data": {
      "text/plain": [
       "array([[ 2.71138071, -0.02360343, -0.7912141 ,  2.33858735],\n",
       "       [ 0.        , -2.12280998, -0.83785128,  0.51659739],\n",
       "       [ 0.        ,  0.        ,  1.89541011, -0.05285735],\n",
       "       [ 0.        ,  0.        ,  0.        ,  1.51478055]])"
      ]
     },
     "execution_count": 17,
     "metadata": {},
     "output_type": "execute_result"
    }
   ],
   "source": [
    "R"
   ]
  },
  {
   "cell_type": "code",
   "execution_count": 19,
   "metadata": {},
   "outputs": [
    {
     "data": {
      "text/plain": [
       "array([[-1.00159084,  0.71692448,  1.80613021, -1.55205868],\n",
       "       [-0.80577349,  0.43837389, -0.26261715, -1.79884807],\n",
       "       [-0.24951943,  0.32133889, -0.10252466, -0.09785393],\n",
       "       [ 1.74843027, -0.55256657,  0.13820491,  1.20420519],\n",
       "       [-1.21112318, -0.10792656,  0.99591269, -0.27257212],\n",
       "       [ 0.71798007,  1.0631437 , -0.22858416,  0.86212453],\n",
       "       [ 0.77301175,  1.50007192,  0.71820274,  0.33352259]])"
      ]
     },
     "execution_count": 19,
     "metadata": {},
     "output_type": "execute_result"
    }
   ],
   "source": [
    "MT = QP @ R\n",
    "MT"
   ]
  }
 ],
 "metadata": {
  "kernelspec": {
   "display_name": "Python 3",
   "language": "python",
   "name": "python3"
  },
  "language_info": {
   "codemirror_mode": {
    "name": "ipython",
    "version": 3
   },
   "file_extension": ".py",
   "mimetype": "text/x-python",
   "name": "python",
   "nbconvert_exporter": "python",
   "pygments_lexer": "ipython3",
   "version": "3.11.5"
  },
  "orig_nbformat": 4
 },
 "nbformat": 4,
 "nbformat_minor": 2
}
