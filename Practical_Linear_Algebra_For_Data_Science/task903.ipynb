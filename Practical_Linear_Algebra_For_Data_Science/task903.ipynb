{
 "cells": [
  {
   "cell_type": "code",
   "execution_count": 14,
   "metadata": {},
   "outputs": [],
   "source": [
    "import numpy as np\n",
    "import matplotlib.pyplot as plt"
   ]
  },
  {
   "cell_type": "code",
   "execution_count": 15,
   "metadata": {},
   "outputs": [],
   "source": [
    "MATRIX_SIZE = 6\n",
    "matrix = np.random.randn(MATRIX_SIZE, MATRIX_SIZE)\n",
    "U, R = np.linalg.qr(matrix)"
   ]
  },
  {
   "cell_type": "code",
   "execution_count": 16,
   "metadata": {},
   "outputs": [],
   "source": [
    "Q, R = np.linalg.qr(U)"
   ]
  },
  {
   "cell_type": "code",
   "execution_count": 17,
   "metadata": {},
   "outputs": [
    {
     "name": "stdout",
     "output_type": "stream",
     "text": [
      "[[ 1.00000000e+00 -8.32667268e-17  0.00000000e+00  0.00000000e+00\n",
      "   0.00000000e+00  0.00000000e+00]\n",
      " [ 0.00000000e+00  1.00000000e+00  1.24900090e-16 -3.33066907e-16\n",
      "   4.16333634e-17 -6.93889390e-18]\n",
      " [ 0.00000000e+00  0.00000000e+00  1.00000000e+00  0.00000000e+00\n",
      "  -5.55111512e-17  0.00000000e+00]\n",
      " [ 0.00000000e+00  0.00000000e+00  0.00000000e+00  1.00000000e+00\n",
      "   5.55111512e-17 -3.33066907e-16]\n",
      " [ 0.00000000e+00  0.00000000e+00  0.00000000e+00  0.00000000e+00\n",
      "   1.00000000e+00  0.00000000e+00]\n",
      " [ 0.00000000e+00  0.00000000e+00  0.00000000e+00  0.00000000e+00\n",
      "   0.00000000e+00  1.00000000e+00]]\n",
      "6.027259209292748e-16\n"
     ]
    }
   ],
   "source": [
    "print(R)\n",
    "error = R - np.eye(MATRIX_SIZE)\n",
    "print(np.sqrt(np.sum(error **2)))"
   ]
  },
  {
   "cell_type": "code",
   "execution_count": 18,
   "metadata": {},
   "outputs": [],
   "source": [
    "for i in range(U.shape[0]):\n",
    "  U[:,i] = U[:, i] * (10 + i)"
   ]
  },
  {
   "cell_type": "code",
   "execution_count": 19,
   "metadata": {},
   "outputs": [
    {
     "name": "stdout",
     "output_type": "stream",
     "text": [
      "[[ 1.00000000e+01  4.44089210e-16  1.77635684e-15 -4.44089210e-16\n",
      "   1.77635684e-15 -1.33226763e-15]\n",
      " [ 0.00000000e+00  1.10000000e+01  1.44328993e-15 -3.55271368e-15\n",
      "   0.00000000e+00 -9.99200722e-16]\n",
      " [ 0.00000000e+00  0.00000000e+00  1.20000000e+01  0.00000000e+00\n",
      "  -8.88178420e-16  0.00000000e+00]\n",
      " [ 0.00000000e+00  0.00000000e+00  0.00000000e+00  1.30000000e+01\n",
      "   2.66453526e-15 -5.32907052e-15]\n",
      " [ 0.00000000e+00  0.00000000e+00  0.00000000e+00  0.00000000e+00\n",
      "   1.40000000e+01 -5.32907052e-15]\n",
      " [ 0.00000000e+00  0.00000000e+00  0.00000000e+00  0.00000000e+00\n",
      "   0.00000000e+00  1.50000000e+01]]\n"
     ]
    }
   ],
   "source": [
    "M, N = np.linalg.qr(U)\n",
    "print(N)"
   ]
  },
  {
   "cell_type": "code",
   "execution_count": 20,
   "metadata": {},
   "outputs": [
    {
     "name": "stdout",
     "output_type": "stream",
     "text": [
      "[[ 1.00000000e+01  4.44089210e-16  1.77635684e-15 -1.10103494e+00\n",
      "   1.77635684e-15 -1.33226763e-15]\n",
      " [ 0.00000000e+00  1.10000000e+01  1.44328993e-15 -7.58860227e-01\n",
      "   0.00000000e+00 -9.99200722e-16]\n",
      " [ 0.00000000e+00  0.00000000e+00  1.20000000e+01  1.58995597e+00\n",
      "  -8.88178420e-16  0.00000000e+00]\n",
      " [ 0.00000000e+00  0.00000000e+00  0.00000000e+00  1.23435177e+01\n",
      "   2.95510608e+00  6.85939494e-01]\n",
      " [ 0.00000000e+00  0.00000000e+00  0.00000000e+00  0.00000000e+00\n",
      "   1.36845661e+01 -1.48124826e-01]\n",
      " [ 0.00000000e+00  0.00000000e+00  0.00000000e+00  0.00000000e+00\n",
      "   0.00000000e+00  1.49835759e+01]]\n"
     ]
    }
   ],
   "source": [
    "U[0, 3] = 0\n",
    "M, N = np.linalg.qr(U)\n",
    "print(N)"
   ]
  }
 ],
 "metadata": {
  "kernelspec": {
   "display_name": "Python 3",
   "language": "python",
   "name": "python3"
  },
  "language_info": {
   "codemirror_mode": {
    "name": "ipython",
    "version": 3
   },
   "file_extension": ".py",
   "mimetype": "text/x-python",
   "name": "python",
   "nbconvert_exporter": "python",
   "pygments_lexer": "ipython3",
   "version": "3.11.5"
  },
  "orig_nbformat": 4
 },
 "nbformat": 4,
 "nbformat_minor": 2
}
