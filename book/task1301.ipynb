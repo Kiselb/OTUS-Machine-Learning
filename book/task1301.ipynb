{
 "cells": [
  {
   "cell_type": "code",
   "execution_count": null,
   "metadata": {},
   "outputs": [],
   "source": [
    "# A = V^-1 L V\n",
    "# A^-1 = (V^-1 L V)^-1\n",
    "# A^-1 = V^-1 L^-1 V\n",
    "# Собстенные вектора: совпадают\n",
    "# Собственные числа: 1 / L, поскольку L - диагональная матрица"
   ]
  },
  {
   "cell_type": "code",
   "execution_count": 1,
   "metadata": {},
   "outputs": [],
   "source": [
    "import numpy as np\n",
    "import matplotlib.pyplot as plt"
   ]
  },
  {
   "cell_type": "code",
   "execution_count": 2,
   "metadata": {},
   "outputs": [],
   "source": [
    "A = np.random.randn(5,5)\n",
    "A = A.T@A"
   ]
  },
  {
   "cell_type": "code",
   "execution_count": 3,
   "metadata": {},
   "outputs": [],
   "source": [
    "Ai = np.linalg.inv(A)"
   ]
  },
  {
   "cell_type": "code",
   "execution_count": 4,
   "metadata": {},
   "outputs": [],
   "source": [
    "eigvals_A  = np.linalg.eig(A)[0]\n",
    "eigvals_Ai = np.linalg.eig(Ai)[0]"
   ]
  },
  {
   "cell_type": "code",
   "execution_count": 5,
   "metadata": {},
   "outputs": [
    {
     "name": "stdout",
     "output_type": "stream",
     "text": [
      "Eigenvalues of A:\n",
      "[ 0.01812254  1.61048089  2.85234621  8.29662723 11.44359884]\n",
      " \n",
      "Eigenvalues of inv(A):\n",
      "[ 0.0873851   0.12053091  0.35058858  0.62093254 55.17988911]\n",
      " \n",
      "Reciprocal of evals of inv(A):\n",
      "[ 0.01812254  1.61048089  2.85234621  8.29662723 11.44359884]\n"
     ]
    }
   ],
   "source": [
    "print('Eigenvalues of A:')\n",
    "print(np.sort(eigvals_A))\n",
    "\n",
    "print(' ')\n",
    "print('Eigenvalues of inv(A):')\n",
    "print(np.sort(eigvals_Ai))\n",
    "\n",
    "print(' ')\n",
    "print('Reciprocal of evals of inv(A):')\n",
    "print(np.sort(1/eigvals_Ai))"
   ]
  }
 ],
 "metadata": {
  "kernelspec": {
   "display_name": "Python 3",
   "language": "python",
   "name": "python3"
  },
  "language_info": {
   "codemirror_mode": {
    "name": "ipython",
    "version": 3
   },
   "file_extension": ".py",
   "mimetype": "text/x-python",
   "name": "python",
   "nbconvert_exporter": "python",
   "pygments_lexer": "ipython3",
   "version": "3.11.5"
  },
  "orig_nbformat": 4
 },
 "nbformat": 4,
 "nbformat_minor": 2
}
