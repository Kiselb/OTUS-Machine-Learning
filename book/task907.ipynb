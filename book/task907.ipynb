{
 "cells": [
  {
   "cell_type": "code",
   "execution_count": 11,
   "metadata": {},
   "outputs": [],
   "source": [
    "import numpy as np\n",
    "import matplotlib.pyplot as plt"
   ]
  },
  {
   "cell_type": "code",
   "execution_count": 12,
   "metadata": {},
   "outputs": [
    {
     "name": "stdout",
     "output_type": "stream",
     "text": [
      "[[ 9.17438958e-02 -7.65535038e-01  1.96805744e-01 -1.66161294e+00]\n",
      " [ 1.23564621e+00  2.00775597e+00 -1.35397653e+00 -3.52216189e-01]\n",
      " [ 9.38766968e-01  8.15480661e-01 -2.17099599e-01 -1.40229893e+00]\n",
      " [-2.84522629e-01  6.54081678e-01 -8.20144562e-01  1.35198758e-01]\n",
      " [-4.55638725e-02  3.86333209e-01 -2.37488345e-01  8.51754122e-01]\n",
      " [-9.37455114e-01  1.07814716e-01 -3.04397688e+00 -1.76244557e+00]\n",
      " [-6.49219534e-01  2.15891889e+00 -6.14245212e-01  5.97621869e-01]\n",
      " [-3.33755962e-01 -4.97106202e-01 -4.51987798e-01  1.05594514e+00]\n",
      " [-1.33932931e+00  7.40460693e-02  6.91321693e-01 -2.75651770e-03]\n",
      " [ 1.00643968e-01  5.04226598e-01  4.20032831e-02  2.08261294e+00]]\n"
     ]
    }
   ],
   "source": [
    "rows = 10\n",
    "cols = 4\n",
    "matrix = np.random.randn(rows, cols)\n",
    "print(matrix)"
   ]
  },
  {
   "cell_type": "code",
   "execution_count": 13,
   "metadata": {},
   "outputs": [
    {
     "name": "stdout",
     "output_type": "stream",
     "text": [
      "[[-2.3906452  -0.66395842 -0.36263419  0.35817675]\n",
      " [ 0.         -3.25542143  1.61956242 -0.52276025]\n",
      " [ 0.          0.         -3.19698989 -1.7903515 ]\n",
      " [ 0.          0.          0.          3.30211496]\n",
      " [ 0.          0.          0.          0.        ]\n",
      " [ 0.          0.          0.          0.        ]\n",
      " [ 0.          0.          0.          0.        ]\n",
      " [ 0.          0.          0.          0.        ]\n",
      " [ 0.          0.          0.          0.        ]\n",
      " [ 0.          0.          0.          0.        ]]\n"
     ]
    }
   ],
   "source": [
    "Q, R = np.linalg.qr(matrix, \"complete\")\n",
    "print(R)"
   ]
  },
  {
   "cell_type": "code",
   "execution_count": 14,
   "metadata": {},
   "outputs": [
    {
     "name": "stdout",
     "output_type": "stream",
     "text": [
      "[[-2.3906452  -0.66395842 -0.36263419  0.35817675]\n",
      " [ 0.         -3.25542143  1.61956242 -0.52276025]\n",
      " [ 0.          0.         -3.19698989 -1.7903515 ]\n",
      " [ 0.          0.          0.          3.30211496]]\n"
     ]
    }
   ],
   "source": [
    "matrix_square = R[:4,:]\n",
    "print(matrix_square)"
   ]
  },
  {
   "cell_type": "code",
   "execution_count": 17,
   "metadata": {},
   "outputs": [
    {
     "name": "stdout",
     "output_type": "stream",
     "text": [
      "[[-0.41829712  0.08531365  0.09066642  0.10803611]\n",
      " [-0.         -0.30717989 -0.15561419 -0.13300129]\n",
      " [-0.         -0.         -0.31279423 -0.1695918 ]\n",
      " [ 0.          0.          0.          0.30283622]]\n"
     ]
    }
   ],
   "source": [
    "matrix_square_inv = np.linalg.inv(matrix_square)\n",
    "print(matrix_square_inv)"
   ]
  },
  {
   "cell_type": "code",
   "execution_count": 19,
   "metadata": {},
   "outputs": [
    {
     "name": "stdout",
     "output_type": "stream",
     "text": [
      "[[-4.18297120e-01  8.53136529e-02  9.06664178e-02  1.08036107e-01\n",
      "   0.00000000e+00  0.00000000e+00  0.00000000e+00  0.00000000e+00\n",
      "   0.00000000e+00  0.00000000e+00]\n",
      " [-1.22108893e-16 -3.07179891e-01 -1.55614194e-01 -1.33001288e-01\n",
      "   0.00000000e+00  0.00000000e+00  0.00000000e+00  0.00000000e+00\n",
      "   0.00000000e+00  0.00000000e+00]\n",
      " [-6.87615461e-17 -4.37087063e-17 -3.12794232e-01 -1.69591800e-01\n",
      "   0.00000000e+00  0.00000000e+00  0.00000000e+00  0.00000000e+00\n",
      "   0.00000000e+00  0.00000000e+00]\n",
      " [ 4.14839351e-17 -1.72090313e-16  5.44620309e-17  3.02836216e-01\n",
      "   0.00000000e+00  0.00000000e+00  0.00000000e+00  0.00000000e+00\n",
      "   0.00000000e+00  0.00000000e+00]]\n"
     ]
    }
   ],
   "source": [
    "matrix_square_inv_pseudo = np.linalg.pinv(R)\n",
    "print(matrix_square_inv_pseudo)"
   ]
  }
 ],
 "metadata": {
  "kernelspec": {
   "display_name": "Python 3",
   "language": "python",
   "name": "python3"
  },
  "language_info": {
   "codemirror_mode": {
    "name": "ipython",
    "version": 3
   },
   "file_extension": ".py",
   "mimetype": "text/x-python",
   "name": "python",
   "nbconvert_exporter": "python",
   "pygments_lexer": "ipython3",
   "version": "3.11.5"
  },
  "orig_nbformat": 4
 },
 "nbformat": 4,
 "nbformat_minor": 2
}
