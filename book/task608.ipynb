{
 "cells": [
  {
   "cell_type": "code",
   "execution_count": 1,
   "metadata": {},
   "outputs": [],
   "source": [
    "import numpy as np\n",
    "import matplotlib.pyplot as plt\n",
    "import scipy.linalg\n",
    "from scipy.linalg import toeplitz"
   ]
  },
  {
   "cell_type": "code",
   "execution_count": 2,
   "metadata": {},
   "outputs": [
    {
     "name": "stdout",
     "output_type": "stream",
     "text": [
      "10 10 10 10\n"
     ]
    }
   ],
   "source": [
    "matrix = np.random.randn(10, 10)\n",
    "print(np.linalg.matrix_rank(matrix), np.linalg.matrix_rank(matrix.T), np.linalg.matrix_rank(matrix @ matrix.T), np.linalg.matrix_rank(matrix.T @ matrix))"
   ]
  },
  {
   "cell_type": "code",
   "execution_count": 3,
   "metadata": {},
   "outputs": [
    {
     "name": "stdout",
     "output_type": "stream",
     "text": [
      "10 10 10 10\n"
     ]
    }
   ],
   "source": [
    "matrix = np.random.randn(10, 20)\n",
    "print(np.linalg.matrix_rank(matrix), np.linalg.matrix_rank(matrix.T), np.linalg.matrix_rank(matrix @ matrix.T), np.linalg.matrix_rank(matrix.T @ matrix))"
   ]
  },
  {
   "cell_type": "code",
   "execution_count": 4,
   "metadata": {},
   "outputs": [
    {
     "name": "stdout",
     "output_type": "stream",
     "text": [
      "10 10 10 10\n"
     ]
    }
   ],
   "source": [
    "matrix = np.random.randn(20, 10)\n",
    "print(np.linalg.matrix_rank(matrix), np.linalg.matrix_rank(matrix.T), np.linalg.matrix_rank(matrix @ matrix.T), np.linalg.matrix_rank(matrix.T @ matrix))"
   ]
  }
 ],
 "metadata": {
  "kernelspec": {
   "display_name": "Python 3",
   "language": "python",
   "name": "python3"
  },
  "language_info": {
   "codemirror_mode": {
    "name": "ipython",
    "version": 3
   },
   "file_extension": ".py",
   "mimetype": "text/x-python",
   "name": "python",
   "nbconvert_exporter": "python",
   "pygments_lexer": "ipython3",
   "version": "3.11.5"
  },
  "orig_nbformat": 4
 },
 "nbformat": 4,
 "nbformat_minor": 2
}
