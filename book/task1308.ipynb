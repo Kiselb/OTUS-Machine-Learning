{
 "cells": [
  {
   "cell_type": "code",
   "execution_count": 8,
   "metadata": {},
   "outputs": [],
   "source": [
    "import numpy as np\n",
    "import scipy as sc\n",
    "import matplotlib.pyplot as plt"
   ]
  },
  {
   "cell_type": "code",
   "execution_count": 9,
   "metadata": {},
   "outputs": [
    {
     "data": {
      "text/plain": [
       "array([[1. , 0.2, 0.9],\n",
       "       [0.2, 1. , 0.3],\n",
       "       [0.9, 0.3, 1. ]])"
      ]
     },
     "execution_count": 9,
     "metadata": {},
     "output_type": "execute_result"
    }
   ],
   "source": [
    "R = np.array([[1, .2, .9], [.2, 1, .3], [.9, .3, 1]])\n",
    "R"
   ]
  },
  {
   "cell_type": "code",
   "execution_count": 10,
   "metadata": {},
   "outputs": [
    {
     "data": {
      "text/plain": [
       "array([[ 1.04550584,  0.12764769,  1.94517677, ..., -0.83845373,\n",
       "         0.42512341,  1.92244707],\n",
       "       [-1.07578135, -0.40525885,  0.05730505, ...,  0.44130391,\n",
       "         0.37185529, -0.17862694],\n",
       "       [ 2.60167087, -0.69460893, -0.49427379, ..., -0.52718163,\n",
       "        -0.46428152,  1.49440874]])"
      ]
     },
     "execution_count": 10,
     "metadata": {},
     "output_type": "execute_result"
    }
   ],
   "source": [
    "X = np.random.randn(3, 10000)\n",
    "X"
   ]
  },
  {
   "cell_type": "code",
   "execution_count": 11,
   "metadata": {},
   "outputs": [
    {
     "name": "stdout",
     "output_type": "stream",
     "text": [
      "[[2.02255456 0.         0.        ]\n",
      " [0.         0.09402458 0.        ]\n",
      " [0.         0.         0.88342086]]\n",
      "[[-0.65954066 -0.69284486  0.29149978]\n",
      " [-0.32749414 -0.08419369 -0.94109458]\n",
      " [-0.67657498  0.71615461  0.17137347]]\n"
     ]
    }
   ],
   "source": [
    "L, V = np.linalg.eig(R)\n",
    "L = np.diag(L)\n",
    "print(L)\n",
    "print(V)"
   ]
  },
  {
   "cell_type": "code",
   "execution_count": 12,
   "metadata": {},
   "outputs": [
    {
     "data": {
      "text/plain": [
       "array([[-0.03929856, -0.22394358, -1.9721256 , ...,  0.54825614,\n",
       "        -0.60496097, -1.35581868],\n",
       "       [-2.76045209,  0.56541926, -0.4702426 , ...,  0.84543037,\n",
       "         0.20307356, -2.21263296],\n",
       "       [-0.82316286, -0.3237006 , -1.9386831 , ...,  0.81875511,\n",
       "        -0.40217992, -1.64829613]])"
      ]
     },
     "execution_count": 12,
     "metadata": {},
     "output_type": "execute_result"
    }
   ],
   "source": [
    "Y = V @ np.sqrt(L) @ X\n",
    "Y"
   ]
  },
  {
   "cell_type": "code",
   "execution_count": 13,
   "metadata": {},
   "outputs": [
    {
     "data": {
      "text/plain": [
       "array([[1.        , 0.21419033, 0.9024671 ],\n",
       "       [0.21419033, 1.        , 0.31286785],\n",
       "       [0.9024671 , 0.31286785, 1.        ]])"
      ]
     },
     "execution_count": 13,
     "metadata": {},
     "output_type": "execute_result"
    }
   ],
   "source": [
    "np.corrcoef(Y)"
   ]
  }
 ],
 "metadata": {
  "kernelspec": {
   "display_name": "Python 3",
   "language": "python",
   "name": "python3"
  },
  "language_info": {
   "codemirror_mode": {
    "name": "ipython",
    "version": 3
   },
   "file_extension": ".py",
   "mimetype": "text/x-python",
   "name": "python",
   "nbconvert_exporter": "python",
   "pygments_lexer": "ipython3",
   "version": "3.11.5"
  },
  "orig_nbformat": 4
 },
 "nbformat": 4,
 "nbformat_minor": 2
}
