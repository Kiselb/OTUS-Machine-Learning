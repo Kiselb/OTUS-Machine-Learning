{
 "cells": [
  {
   "cell_type": "code",
   "execution_count": 1,
   "metadata": {},
   "outputs": [],
   "source": [
    "import numpy as np\n",
    "import scipy as sc\n",
    "import matplotlib.pyplot as plt"
   ]
  },
  {
   "cell_type": "code",
   "execution_count": 3,
   "metadata": {},
   "outputs": [],
   "source": [
    "# Av = lBv"
   ]
  },
  {
   "cell_type": "code",
   "execution_count": 4,
   "metadata": {},
   "outputs": [],
   "source": [
    "rank = 5"
   ]
  },
  {
   "cell_type": "code",
   "execution_count": 5,
   "metadata": {},
   "outputs": [
    {
     "data": {
      "text/plain": [
       "array([[ 4.22524379, -2.8127329 , -1.36318728, -1.3929746 , -2.19940972],\n",
       "       [-2.8127329 ,  2.24516308,  0.87091527,  1.03232385,  1.14344856],\n",
       "       [-1.36318728,  0.87091527,  5.60385173,  2.61198477, -2.28831765],\n",
       "       [-1.3929746 ,  1.03232385,  2.61198477,  1.47859477, -1.16560193],\n",
       "       [-2.19940972,  1.14344856, -2.28831765, -1.16560193,  7.26620785]])"
      ]
     },
     "execution_count": 5,
     "metadata": {},
     "output_type": "execute_result"
    }
   ],
   "source": [
    "A = np.random.randn(rank, rank)\n",
    "A = A.T @ A\n",
    "A"
   ]
  },
  {
   "cell_type": "code",
   "execution_count": 7,
   "metadata": {},
   "outputs": [
    {
     "data": {
      "text/plain": [
       "array([[ 6.62234093, -0.59546041, -2.76894203,  1.40565459,  0.35191974],\n",
       "       [-0.59546041, 11.89531582,  3.99467163,  2.32903309,  2.0549576 ],\n",
       "       [-2.76894203,  3.99467163,  3.69096472, -0.40960854,  1.00191052],\n",
       "       [ 1.40565459,  2.32903309, -0.40960854,  1.32442815,  0.11137103],\n",
       "       [ 0.35191974,  2.0549576 ,  1.00191052,  0.11137103,  0.69970239]])"
      ]
     },
     "execution_count": 7,
     "metadata": {},
     "output_type": "execute_result"
    }
   ],
   "source": [
    "B = np.random.randn(rank, rank)\n",
    "B = B.T @ B\n",
    "B"
   ]
  },
  {
   "cell_type": "code",
   "execution_count": 10,
   "metadata": {},
   "outputs": [],
   "source": [
    "L, V = sc.linalg.eigh(A, B)"
   ]
  },
  {
   "cell_type": "code",
   "execution_count": 11,
   "metadata": {},
   "outputs": [],
   "source": [
    "VI = sc.linalg.inv(V)"
   ]
  },
  {
   "cell_type": "code",
   "execution_count": 12,
   "metadata": {},
   "outputs": [
    {
     "name": "stdout",
     "output_type": "stream",
     "text": [
      "[[ 1.98900217 -0.88730087 -2.02867196  0.82218933 -3.01699899]\n",
      " [ 0.83105479  2.92709134  1.07526669  1.57987081 -2.62069704]\n",
      " [ 1.52408355 -1.12003042 -0.36915655 -1.56895749 -0.22473636]\n",
      " [-0.7518119   0.20559811  0.86891544 -1.84802847  7.47665353]\n",
      " [-0.03132862 -0.03992429 -0.27285062 -0.35713868 10.70850158]]\n"
     ]
    }
   ],
   "source": [
    "print(V - VI)"
   ]
  },
  {
   "cell_type": "code",
   "execution_count": 13,
   "metadata": {},
   "outputs": [],
   "source": [
    "VV = V.T @ V\n",
    "VBV = V.T @ B @ V"
   ]
  },
  {
   "cell_type": "code",
   "execution_count": 14,
   "metadata": {},
   "outputs": [
    {
     "data": {
      "text/plain": [
       "Text(0.5, 1.0, 'VTBV')"
      ]
     },
     "execution_count": 14,
     "metadata": {},
     "output_type": "execute_result"
    },
    {
     "data": {
      "image/png": "[encoded data removed]",
      "text/plain": [
       "<Figure size 1000x600 with 2 Axes>"
      ]
     },
     "metadata": {},
     "output_type": "display_data"
    }
   ],
   "source": [
    "_,axs = plt.subplots(1,2,figsize=(10,6))\n",
    "\n",
    "axs[0].imshow(VV,cmap='gray')\n",
    "axs[0].set_title('VTV')\n",
    "\n",
    "axs[1].imshow(VBV,cmap='gray')\n",
    "axs[1].set_title('VTBV')"
   ]
  }
 ],
 "metadata": {
  "kernelspec": {
   "display_name": "Python 3",
   "language": "python",
   "name": "python3"
  },
  "language_info": {
   "codemirror_mode": {
    "name": "ipython",
    "version": 3
   },
   "file_extension": ".py",
   "mimetype": "text/x-python",
   "name": "python",
   "nbconvert_exporter": "python",
   "pygments_lexer": "ipython3",
   "version": "3.11.5"
  },
  "orig_nbformat": 4
 },
 "nbformat": 4,
 "nbformat_minor": 2
}
