{
 "cells": [
  {
   "cell_type": "code",
   "execution_count": 1,
   "metadata": {},
   "outputs": [],
   "source": [
    "import numpy as np\n",
    "import scipy.linalg\n",
    "import matplotlib.pyplot as plt"
   ]
  },
  {
   "cell_type": "code",
   "execution_count": 3,
   "metadata": {},
   "outputs": [
    {
     "name": "stdout",
     "output_type": "stream",
     "text": [
      "[[ 1.06404993 -0.85184036  0.73061284  0.12176272]\n",
      " [ 1.97352195 -0.45135616  0.39160262  0.12264993]\n",
      " [ 0.61957743 -0.64993161  2.09564979  0.71190445]\n",
      " [-1.81054384 -0.19774401  0.71648591 -0.14968797]]\n"
     ]
    }
   ],
   "source": [
    "rank = 4\n",
    "matrix = np.random.randn(rank, rank)\n",
    "print(matrix)"
   ]
  },
  {
   "cell_type": "code",
   "execution_count": 7,
   "metadata": {},
   "outputs": [],
   "source": [
    "P, L, U = scipy.linalg.lu(matrix)"
   ]
  },
  {
   "cell_type": "code",
   "execution_count": 9,
   "metadata": {},
   "outputs": [
    {
     "name": "stdout",
     "output_type": "stream",
     "text": [
      "[[ 1.  0.  0.  0.]\n",
      " [-0.  1. -0.  0.]\n",
      " [ 0. -0.  1. -0.]\n",
      " [-0. -0.  0.  1.]]\n"
     ]
    }
   ],
   "source": [
    "matrix_inv = np.linalg.inv(U) @ np.linalg.inv(L) @ P.T\n",
    "matrix_inv_test = np.round(matrix @ matrix_inv)\n",
    "print(matrix_inv_test)"
   ]
  },
  {
   "cell_type": "code",
   "execution_count": 10,
   "metadata": {},
   "outputs": [
    {
     "name": "stdout",
     "output_type": "stream",
     "text": [
      "[[-0.46253985  0.88592037 -0.0471559   0.12537728]\n",
      " [-2.67425243  2.09686458  0.26535726  0.8047745 ]\n",
      " [-1.44449701  1.89242914  0.18992347  1.27884547]\n",
      " [ 2.2132997  -4.4274852   1.1288983  -3.13896729]]\n",
      "[[-0.46253985  0.88592037 -0.0471559   0.12537728]\n",
      " [-2.67425243  2.09686458  0.26535726  0.8047745 ]\n",
      " [-1.44449701  1.89242914  0.18992347  1.27884547]\n",
      " [ 2.2132997  -4.4274852   1.1288983  -3.13896729]]\n"
     ]
    }
   ],
   "source": [
    "matrix_inv_direct = np.linalg.inv(matrix)\n",
    "print(matrix_inv)\n",
    "print(matrix_inv_direct)"
   ]
  }
 ],
 "metadata": {
  "kernelspec": {
   "display_name": "Python 3",
   "language": "python",
   "name": "python3"
  },
  "language_info": {
   "codemirror_mode": {
    "name": "ipython",
    "version": 3
   },
   "file_extension": ".py",
   "mimetype": "text/x-python",
   "name": "python",
   "nbconvert_exporter": "python",
   "pygments_lexer": "ipython3",
   "version": "3.11.5"
  },
  "orig_nbformat": 4
 },
 "nbformat": 4,
 "nbformat_minor": 2
}
