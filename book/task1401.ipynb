{
 "cells": [
  {
   "cell_type": "code",
   "execution_count": 10,
   "metadata": {},
   "outputs": [],
   "source": [
    "import numpy as np\n",
    "import scipy as sc\n",
    "import matplotlib.pyplot as plt"
   ]
  },
  {
   "cell_type": "code",
   "execution_count": 11,
   "metadata": {},
   "outputs": [
    {
     "data": {
      "text/plain": [
       "array([[ 7.52636313, -2.51627842,  1.34279177, -3.52701667,  0.65793514],\n",
       "       [-2.51627842,  6.34069809, -2.11059529,  2.37527242, -1.53315729],\n",
       "       [ 1.34279177, -2.11059529,  8.01999895,  2.31732589, -0.99824237],\n",
       "       [-3.52701667,  2.37527242,  2.31732589,  4.25992632, -1.19903555],\n",
       "       [ 0.65793514, -1.53315729, -0.99824237, -1.19903555,  2.99411903]])"
      ]
     },
     "execution_count": 11,
     "metadata": {},
     "output_type": "execute_result"
    }
   ],
   "source": [
    "rank = 5\n",
    "A = np.random.randn(rank, rank)\n",
    "A = A.T @ A\n",
    "A"
   ]
  },
  {
   "cell_type": "code",
   "execution_count": 12,
   "metadata": {},
   "outputs": [
    {
     "data": {
      "text/plain": [
       "array([[-0.66733695,  0.07022695,  0.62654442,  0.35416103,  0.1781618 ],\n",
       "       [ 0.55580877,  0.11813561,  0.667796  , -0.33231768,  0.34746807],\n",
       "       [-0.21463043, -0.87562486,  0.06127114, -0.4067337 ,  0.13426998],\n",
       "       [ 0.41440043, -0.42202931, -0.01506621,  0.768268  ,  0.24433753],\n",
       "       [-0.16716481,  0.19048495, -0.3968746 , -0.09201577,  0.87737966]])"
      ]
     },
     "execution_count": 12,
     "metadata": {},
     "output_type": "execute_result"
    }
   ],
   "source": [
    "L, V = np.linalg.eig(A)\n",
    "V"
   ]
  },
  {
   "cell_type": "code",
   "execution_count": 13,
   "metadata": {},
   "outputs": [],
   "source": [
    "LS  = np.argsort(L)[::-1]\n",
    "L = L[LS]\n",
    "V = V[:,LS]"
   ]
  },
  {
   "cell_type": "code",
   "execution_count": 14,
   "metadata": {},
   "outputs": [
    {
     "data": {
      "text/plain": [
       "array([[-0.66733695,  0.55580877, -0.21463043,  0.41440043, -0.16716481],\n",
       "       [-0.07022695, -0.11813561,  0.87562486,  0.42202931, -0.19048495],\n",
       "       [-0.62654442, -0.667796  , -0.06127114,  0.01506621,  0.3968746 ],\n",
       "       [-0.1781618 , -0.34746807, -0.13426998, -0.24433753, -0.87737966],\n",
       "       [-0.35416103,  0.33231768,  0.4067337 , -0.768268  ,  0.09201577]])"
      ]
     },
     "execution_count": 14,
     "metadata": {},
     "output_type": "execute_result"
    }
   ],
   "source": [
    "U, S, VT = np.linalg.svd(A)\n",
    "VT"
   ]
  },
  {
   "cell_type": "code",
   "execution_count": 15,
   "metadata": {},
   "outputs": [
    {
     "name": "stdout",
     "output_type": "stream",
     "text": [
      "Eigenvalues and singular values:\n",
      "[[12.40898561 12.40898561]\n",
      " [ 9.5311094   9.5311094 ]\n",
      " [ 4.64378177  4.64378177]\n",
      " [ 2.03386465  2.03386465]\n",
      " [ 0.52336409  0.52336409]]\n"
     ]
    }
   ],
   "source": [
    "print('Eigenvalues and singular values:')\n",
    "print(np.vstack((L, S)).T)\n"
   ]
  },
  {
   "cell_type": "code",
   "execution_count": 16,
   "metadata": {},
   "outputs": [
    {
     "name": "stdout",
     "output_type": "stream",
     "text": [
      "\n",
      "Left-Right singular vectors (should be zeros)\n",
      "[[ 0. -0. -0. -0. -0.]\n",
      " [ 0. -0. -0. -0.  0.]\n",
      " [ 0.  0. -0. -0. -0.]\n",
      " [-0.  0.  0. -0. -0.]\n",
      " [-0.  0.  0. -0.  0.]]\n"
     ]
    }
   ],
   "source": [
    "print(f'\\nLeft-Right singular vectors (should be zeros)')\n",
    "print(np.round(U - VT.T, 10))"
   ]
  },
  {
   "cell_type": "code",
   "execution_count": 17,
   "metadata": {},
   "outputs": [
    {
     "name": "stdout",
     "output_type": "stream",
     "text": [
      "\n",
      "Singular vectors - eigenvectors (should be zeros)\n",
      "[[ 0.         -0.1404539  -1.25308884 -0.3563236  -0.70832205]\n",
      " [ 0.         -0.23627122 -1.335592   -0.69493614  0.66463536]\n",
      " [-0.          1.75124972 -0.12254228 -0.26853996  0.8134674 ]\n",
      " [-0.          0.84405862  0.03013241 -0.48867506 -1.53653601]\n",
      " [-0.         -0.3809699   0.7937492  -1.75475931  0.18403154]]\n",
      " \n",
      "[[-1.3346739  -0.          0.         -0.         -0.        ]\n",
      " [ 1.11161753 -0.          0.          0.         -0.        ]\n",
      " [-0.42926086  0.         -0.          0.         -0.        ]\n",
      " [ 0.82880086  0.         -0.         -0.         -0.        ]\n",
      " [-0.33432961  0.          0.         -0.         -0.        ]]\n"
     ]
    }
   ],
   "source": [
    "print(f'\\nSingular vectors - eigenvectors (should be zeros)')\n",
    "print(np.round(U - V, 10)) # subtract and \n",
    "print(' ')                  \n",
    "print(np.round(U + V, 10)) # add for sign indeterminancy"
   ]
  }
 ],
 "metadata": {
  "kernelspec": {
   "display_name": "Python 3",
   "language": "python",
   "name": "python3"
  },
  "language_info": {
   "codemirror_mode": {
    "name": "ipython",
    "version": 3
   },
   "file_extension": ".py",
   "mimetype": "text/x-python",
   "name": "python",
   "nbconvert_exporter": "python",
   "pygments_lexer": "ipython3",
   "version": "3.11.5"
  },
  "orig_nbformat": 4
 },
 "nbformat": 4,
 "nbformat_minor": 2
}
