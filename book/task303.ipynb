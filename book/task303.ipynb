{
 "cells": [
  {
   "cell_type": "code",
   "execution_count": 1,
   "metadata": {},
   "outputs": [],
   "source": [
    "import numpy as np\n",
    "import matplotlib.pyplot as plt\n",
    "import plotly.graph_objects as go"
   ]
  },
  {
   "cell_type": "code",
   "execution_count": 2,
   "metadata": {},
   "outputs": [],
   "source": [
    "v=np.array([ 1,3 ])\n",
    "xlim = [-4,4]\n",
    "scalars = np.random.uniform(low=xlim[0],high=xlim[1],size=100)"
   ]
  },
  {
   "cell_type": "code",
   "execution_count": 3,
   "metadata": {},
   "outputs": [
    {
     "data": {
      "text/plain": [
       "<Figure size 600x600 with 0 Axes>"
      ]
     },
     "execution_count": 3,
     "metadata": {},
     "output_type": "execute_result"
    },
    {
     "data": {
      "text/plain": [
       "<Figure size 600x600 with 0 Axes>"
      ]
     },
     "metadata": {},
     "output_type": "display_data"
    }
   ],
   "source": [
    "plt.figure(figsize=(6,6))"
   ]
  },
  {
   "cell_type": "code",
   "execution_count": 7,
   "metadata": {},
   "outputs": [
    {
     "data": {
      "image/png": "[encoded data removed]",
      "text/plain": [
       "<Figure size 640x480 with 1 Axes>"
      ]
     },
     "metadata": {},
     "output_type": "display_data"
    }
   ],
   "source": [
    "for s in scalars:\n",
    "  p = v*s\n",
    "  plt.plot(p[0],p[1],'ko')\n",
    "plt.xlim(xlim)\n",
    "plt.ylim(xlim)\n",
    "plt.grid()\n",
    "plt.text(-4.5,4.5,'A)',fontweight='bold',fontsize=18)\n",
    "plt.savefig('Figure_03_07a.png',dpi=300)\n",
    "plt.show()"
   ]
  },
  {
   "cell_type": "code",
   "execution_count": 8,
   "metadata": {},
   "outputs": [],
   "source": [
    "v1 = np.array([ 3,5,1 ])\n",
    "v2 = np.array([ 0,2,2 ])\n",
    "scalars = np.random.uniform(low=xlim[0],high=xlim[1],size=(100,2))"
   ]
  },
  {
   "cell_type": "code",
   "execution_count": 11,
   "metadata": {},
   "outputs": [
    {
     "name": "stdout",
     "output_type": "stream",
     "text": [
      "[[  4.98805039   7.10090545   0.45017161]\n",
      " [  4.86735074   8.31194655   1.82214557]\n",
      " [ -5.14161903  -7.30328959  -0.44779754]\n",
      " [  7.40576354  19.37949935   9.50514797]\n",
      " [ 11.30603797  13.10927319  -1.96544411]\n",
      " [ -4.34350537  -3.53073738   2.26060311]\n",
      " [  4.26964973   8.98273419   3.28986788]\n",
      " [ -4.76174147  -0.03148729   6.31750134]\n",
      " [-10.98888239 -15.26756487  -0.61572168]\n",
      " [  8.69406293   9.0656798   -2.52640411]\n",
      " [ -3.74215133  -4.0469742    0.94256091]\n",
      " [  4.33760855  11.16606456   5.38258649]\n",
      " [ -9.11877031 -16.30009459  -4.14173418]\n",
      " [ -9.91352446 -15.94214623  -2.72411362]\n",
      " [  3.25000908   7.74428635   3.41094092]\n",
      " [ 11.67083053  26.48623967  10.9251323 ]\n",
      " [  9.35118745  11.02385168  -1.44439826]\n",
      " [  3.96813247   0.16003924  -5.13080406]\n",
      " [  4.67774595   1.05373012  -5.18326448]\n",
      " [  4.94420045   2.43236434  -4.15990293]\n",
      " [-11.13513309 -18.56091331  -3.71406919]\n",
      " [  2.19364639   6.72109513   3.79623328]\n",
      " [  0.33256469  -6.16904443  -6.61246402]\n",
      " [  2.57000413   0.96037421  -2.46629796]\n",
      " [ -5.03163398  -2.51909612   4.18974919]\n",
      " [ -0.06143425   3.78696422   3.86887655]\n",
      " [ -3.17144545  -3.33942964   0.8891643 ]\n",
      " [  2.4919025    8.59646235   5.27392568]\n",
      " [  4.00780716   3.31543222  -2.02831066]\n",
      " [ 10.03976587  15.88966991   2.50331542]\n",
      " [  5.78906335   8.91375445   1.19500332]\n",
      " [  3.62276868  10.35869721   5.52833896]\n",
      " [ -0.7464336    4.89999669   5.89524149]\n",
      " [ -9.29884746 -17.01215257  -4.61368928]\n",
      " [  5.79188277   4.29499906  -3.42751131]\n",
      " [ -1.54620186   3.08536743   5.14696992]\n",
      " [  6.68165629   8.39742553  -0.51144953]\n",
      " [ -8.16026884 -17.07163147  -6.19127301]\n",
      " [-10.61058469 -15.41613868  -1.26869243]\n",
      " [ -8.42882993 -15.02903855  -3.79059865]\n",
      " [ -3.32356182  -0.42901315   4.0024026 ]\n",
      " [  8.88588006  16.66069772   4.81285765]\n",
      " [  5.53372548   1.92713995  -5.45116069]\n",
      " [ -2.59029855  -7.0956846   -3.6419532 ]\n",
      " [ 11.20172981  20.02298545   5.0873457 ]\n",
      " [ 11.29729183  16.89073198   1.82767621]\n",
      " [ -3.40113532   0.03017973   4.56502683]\n",
      " [ -4.60860716 -15.19255602  -9.04774648]\n",
      " [ -2.97856201  -1.51128195   2.46013406]\n",
      " [ -2.84633486  -6.11772032  -2.32260717]\n",
      " [-10.7983551  -12.23969299   2.1581138 ]\n",
      " [-11.76203952 -25.6287981   -9.94607874]\n",
      " [ -6.51627004  -6.89785828   1.79050177]\n",
      " [  1.91571647  10.0743619    7.52007327]\n",
      " [ -5.90320214  -2.62358452   5.24735166]\n",
      " [  5.60171712  16.52669011   9.05773396]\n",
      " [ -2.82474647  -0.49385402   3.27247461]\n",
      " [ -7.16258733 -19.54489615  -9.99477971]\n",
      " [  4.12729821   3.30288409  -2.20018019]\n",
      " [ -0.23198192   5.5912904    5.90059963]\n",
      " [ -5.51663081 -14.49518146  -7.13967371]\n",
      " [ -5.09348525 -11.48099619  -4.68968253]\n",
      " [  4.95998285   2.97659191  -3.63671856]\n",
      " [ -4.65625671  -3.0649078    3.14343448]\n",
      " [  4.9564328    5.34677396  -1.26180311]\n",
      " [-10.10639327 -16.94857452  -3.4733835 ]\n",
      " [  4.79573801   3.12015138  -3.27416597]\n",
      " [  1.21871578  -3.15245484  -4.77740921]\n",
      " [  1.8117084    2.25809086  -0.15752034]\n",
      " [ -2.4243224   -6.22050533  -2.98807546]\n",
      " [  3.0809073    8.57485801   4.46698162]\n",
      " [ -9.24958943 -17.15855452  -4.82576861]\n",
      " [  2.58287998   0.9103315   -2.53350846]\n",
      " [  6.71489509   3.33247463  -5.62071883]\n",
      " [ 11.97263532  19.04355171   3.08003795]\n",
      " [  0.14056877  -2.98513507  -3.1725601 ]\n",
      " [ -2.04113425  -7.50636559  -4.78485325]\n",
      " [ -8.66606181 -13.16766158  -1.61291249]\n",
      " [ -1.43789942  -0.34095024   1.57624899]\n",
      " [ 11.35008507  15.84706598   0.71361922]\n",
      " [  9.59461073  20.82154537   8.02873106]\n",
      " [ -8.98894772  -8.63102353   3.35424009]\n",
      " [  4.93881415   0.86944848  -5.71563705]\n",
      " [  4.78915628  10.244903     3.8593613 ]\n",
      " [  5.7412367   10.71864842   3.06366615]\n",
      " [  9.37920393  13.09513636   0.58953112]\n",
      " [ -4.790813    -2.52414716   3.8636035 ]\n",
      " [  6.6813497   16.71896549   7.81049922]\n",
      " [  4.97487513   2.33419627  -4.29897057]\n",
      " [ -8.29750584 -12.36431406  -1.30097293]\n",
      " [  7.30005454  19.40661119   9.67320514]\n",
      " [ -0.65440076  -4.17621331  -3.30367897]\n",
      " [ -0.74731172   5.7963524    6.79276802]\n",
      " [  4.72657522  11.34119181   5.03909152]\n",
      " [ -9.5071262  -15.65145255  -2.97528429]\n",
      " [  4.3165492    9.30390698   3.54850805]\n",
      " [ -9.16912616 -20.57550514  -8.3500036 ]\n",
      " [ -8.38779409 -20.31476325  -9.13103779]\n",
      " [ 10.76962957  18.6752773    4.3157712 ]\n",
      " [ -8.45071127 -20.94660762  -9.67899259]]\n"
     ]
    }
   ],
   "source": [
    "points = np.zeros((100,3))\n",
    "#print(points)\n",
    "for i in range(len(scalars)):\n",
    "  points[i,:] = v1*scalars[i,0] + v2*scalars[i,1]\n",
    "print(points)\n"
   ]
  },
  {
   "cell_type": "code",
   "execution_count": 12,
   "metadata": {},
   "outputs": [
    {
     "data": {
      "application/vnd.plotly.v1+json": {
       "config": {
        "plotlyServerURL": "https://plot.ly"
       },
       "data": [
        {
         "marker": {
          "color": "black",
          "size": 6
         },
         "mode": "markers",
         "type": "scatter3d",
         "x": [
          4.988050385956412,
          4.8673507350040355,
          -5.141619034579519,
          7.405763536302084,
          11.30603797458517,
          -4.3435053687424645,
          4.269649734049928,
          -4.7617414744808455,
          -10.988882388439633,
          8.69406293122886,
          -3.7421513311491568,
          4.337608553201957,
          -9.118770309422201,
          -9.913524462003569,
          3.2500090761440354,
          11.670830525976697,
          9.351187449989581,
          3.968132470026873,
          4.677745952634932,
          4.944200453217344,
          -11.135133091937217,
          2.193646389830775,
          0.33256469323045934,
          2.570004126280133,
          -5.031633978213749,
          -0.06143425260295654,
          -3.1714454547374737,
          2.491902496309388,
          4.007807156478924,
          10.039765867000948,
          5.789063348619162,
          3.62276868399997,
          -0.7464336002918239,
          -9.298847463743233,
          5.791882774732836,
          -1.5462018649740994,
          6.681656292008787,
          -8.160268841865765,
          -10.610584690759762,
          -8.428829925801203,
          -3.3235618159456886,
          8.88588005698304,
          5.533725480061486,
          -2.590298546640857,
          11.20172981042078,
          11.297291826284582,
          -3.40113532106753,
          -4.608607155111133,
          -2.978562013131441,
          -2.8463348615039665,
          -10.798355095859645,
          -11.76203951705158,
          -6.5162700418276,
          1.915716472234017,
          -5.903202139777539,
          5.6017171189240695,
          -2.824746469112174,
          -7.162587331695878,
          4.127298212348119,
          -0.23198192329859868,
          -5.516630807219782,
          -5.093485249223699,
          4.959982847764917,
          -4.656256708362694,
          4.956432801039418,
          -10.106393268550251,
          4.795738012811014,
          1.2187157785615037,
          1.8117084033086233,
          -2.4243223985911273,
          3.0809072974377925,
          -9.249589427104235,
          2.582879975836194,
          6.714895094683814,
          11.972635317798883,
          0.14056877236431387,
          -2.041134254070645,
          -8.666061814439871,
          -1.4378994229787088,
          11.350085067902363,
          9.594610734032539,
          -8.988947715703613,
          4.938814153547131,
          4.789156278290598,
          5.74123669756732,
          9.379203932950452,
          -4.790812997596937,
          6.6813496963173575,
          4.974875130361485,
          -8.297505843148311,
          7.300054537018001,
          -0.6544007578866387,
          -0.7473117205799316,
          4.726575216208882,
          -9.507126197276794,
          4.316549199607135,
          -9.169126156294404,
          -8.387794093512248,
          10.769629570838845,
          -8.450711268616018
         ],
         "y": [
          7.100905454589995,
          8.311946551734287,
          -7.303289587749884,
          19.379499354002924,
          13.109273189411667,
          -3.5307373779544715,
          8.982734187135472,
          -0.03148728957669622,
          -15.267564867634004,
          9.065679799236273,
          -4.04697420239692,
          11.166064560509316,
          -16.300094593936677,
          -15.942146234239335,
          7.744286351599637,
          26.48623966943822,
          11.023851677007066,
          0.16003923661077302,
          1.0537301187422559,
          2.4323643387537768,
          -18.560913311532502,
          6.721095133066058,
          -6.169044426069629,
          0.9603742074483241,
          -2.5190961187533674,
          3.7869642177529537,
          -3.33942963851782,
          8.596462345837384,
          3.3154322150752176,
          15.889669906860506,
          8.91375445429891,
          10.358697206286754,
          4.899996685835368,
          -17.01215256873934,
          4.294999055921592,
          3.0853674320626023,
          8.397425527030936,
          -17.071631469356312,
          -15.416138680503709,
          -15.02903854994577,
          -0.42901314968072857,
          16.660697723436687,
          1.9271399530604931,
          -7.0956845985132935,
          20.0229854519026,
          16.89073197529754,
          0.03017973495491688,
          -15.19255601526186,
          -1.511281953460566,
          -6.117720319335395,
          -12.239692993886008,
          -25.628798096524903,
          -6.89785828473131,
          10.074361898566481,
          -2.623584521699369,
          16.526690114432135,
          -0.49385401707285403,
          -19.544896150463885,
          3.3028840896047953,
          5.591290402914361,
          -14.495181457760767,
          -11.480996192076889,
          2.976591905108185,
          -3.0649077964362075,
          5.346773960925438,
          -16.94857452158234,
          3.120151375955712,
          -3.1524548363490466,
          2.2580908630334147,
          -6.220505326282942,
          8.574858012474063,
          -17.158554515946502,
          0.910331504174799,
          3.3324746331026187,
          19.043551709095443,
          -2.985135066333176,
          -7.506365586362332,
          -13.167661577270191,
          -0.34095023705238514,
          15.847065977830677,
          20.821545367912172,
          -8.631023527776874,
          0.8694484831425981,
          10.244903004454518,
          10.718648417600532,
          13.095136361759527,
          -2.524147163347827,
          16.718965485914097,
          2.3341962660335263,
          -12.364314058308926,
          19.406611187751118,
          -4.176213312948231,
          5.796352396155518,
          11.341191808527174,
          -15.651452549423853,
          9.303906984269508,
          -20.575505140900805,
          -20.31476324700518,
          18.675277295669883,
          -20.946607616677007
         ],
         "z": [
          0.4501716066481132,
          1.822145571728906,
          -0.4477975416438591,
          9.50514797226681,
          -1.9654441100352242,
          2.260603113702148,
          3.289867875068902,
          6.317501343064431,
          -0.6157216830478287,
          -2.5264041090688716,
          0.9425609058019555,
          5.382586489573374,
          -4.1417341813737405,
          -2.7241136182345747,
          3.4109409167409233,
          10.925132301469288,
          -1.4443982563123754,
          -5.130804056758391,
          -5.183264484770986,
          -4.159902932202681,
          -3.714069188949547,
          3.796233279958358,
          -6.612464017043575,
          -2.4662979609251865,
          4.189749185531632,
          3.8688765545568957,
          0.8891643011321451,
          5.273925684091534,
          -2.028310660230014,
          2.5033154175259105,
          1.1950033228066959,
          5.528338960953461,
          5.895241486224466,
          -4.613689283748358,
          -3.427511310388856,
          5.146969918694735,
          -0.5114495289807799,
          -6.19127301353529,
          -1.2686924261573598,
          -3.7905986488774976,
          4.002402604913523,
          4.8128576474593,
          -5.451160687021488,
          -3.641953202992151,
          5.087345704674891,
          1.8276762069180972,
          4.565026829711623,
          -9.047746475113684,
          2.460134064048022,
          -2.3226071706634395,
          2.158113800593516,
          -9.946078740456132,
          1.790501771038823,
          7.520073268921125,
          5.247351664670683,
          9.057733955866707,
          3.272474608410045,
          -9.994779708202714,
          -2.2001801935260303,
          5.9005996339791595,
          -7.139673714801058,
          -4.68968252644529,
          -3.636718558578372,
          3.1434344813807176,
          -1.2618031071271192,
          -3.4733834968486708,
          -3.274165974458973,
          -4.777409207764385,
          -0.15752034137808302,
          -2.9880754614947724,
          4.466981615890341,
          -4.8257686131408555,
          -2.5335084636067933,
          -5.620718826475799,
          3.080037952030268,
          -3.172560096152261,
          -4.784853247601472,
          -1.6129124913503654,
          1.5762489935858932,
          0.7136192206275291,
          8.028731055868786,
          3.3542400931612795,
          -5.7156370549202435,
          3.8593613000670537,
          3.0636661541774384,
          0.589531117825592,
          3.863603500114756,
          7.81049922415762,
          -4.298970574448453,
          -1.3009729341111775,
          9.673205138393781,
          -3.303678969099379,
          6.792768023595427,
          5.039091520248665,
          -2.9752842863881304,
          3.5485080514599954,
          -8.350003599174933,
          -9.131037788988856,
          4.315771201218092,
          -9.67899259185565
         ]
        }
       ],
       "layout": {
        "margin": {
         "b": 0,
         "l": 0,
         "r": 0,
         "t": 0
        },
        "template": {
         "data": {
          "bar": [
           {
            "error_x": {
             "color": "#2a3f5f"
            },
            "error_y": {
             "color": "#2a3f5f"
            },
            "marker": {
             "line": {
              "color": "#E5ECF6",
              "width": 0.5
             },
             "pattern": {
              "fillmode": "overlay",
              "size": 10,
              "solidity": 0.2
             }
            },
            "type": "bar"
           }
          ],
          "barpolar": [
           {
            "marker": {
             "line": {
              "color": "#E5ECF6",
              "width": 0.5
             },
             "pattern": {
              "fillmode": "overlay",
              "size": 10,
              "solidity": 0.2
             }
            },
            "type": "barpolar"
           }
          ],
          "carpet": [
           {
            "aaxis": {
             "endlinecolor": "#2a3f5f",
             "gridcolor": "white",
             "linecolor": "white",
             "minorgridcolor": "white",
             "startlinecolor": "#2a3f5f"
            },
            "baxis": {
             "endlinecolor": "#2a3f5f",
             "gridcolor": "white",
             "linecolor": "white",
             "minorgridcolor": "white",
             "startlinecolor": "#2a3f5f"
            },
            "type": "carpet"
           }
          ],
          "choropleth": [
           {
            "colorbar": {
             "outlinewidth": 0,
             "ticks": ""
            },
            "type": "choropleth"
           }
          ],
          "contour": [
           {
            "colorbar": {
             "outlinewidth": 0,
             "ticks": ""
            },
            "colorscale": [
             [
              0,
              "#0d0887"
             ],
             [
              0.1111111111111111,
              "#46039f"
             ],
             [
              0.2222222222222222,
              "#7201a8"
             ],
             [
              0.3333333333333333,
              "#9c179e"
             ],
             [
              0.4444444444444444,
              "#bd3786"
             ],
             [
              0.5555555555555556,
              "#d8576b"
             ],
             [
              0.6666666666666666,
              "#ed7953"
             ],
             [
              0.7777777777777778,
              "#fb9f3a"
             ],
             [
              0.8888888888888888,
              "#fdca26"
             ],
             [
              1,
              "#f0f921"
             ]
            ],
            "type": "contour"
           }
          ],
          "contourcarpet": [
           {
            "colorbar": {
             "outlinewidth": 0,
             "ticks": ""
            },
            "type": "contourcarpet"
           }
          ],
          "heatmap": [
           {
            "colorbar": {
             "outlinewidth": 0,
             "ticks": ""
            },
            "colorscale": [
             [
              0,
              "#0d0887"
             ],
             [
              0.1111111111111111,
              "#46039f"
             ],
             [
              0.2222222222222222,
              "#7201a8"
             ],
             [
              0.3333333333333333,
              "#9c179e"
             ],
             [
              0.4444444444444444,
              "#bd3786"
             ],
             [
              0.5555555555555556,
              "#d8576b"
             ],
             [
              0.6666666666666666,
              "#ed7953"
             ],
             [
              0.7777777777777778,
              "#fb9f3a"
             ],
             [
              0.8888888888888888,
              "#fdca26"
             ],
             [
              1,
              "#f0f921"
             ]
            ],
            "type": "heatmap"
           }
          ],
          "heatmapgl": [
           {
            "colorbar": {
             "outlinewidth": 0,
             "ticks": ""
            },
            "colorscale": [
             [
              0,
              "#0d0887"
             ],
             [
              0.1111111111111111,
              "#46039f"
             ],
             [
              0.2222222222222222,
              "#7201a8"
             ],
             [
              0.3333333333333333,
              "#9c179e"
             ],
             [
              0.4444444444444444,
              "#bd3786"
             ],
             [
              0.5555555555555556,
              "#d8576b"
             ],
             [
              0.6666666666666666,
              "#ed7953"
             ],
             [
              0.7777777777777778,
              "#fb9f3a"
             ],
             [
              0.8888888888888888,
              "#fdca26"
             ],
             [
              1,
              "#f0f921"
             ]
            ],
            "type": "heatmapgl"
           }
          ],
          "histogram": [
           {
            "marker": {
             "pattern": {
              "fillmode": "overlay",
              "size": 10,
              "solidity": 0.2
             }
            },
            "type": "histogram"
           }
          ],
          "histogram2d": [
           {
            "colorbar": {
             "outlinewidth": 0,
             "ticks": ""
            },
            "colorscale": [
             [
              0,
              "#0d0887"
             ],
             [
              0.1111111111111111,
              "#46039f"
             ],
             [
              0.2222222222222222,
              "#7201a8"
             ],
             [
              0.3333333333333333,
              "#9c179e"
             ],
             [
              0.4444444444444444,
              "#bd3786"
             ],
             [
              0.5555555555555556,
              "#d8576b"
             ],
             [
              0.6666666666666666,
              "#ed7953"
             ],
             [
              0.7777777777777778,
              "#fb9f3a"
             ],
             [
              0.8888888888888888,
              "#fdca26"
             ],
             [
              1,
              "#f0f921"
             ]
            ],
            "type": "histogram2d"
           }
          ],
          "histogram2dcontour": [
           {
            "colorbar": {
             "outlinewidth": 0,
             "ticks": ""
            },
            "colorscale": [
             [
              0,
              "#0d0887"
             ],
             [
              0.1111111111111111,
              "#46039f"
             ],
             [
              0.2222222222222222,
              "#7201a8"
             ],
             [
              0.3333333333333333,
              "#9c179e"
             ],
             [
              0.4444444444444444,
              "#bd3786"
             ],
             [
              0.5555555555555556,
              "#d8576b"
             ],
             [
              0.6666666666666666,
              "#ed7953"
             ],
             [
              0.7777777777777778,
              "#fb9f3a"
             ],
             [
              0.8888888888888888,
              "#fdca26"
             ],
             [
              1,
              "#f0f921"
             ]
            ],
            "type": "histogram2dcontour"
           }
          ],
          "mesh3d": [
           {
            "colorbar": {
             "outlinewidth": 0,
             "ticks": ""
            },
            "type": "mesh3d"
           }
          ],
          "parcoords": [
           {
            "line": {
             "colorbar": {
              "outlinewidth": 0,
              "ticks": ""
             }
            },
            "type": "parcoords"
           }
          ],
          "pie": [
           {
            "automargin": true,
            "type": "pie"
           }
          ],
          "scatter": [
           {
            "fillpattern": {
             "fillmode": "overlay",
             "size": 10,
             "solidity": 0.2
            },
            "type": "scatter"
           }
          ],
          "scatter3d": [
           {
            "line": {
             "colorbar": {
              "outlinewidth": 0,
              "ticks": ""
             }
            },
            "marker": {
             "colorbar": {
              "outlinewidth": 0,
              "ticks": ""
             }
            },
            "type": "scatter3d"
           }
          ],
          "scattercarpet": [
           {
            "marker": {
             "colorbar": {
              "outlinewidth": 0,
              "ticks": ""
             }
            },
            "type": "scattercarpet"
           }
          ],
          "scattergeo": [
           {
            "marker": {
             "colorbar": {
              "outlinewidth": 0,
              "ticks": ""
             }
            },
            "type": "scattergeo"
           }
          ],
          "scattergl": [
           {
            "marker": {
             "colorbar": {
              "outlinewidth": 0,
              "ticks": ""
             }
            },
            "type": "scattergl"
           }
          ],
          "scattermapbox": [
           {
            "marker": {
             "colorbar": {
              "outlinewidth": 0,
              "ticks": ""
             }
            },
            "type": "scattermapbox"
           }
          ],
          "scatterpolar": [
           {
            "marker": {
             "colorbar": {
              "outlinewidth": 0,
              "ticks": ""
             }
            },
            "type": "scatterpolar"
           }
          ],
          "scatterpolargl": [
           {
            "marker": {
             "colorbar": {
              "outlinewidth": 0,
              "ticks": ""
             }
            },
            "type": "scatterpolargl"
           }
          ],
          "scatterternary": [
           {
            "marker": {
             "colorbar": {
              "outlinewidth": 0,
              "ticks": ""
             }
            },
            "type": "scatterternary"
           }
          ],
          "surface": [
           {
            "colorbar": {
             "outlinewidth": 0,
             "ticks": ""
            },
            "colorscale": [
             [
              0,
              "#0d0887"
             ],
             [
              0.1111111111111111,
              "#46039f"
             ],
             [
              0.2222222222222222,
              "#7201a8"
             ],
             [
              0.3333333333333333,
              "#9c179e"
             ],
             [
              0.4444444444444444,
              "#bd3786"
             ],
             [
              0.5555555555555556,
              "#d8576b"
             ],
             [
              0.6666666666666666,
              "#ed7953"
             ],
             [
              0.7777777777777778,
              "#fb9f3a"
             ],
             [
              0.8888888888888888,
              "#fdca26"
             ],
             [
              1,
              "#f0f921"
             ]
            ],
            "type": "surface"
           }
          ],
          "table": [
           {
            "cells": {
             "fill": {
              "color": "#EBF0F8"
             },
             "line": {
              "color": "white"
             }
            },
            "header": {
             "fill": {
              "color": "#C8D4E3"
             },
             "line": {
              "color": "white"
             }
            },
            "type": "table"
           }
          ]
         },
         "layout": {
          "annotationdefaults": {
           "arrowcolor": "#2a3f5f",
           "arrowhead": 0,
           "arrowwidth": 1
          },
          "autotypenumbers": "strict",
          "coloraxis": {
           "colorbar": {
            "outlinewidth": 0,
            "ticks": ""
           }
          },
          "colorscale": {
           "diverging": [
            [
             0,
             "#8e0152"
            ],
            [
             0.1,
             "#c51b7d"
            ],
            [
             0.2,
             "#de77ae"
            ],
            [
             0.3,
             "#f1b6da"
            ],
            [
             0.4,
             "#fde0ef"
            ],
            [
             0.5,
             "#f7f7f7"
            ],
            [
             0.6,
             "#e6f5d0"
            ],
            [
             0.7,
             "#b8e186"
            ],
            [
             0.8,
             "#7fbc41"
            ],
            [
             0.9,
             "#4d9221"
            ],
            [
             1,
             "#276419"
            ]
           ],
           "sequential": [
            [
             0,
             "#0d0887"
            ],
            [
             0.1111111111111111,
             "#46039f"
            ],
            [
             0.2222222222222222,
             "#7201a8"
            ],
            [
             0.3333333333333333,
             "#9c179e"
            ],
            [
             0.4444444444444444,
             "#bd3786"
            ],
            [
             0.5555555555555556,
             "#d8576b"
            ],
            [
             0.6666666666666666,
             "#ed7953"
            ],
            [
             0.7777777777777778,
             "#fb9f3a"
            ],
            [
             0.8888888888888888,
             "#fdca26"
            ],
            [
             1,
             "#f0f921"
            ]
           ],
           "sequentialminus": [
            [
             0,
             "#0d0887"
            ],
            [
             0.1111111111111111,
             "#46039f"
            ],
            [
             0.2222222222222222,
             "#7201a8"
            ],
            [
             0.3333333333333333,
             "#9c179e"
            ],
            [
             0.4444444444444444,
             "#bd3786"
            ],
            [
             0.5555555555555556,
             "#d8576b"
            ],
            [
             0.6666666666666666,
             "#ed7953"
            ],
            [
             0.7777777777777778,
             "#fb9f3a"
            ],
            [
             0.8888888888888888,
             "#fdca26"
            ],
            [
             1,
             "#f0f921"
            ]
           ]
          },
          "colorway": [
           "#636efa",
           "#EF553B",
           "#00cc96",
           "#ab63fa",
           "#FFA15A",
           "#19d3f3",
           "#FF6692",
           "#B6E880",
           "#FF97FF",
           "#FECB52"
          ],
          "font": {
           "color": "#2a3f5f"
          },
          "geo": {
           "bgcolor": "white",
           "lakecolor": "white",
           "landcolor": "#E5ECF6",
           "showlakes": true,
           "showland": true,
           "subunitcolor": "white"
          },
          "hoverlabel": {
           "align": "left"
          },
          "hovermode": "closest",
          "mapbox": {
           "style": "light"
          },
          "paper_bgcolor": "white",
          "plot_bgcolor": "#E5ECF6",
          "polar": {
           "angularaxis": {
            "gridcolor": "white",
            "linecolor": "white",
            "ticks": ""
           },
           "bgcolor": "#E5ECF6",
           "radialaxis": {
            "gridcolor": "white",
            "linecolor": "white",
            "ticks": ""
           }
          },
          "scene": {
           "xaxis": {
            "backgroundcolor": "#E5ECF6",
            "gridcolor": "white",
            "gridwidth": 2,
            "linecolor": "white",
            "showbackground": true,
            "ticks": "",
            "zerolinecolor": "white"
           },
           "yaxis": {
            "backgroundcolor": "#E5ECF6",
            "gridcolor": "white",
            "gridwidth": 2,
            "linecolor": "white",
            "showbackground": true,
            "ticks": "",
            "zerolinecolor": "white"
           },
           "zaxis": {
            "backgroundcolor": "#E5ECF6",
            "gridcolor": "white",
            "gridwidth": 2,
            "linecolor": "white",
            "showbackground": true,
            "ticks": "",
            "zerolinecolor": "white"
           }
          },
          "shapedefaults": {
           "line": {
            "color": "#2a3f5f"
           }
          },
          "ternary": {
           "aaxis": {
            "gridcolor": "white",
            "linecolor": "white",
            "ticks": ""
           },
           "baxis": {
            "gridcolor": "white",
            "linecolor": "white",
            "ticks": ""
           },
           "bgcolor": "#E5ECF6",
           "caxis": {
            "gridcolor": "white",
            "linecolor": "white",
            "ticks": ""
           }
          },
          "title": {
           "x": 0.05
          },
          "xaxis": {
           "automargin": true,
           "gridcolor": "white",
           "linecolor": "white",
           "ticks": "",
           "title": {
            "standoff": 15
           },
           "zerolinecolor": "white",
           "zerolinewidth": 2
          },
          "yaxis": {
           "automargin": true,
           "gridcolor": "white",
           "linecolor": "white",
           "ticks": "",
           "title": {
            "standoff": 15
           },
           "zerolinecolor": "white",
           "zerolinewidth": 2
          }
         }
        }
       }
      }
     },
     "metadata": {},
     "output_type": "display_data"
    },
    {
     "data": {
      "text/plain": [
       "<Figure size 640x480 with 0 Axes>"
      ]
     },
     "metadata": {},
     "output_type": "display_data"
    }
   ],
   "source": [
    "fig = go.Figure( data=[go.Scatter3d(x=points[:,0], y=points[:,1], z=points[:,2], \n",
    "                                    mode='markers', marker=dict(size=6,color='black') )])\n",
    "\n",
    "fig.update_layout(margin=dict(l=0,r=0,b=0,t=0))\n",
    "plt.savefig('Figure_03_07b.png',dpi=300)\n",
    "fig.show()"
   ]
  }
 ],
 "metadata": {
  "kernelspec": {
   "display_name": "Python 3",
   "language": "python",
   "name": "python3"
  },
  "language_info": {
   "codemirror_mode": {
    "name": "ipython",
    "version": 3
   },
   "file_extension": ".py",
   "mimetype": "text/x-python",
   "name": "python",
   "nbconvert_exporter": "python",
   "pygments_lexer": "ipython3",
   "version": "3.11.5"
  },
  "orig_nbformat": 4
 },
 "nbformat": 4,
 "nbformat_minor": 2
}
