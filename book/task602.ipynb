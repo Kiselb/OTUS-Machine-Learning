{
 "cells": [
  {
   "cell_type": "code",
   "execution_count": 1,
   "metadata": {},
   "outputs": [],
   "source": [
    "import numpy as np\n",
    "import matplotlib.pyplot as plt\n",
    "import scipy.linalg\n",
    "from scipy.linalg import toeplitz"
   ]
  },
  {
   "cell_type": "code",
   "execution_count": 2,
   "metadata": {},
   "outputs": [],
   "source": [
    "def euclid_norm(matrix1, matrix2):\n",
    "    return np.sqrt(np.sum((matrix1 - matrix2)**2))"
   ]
  },
  {
   "cell_type": "code",
   "execution_count": 4,
   "metadata": {},
   "outputs": [
    {
     "name": "stdout",
     "output_type": "stream",
     "text": [
      "[[ 7.42979010e-01  6.15969570e-01 -1.03102008e-01 -3.23045960e-01\n",
      "   4.78780396e-04 -1.94280004e-01  2.52820066e-01]\n",
      " [-4.25937928e-01 -2.13875403e-01  1.35483420e+00  8.32039613e-01\n",
      "  -1.79761070e+00 -5.89270150e-01 -3.95669655e-01]\n",
      " [-1.12237387e-01  1.39170349e+00 -4.92698282e-01 -8.38920184e-01\n",
      "   1.40316960e+00  1.65778436e+00  5.14644284e-01]\n",
      " [ 3.78699875e-01 -6.20822901e-01 -1.38405813e+00 -5.27308980e-01\n",
      "   1.42136193e+00 -9.41843936e-01 -1.41009711e+00]\n",
      " [ 4.72285921e-01 -2.85700532e-01  2.24079305e+00  5.99109990e-01\n",
      "   4.89538852e-02  4.25815780e-01 -7.28486498e-01]\n",
      " [-8.56206111e-02 -7.80775403e-01  2.32126741e-01 -7.72145209e-01\n",
      "  -6.15582406e-01  1.25791604e+00 -1.14155095e-01]\n",
      " [-8.97699246e-01  1.19766836e-01 -6.49466558e-01  1.15129643e-01\n",
      "   8.15319462e-01 -1.03264301e+00  9.39330922e-01]]\n",
      "[[ 0.38798497  2.40731318  1.54048422 -0.51435727 -1.22892719 -0.37918005\n",
      "   0.69798956]\n",
      " [ 0.83207893 -0.25258555  0.26628907  0.73639117 -1.26755413 -1.38254451\n",
      "  -0.37818154]\n",
      " [-0.59494383 -0.72804666  0.57311158  0.50874255  0.0344731   0.33088644\n",
      "  -1.02601353]\n",
      " [ 1.11390847 -0.88356093 -0.4089613  -0.76473741  0.35996952  0.56515587\n",
      "  -0.51775184]\n",
      " [ 0.89735477 -0.42627494  0.38779444 -2.04396365  0.8209819   0.85997257\n",
      "   0.85535679]\n",
      " [ 0.39524809 -0.40713968 -0.52918598  1.38584984 -0.3665106  -2.31028175\n",
      "  -0.04606808]\n",
      " [ 0.53132843 -0.25878167 -1.29386873  0.21512128  0.75469353  0.85532596\n",
      "   0.53250812]]\n"
     ]
    }
   ],
   "source": [
    "matrix_size = 7\n",
    "matrix_1 = np.random.randn(matrix_size, matrix_size)\n",
    "matrix_2 = np.random.randn(matrix_size, matrix_size)\n",
    "\n",
    "print(matrix_1)\n",
    "print(matrix_2)"
   ]
  },
  {
   "cell_type": "code",
   "execution_count": 5,
   "metadata": {},
   "outputs": [],
   "source": [
    "iterations = 0\n",
    "scalar = 1"
   ]
  },
  {
   "cell_type": "code",
   "execution_count": 6,
   "metadata": {},
   "outputs": [
    {
     "name": "stdout",
     "output_type": "stream",
     "text": [
      "21 0.10941898913151243\n"
     ]
    }
   ],
   "source": [
    "while euclid_norm(scalar * matrix_1, scalar * matrix_2) >= 1:\n",
    "    iterations += 1\n",
    "    scalar *= 0.9\n",
    "\n",
    "print(iterations, scalar)"
   ]
  }
 ],
 "metadata": {
  "kernelspec": {
   "display_name": "Python 3",
   "language": "python",
   "name": "python3"
  },
  "language_info": {
   "codemirror_mode": {
    "name": "ipython",
    "version": 3
   },
   "file_extension": ".py",
   "mimetype": "text/x-python",
   "name": "python",
   "nbconvert_exporter": "python",
   "pygments_lexer": "ipython3",
   "version": "3.11.5"
  },
  "orig_nbformat": 4
 },
 "nbformat": 4,
 "nbformat_minor": 2
}
