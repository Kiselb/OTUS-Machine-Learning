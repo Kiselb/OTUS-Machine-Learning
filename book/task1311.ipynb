{
 "cells": [
  {
   "cell_type": "code",
   "execution_count": 24,
   "metadata": {},
   "outputs": [],
   "source": [
    "import numpy as np\n",
    "import scipy as sc\n",
    "import matplotlib.pyplot as plt"
   ]
  },
  {
   "cell_type": "code",
   "execution_count": 25,
   "metadata": {},
   "outputs": [],
   "source": [
    "A = np.random.randint(-14, 15, (4, 4))"
   ]
  },
  {
   "cell_type": "code",
   "execution_count": 26,
   "metadata": {},
   "outputs": [],
   "source": [
    "L, V = np.linalg.eig(A)\n",
    "V = V * np.e\n",
    "D = np.diag(L)\n",
    "VI = np.linalg.inv(V)"
   ]
  },
  {
   "cell_type": "code",
   "execution_count": 27,
   "metadata": {},
   "outputs": [
    {
     "name": "stdout",
     "output_type": "stream",
     "text": [
      "Reconstructed minus original:\n",
      "[[ 0.+0.j  0.-0.j -0.+0.j -0.+0.j]\n",
      " [ 0.+0.j -0.+0.j  0.+0.j  0.+0.j]\n",
      " [-0.-0.j  0.-0.j  0.+0.j  0.-0.j]\n",
      " [-0.+0.j -0.-0.j  0.-0.j -0.-0.j]]\n"
     ]
    }
   ],
   "source": [
    "print('Reconstructed minus original:')\n",
    "print(np.round(V @ D @ VI - A, 3))"
   ]
  },
  {
   "cell_type": "code",
   "execution_count": 28,
   "metadata": {},
   "outputs": [
    {
     "name": "stdout",
     "output_type": "stream",
     "text": [
      "Eigenvector 0 has norm (2.718281828459045+0j)\n",
      "Eigenvector 1 has norm (2.7182818284590455+0j)\n",
      "Eigenvector 2 has norm (2.718281828459045-2.5593969475168605e-18j)\n",
      "Eigenvector 3 has norm (2.718281828459045+2.5593969475168605e-18j)\n"
     ]
    }
   ],
   "source": [
    "for i in range(A.shape[0]):\n",
    "  norm = np.sqrt(np.sum(V[:,i]*np.conj(V[:,i])))\n",
    "  print(f'Eigenvector {i} has norm {norm}')"
   ]
  },
  {
   "cell_type": "markdown",
   "metadata": {},
   "source": [
    "Шкалирование не имеет значения, поскольку при инвертировании матрицы скаляр номализуется"
   ]
  },
  {
   "cell_type": "code",
   "execution_count": 29,
   "metadata": {},
   "outputs": [
    {
     "data": {
      "text/plain": [
       "array([[174, -53, 159, -12],\n",
       "       [-53,  81, -44, 109],\n",
       "       [159, -44, 190,  64],\n",
       "       [-12, 109,  64, 276]])"
      ]
     },
     "execution_count": 29,
     "metadata": {},
     "output_type": "execute_result"
    }
   ],
   "source": [
    "A = np.random.randint(-14, 15, (4, 4))\n",
    "A = A.T @ A\n",
    "A"
   ]
  },
  {
   "cell_type": "code",
   "execution_count": 30,
   "metadata": {},
   "outputs": [],
   "source": [
    "L, V = np.linalg.eig(A)\n",
    "V = V * np.pi\n",
    "D = np.diag(L)\n",
    "#VI = np.linalg.inv(V)\n",
    "VI = V.T"
   ]
  },
  {
   "cell_type": "code",
   "execution_count": 31,
   "metadata": {},
   "outputs": [
    {
     "name": "stdout",
     "output_type": "stream",
     "text": [
      "Reconstructed minus original:\n",
      "[[1543.311 -470.089 1410.267 -106.435]\n",
      " [-470.089  718.438 -390.263  966.787]\n",
      " [1410.267 -390.263 1685.225  567.655]\n",
      " [-106.435  966.787  567.655 2448.011]]\n"
     ]
    }
   ],
   "source": [
    "print('Reconstructed minus original:')\n",
    "print(np.round(V @ D @ VI - A, 3))"
   ]
  },
  {
   "cell_type": "code",
   "execution_count": 32,
   "metadata": {},
   "outputs": [
    {
     "name": "stdout",
     "output_type": "stream",
     "text": [
      "Eigenvector 0 has norm 3.141592653589793\n",
      "Eigenvector 1 has norm 3.1415926535897936\n",
      "Eigenvector 2 has norm 3.1415926535897927\n",
      "Eigenvector 3 has norm 3.141592653589793\n"
     ]
    }
   ],
   "source": [
    "for i in range(A.shape[0]):\n",
    "  norm = np.sqrt(np.sum(V[:,i]*np.conj(V[:,i])))\n",
    "  print(f'Eigenvector {i} has norm {norm}')"
   ]
  },
  {
   "cell_type": "markdown",
   "metadata": {},
   "source": [
    "Шкалирование имеет значение, поскольку инвертирование матрицы заменено на транспонирование - не имеет эффекта нормализации"
   ]
  }
 ],
 "metadata": {
  "kernelspec": {
   "display_name": "Python 3",
   "language": "python",
   "name": "python3"
  },
  "language_info": {
   "codemirror_mode": {
    "name": "ipython",
    "version": 3
   },
   "file_extension": ".py",
   "mimetype": "text/x-python",
   "name": "python",
   "nbconvert_exporter": "python",
   "pygments_lexer": "ipython3",
   "version": "3.11.5"
  },
  "orig_nbformat": 4
 },
 "nbformat": 4,
 "nbformat_minor": 2
}
