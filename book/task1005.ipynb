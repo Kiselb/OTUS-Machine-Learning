{
 "cells": [
  {
   "cell_type": "code",
   "execution_count": 1,
   "metadata": {},
   "outputs": [],
   "source": [
    "import numpy as np\n",
    "import scipy.linalg\n",
    "import matplotlib.pyplot as plt"
   ]
  },
  {
   "cell_type": "code",
   "execution_count": 2,
   "metadata": {},
   "outputs": [],
   "source": [
    "rank = 5\n",
    "matrix = np.random.randn(rank, rank)"
   ]
  },
  {
   "cell_type": "code",
   "execution_count": 3,
   "metadata": {},
   "outputs": [],
   "source": [
    "ATA = matrix.T @ matrix"
   ]
  },
  {
   "cell_type": "code",
   "execution_count": 4,
   "metadata": {},
   "outputs": [],
   "source": [
    "P, L, U = scipy.linalg.lu(matrix)"
   ]
  },
  {
   "cell_type": "code",
   "execution_count": 5,
   "metadata": {},
   "outputs": [],
   "source": [
    "UTLTLU = U.T @ L.T @ L @ U"
   ]
  },
  {
   "cell_type": "code",
   "execution_count": 6,
   "metadata": {},
   "outputs": [
    {
     "name": "stdout",
     "output_type": "stream",
     "text": [
      "[[ 5.63860538 -1.46299897  4.49376017  1.59169445 -3.51573827]\n",
      " [-1.46299897  1.71397316 -0.3340811   1.92848827  0.20538739]\n",
      " [ 4.49376017 -0.3340811   7.96232421  3.13402397 -6.63413532]\n",
      " [ 1.59169445  1.92848827  3.13402397  5.04929536 -1.95787354]\n",
      " [-3.51573827  0.20538739 -6.63413532 -1.95787354  6.71945978]]\n",
      "[[ 5.63860538 -1.46299897  4.49376017  1.59169445 -3.51573827]\n",
      " [-1.46299897  1.71397316 -0.3340811   1.92848827  0.20538739]\n",
      " [ 4.49376017 -0.3340811   7.96232421  3.13402397 -6.63413532]\n",
      " [ 1.59169445  1.92848827  3.13402397  5.04929536 -1.95787354]\n",
      " [-3.51573827  0.20538739 -6.63413532 -1.95787354  6.71945978]]\n"
     ]
    }
   ],
   "source": [
    "print(ATA)\n",
    "print(UTLTLU)"
   ]
  },
  {
   "cell_type": "code",
   "execution_count": 7,
   "metadata": {},
   "outputs": [
    {
     "data": {
      "text/plain": [
       "array([[-0.,  0., -0.,  0.,  0.],\n",
       "       [ 0., -0.,  0.,  0., -0.],\n",
       "       [ 0.,  0.,  0.,  0., -0.],\n",
       "       [ 0., -0., -0.,  0.,  0.],\n",
       "       [ 0., -0.,  0., -0.,  0.]])"
      ]
     },
     "execution_count": 7,
     "metadata": {},
     "output_type": "execute_result"
    }
   ],
   "source": [
    "np.round( ATA - UTLTLU, 10)"
   ]
  }
 ],
 "metadata": {
  "kernelspec": {
   "display_name": "Python 3",
   "language": "python",
   "name": "python3"
  },
  "language_info": {
   "codemirror_mode": {
    "name": "ipython",
    "version": 3
   },
   "file_extension": ".py",
   "mimetype": "text/x-python",
   "name": "python",
   "nbconvert_exporter": "python",
   "pygments_lexer": "ipython3",
   "version": "3.11.5"
  },
  "orig_nbformat": 4
 },
 "nbformat": 4,
 "nbformat_minor": 2
}
