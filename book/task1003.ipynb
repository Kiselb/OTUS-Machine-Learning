{
 "cells": [
  {
   "cell_type": "code",
   "execution_count": 38,
   "metadata": {},
   "outputs": [],
   "source": [
    "import numpy as np\n",
    "import scipy.linalg\n",
    "import matplotlib.pyplot as plt"
   ]
  },
  {
   "cell_type": "code",
   "execution_count": 39,
   "metadata": {},
   "outputs": [],
   "source": [
    "rank = 5\n",
    "matrix = np.random.randn(rank, rank)"
   ]
  },
  {
   "cell_type": "code",
   "execution_count": 40,
   "metadata": {},
   "outputs": [
    {
     "name": "stdout",
     "output_type": "stream",
     "text": [
      "[[ 1.33111746 -0.15987796 -0.1926976  -0.53430037  0.04539769]\n",
      " [ 0.         -1.47167625  0.14873372 -0.76855035 -0.22928234]\n",
      " [ 0.          0.         -1.04409314  0.27695561 -1.88061891]\n",
      " [ 0.          0.          0.         -0.8472326   1.91380564]\n",
      " [ 0.          0.          0.          0.         -0.56336994]]\n"
     ]
    }
   ],
   "source": [
    "P, L, U = scipy.linalg.lu(matrix)\n",
    "print(U)"
   ]
  },
  {
   "cell_type": "code",
   "execution_count": 41,
   "metadata": {},
   "outputs": [
    {
     "name": "stdout",
     "output_type": "stream",
     "text": [
      "-0.5572546247818104\n"
     ]
    }
   ],
   "source": [
    "det = 1\n",
    "for i in range(rank):\n",
    "    sum = 0\n",
    "    for j in range(rank - i):\n",
    "        col = i + j\n",
    "        row = j\n",
    "        sum += U[row, col]\n",
    "    det *= sum\n",
    "print(det)"
   ]
  },
  {
   "cell_type": "code",
   "execution_count": 42,
   "metadata": {},
   "outputs": [
    {
     "name": "stdout",
     "output_type": "stream",
     "text": [
      "-0.9762571566620419\n"
     ]
    }
   ],
   "source": [
    "det = 1\n",
    "for i in range(rank):\n",
    "    for j in range(rank):\n",
    "        if i == j:\n",
    "            det *= U[i, j]\n",
    "print(det * np.linalg.det(P))"
   ]
  },
  {
   "cell_type": "code",
   "execution_count": 43,
   "metadata": {},
   "outputs": [
    {
     "name": "stdout",
     "output_type": "stream",
     "text": [
      "-1.0\n",
      "[ 1.33111746 -1.47167625 -1.04409314 -0.8472326  -0.56336994]\n"
     ]
    }
   ],
   "source": [
    "print(np.linalg.det(P))\n",
    "print(np.diag(U))"
   ]
  },
  {
   "cell_type": "code",
   "execution_count": 44,
   "metadata": {},
   "outputs": [
    {
     "data": {
      "text/plain": [
       "-0.9762571566620418"
      ]
     },
     "execution_count": 44,
     "metadata": {},
     "output_type": "execute_result"
    }
   ],
   "source": [
    "np.linalg.det(matrix)"
   ]
  }
 ],
 "metadata": {
  "kernelspec": {
   "display_name": "Python 3",
   "language": "python",
   "name": "python3"
  },
  "language_info": {
   "codemirror_mode": {
    "name": "ipython",
    "version": 3
   },
   "file_extension": ".py",
   "mimetype": "text/x-python",
   "name": "python",
   "nbconvert_exporter": "python",
   "pygments_lexer": "ipython3",
   "version": "3.11.5"
  },
  "orig_nbformat": 4
 },
 "nbformat": 4,
 "nbformat_minor": 2
}
