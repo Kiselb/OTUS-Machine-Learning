{
 "cells": [
  {
   "cell_type": "code",
   "execution_count": 27,
   "metadata": {},
   "outputs": [],
   "source": [
    "import numpy as np\n",
    "import matplotlib.pyplot as plt"
   ]
  },
  {
   "cell_type": "code",
   "execution_count": 28,
   "metadata": {},
   "outputs": [
    {
     "name": "stdout",
     "output_type": "stream",
     "text": [
      "[[-0.28006069  1.74168605 -1.23018533 -2.87760313]\n",
      " [ 0.31847634 -1.14949898 -0.95965202 -0.76354709]\n",
      " [ 0.60193723 -0.57034825 -0.33270169  1.26359993]\n",
      " [-0.55773248 -0.07595528 -0.09834115 -0.15645113]]\n"
     ]
    }
   ],
   "source": [
    "MATRIX_SIZE = 4\n",
    "matrix = np.random.randn(MATRIX_SIZE, MATRIX_SIZE)\n",
    "print(matrix)"
   ]
  },
  {
   "cell_type": "code",
   "execution_count": 29,
   "metadata": {},
   "outputs": [
    {
     "name": "stdout",
     "output_type": "stream",
     "text": [
      "[[0. 0. 0. 0.]\n",
      " [0. 0. 0. 0.]\n",
      " [0. 0. 0. 0.]\n",
      " [0. 0. 0. 0.]]\n"
     ]
    }
   ],
   "source": [
    "Q = np.zeros((MATRIX_SIZE, MATRIX_SIZE))\n",
    "print(Q)"
   ]
  },
  {
   "cell_type": "code",
   "execution_count": 30,
   "metadata": {},
   "outputs": [
    {
     "name": "stdout",
     "output_type": "stream",
     "text": [
      "[[-0.30318849  0.77108426 -0.55900981  0.03184086]\n",
      " [ 0.34477655 -0.40656014 -0.76801256 -0.35495731]\n",
      " [ 0.65164603  0.13825918 -0.12079973  0.73596826]\n",
      " [-0.60379079 -0.4701301  -0.28822243  0.57562331]]\n",
      "[[ 1.00000000e+00  1.23938269e-17 -1.30970122e-17  4.55752117e-17]\n",
      " [-1.56079376e-16  1.00000000e+00  3.96180442e-17  2.40408171e-18]\n",
      " [-9.61364123e-18 -1.73393751e-17  1.00000000e+00  1.64517835e-17]\n",
      " [ 6.14347215e-17  2.59617205e-17  1.35869960e-16  1.00000000e+00]]\n"
     ]
    }
   ],
   "source": [
    "for i in range(MATRIX_SIZE):\n",
    "    Q[:, i] = matrix[:, i]\n",
    "    a = matrix[:, i]\n",
    "    for j in range(i):\n",
    "        q = Q[:, j]\n",
    "        Q[:, i] = Q[:, i] - np.dot(a, q) / np.dot(q, q) * q\n",
    "    Q[:, i] /= np.linalg.norm(Q[:, i])\n",
    "\n",
    "print(Q)\n",
    "print(Q @ np.linalg.inv(Q))"
   ]
  },
  {
   "cell_type": "code",
   "execution_count": 31,
   "metadata": {},
   "outputs": [],
   "source": [
    "QP, R = np.linalg.qr(matrix)"
   ]
  },
  {
   "cell_type": "code",
   "execution_count": 32,
   "metadata": {},
   "outputs": [
    {
     "name": "stdout",
     "output_type": "stream",
     "text": [
      "[[-0.  0.  0.  0.]\n",
      " [ 0.  0. -0.  0.]\n",
      " [ 0.  0.  0.  0.]\n",
      " [-0.  0. -0.  0.]]\n",
      " \n",
      "[[-0.60637698  1.54216852 -1.11801961  0.06368172]\n",
      " [ 0.6895531  -0.81312028 -1.53602512 -0.70991461]\n",
      " [ 1.30329205  0.27651836 -0.24159946  1.47193652]\n",
      " [-1.20758159 -0.94026021 -0.57644486  1.15124662]]\n"
     ]
    }
   ],
   "source": [
    "print( np.round( Q - QP ,10) ), print(' ')\n",
    "print( np.round( Q + QP ,10) )"
   ]
  }
 ],
 "metadata": {
  "kernelspec": {
   "display_name": "Python 3",
   "language": "python",
   "name": "python3"
  },
  "language_info": {
   "codemirror_mode": {
    "name": "ipython",
    "version": 3
   },
   "file_extension": ".py",
   "mimetype": "text/x-python",
   "name": "python",
   "nbconvert_exporter": "python",
   "pygments_lexer": "ipython3",
   "version": "3.11.5"
  },
  "orig_nbformat": 4
 },
 "nbformat": 4,
 "nbformat_minor": 2
}
