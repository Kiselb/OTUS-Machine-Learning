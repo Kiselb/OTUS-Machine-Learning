{
 "cells": [
  {
   "cell_type": "code",
   "execution_count": 1,
   "metadata": {},
   "outputs": [],
   "source": [
    "import numpy as np\n",
    "import scipy as sc\n",
    "import matplotlib.pyplot as plt"
   ]
  },
  {
   "cell_type": "code",
   "execution_count": 8,
   "metadata": {},
   "outputs": [
    {
     "name": "stdout",
     "output_type": "stream",
     "text": [
      "[[0.36162629 0.         0.         0.        ]\n",
      " [0.         2.11818822 0.         0.        ]\n",
      " [0.         0.         1.49270129 0.        ]\n",
      " [0.         0.         0.         2.15780667]]\n",
      "[0.36162629 2.11818822 1.49270129 2.15780667]\n"
     ]
    }
   ],
   "source": [
    "M = np.diag(np.random.rand(4) * 5)\n",
    "print(M)\n",
    "print(np.diag(M))"
   ]
  },
  {
   "cell_type": "code",
   "execution_count": 3,
   "metadata": {},
   "outputs": [
    {
     "data": {
      "text/plain": [
       "array([[-0.81933501,  0.11937747, -0.54039827, -0.1496959 ],\n",
       "       [-0.32195331, -0.85477573,  0.35465817, -0.19980514],\n",
       "       [ 0.41121544, -0.49342497, -0.75998157,  0.09930598],\n",
       "       [-0.2365123 , -0.10788543,  0.067936  ,  0.96322758]])"
      ]
     },
     "execution_count": 3,
     "metadata": {},
     "output_type": "execute_result"
    }
   ],
   "source": [
    "Q, _ = np.linalg.qr(np.random.randn(4, 4))\n",
    "Q"
   ]
  },
  {
   "cell_type": "code",
   "execution_count": 4,
   "metadata": {},
   "outputs": [
    {
     "data": {
      "text/plain": [
       "array([[ 1.67422916, -0.51238176,  1.33638632, -0.73341157],\n",
       "       [-0.51238176,  1.10688664, -1.04383768, -0.74285251],\n",
       "       [ 1.33638632, -1.04383768,  2.56474569,  0.22397952],\n",
       "       [-0.73341157, -0.74285251,  0.22397952,  4.53181291]])"
      ]
     },
     "execution_count": 4,
     "metadata": {},
     "output_type": "execute_result"
    }
   ],
   "source": [
    "R = Q @ M @ Q.T\n",
    "R"
   ]
  },
  {
   "cell_type": "code",
   "execution_count": 5,
   "metadata": {},
   "outputs": [
    {
     "name": "stdout",
     "output_type": "stream",
     "text": [
      "[[ 0.  0.  0.  0.]\n",
      " [ 0.  0. -0.  0.]\n",
      " [ 0.  0.  0.  0.]\n",
      " [-0.  0.  0.  0.]]\n"
     ]
    }
   ],
   "source": [
    "print(np.round(R - R.T, 5))"
   ]
  },
  {
   "cell_type": "code",
   "execution_count": 6,
   "metadata": {},
   "outputs": [
    {
     "name": "stdout",
     "output_type": "stream",
     "text": [
      "[0.48212428 0.59046424 3.98210921 4.82297666]\n",
      "[0.48212428 0.59046424 3.98210921 4.82297666]\n"
     ]
    }
   ],
   "source": [
    "print(np.sort(np.diag(M)))\n",
    "print(np.sort(np.linalg.eig(R)[0]))"
   ]
  }
 ],
 "metadata": {
  "kernelspec": {
   "display_name": "Python 3",
   "language": "python",
   "name": "python3"
  },
  "language_info": {
   "codemirror_mode": {
    "name": "ipython",
    "version": 3
   },
   "file_extension": ".py",
   "mimetype": "text/x-python",
   "name": "python",
   "nbconvert_exporter": "python",
   "pygments_lexer": "ipython3",
   "version": "3.11.5"
  },
  "orig_nbformat": 4
 },
 "nbformat": 4,
 "nbformat_minor": 2
}
