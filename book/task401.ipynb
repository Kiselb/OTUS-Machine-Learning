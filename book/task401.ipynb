{
 "cells": [
  {
   "cell_type": "code",
   "execution_count": 1,
   "metadata": {},
   "outputs": [],
   "source": [
    "import numpy as np\n",
    "import matplotlib.pyplot as plt"
   ]
  },
  {
   "cell_type": "code",
   "execution_count": 6,
   "metadata": {},
   "outputs": [],
   "source": [
    "def PirsonAndCos(v1, v2):\n",
    "    cos = np.dot(v1,v2) / (np.linalg.norm(v1) * np.linalg.norm(v2))\n",
    "    \n",
    "    v1_norm = v1 - np.mean(v1)\n",
    "    v2_norm = v2 - np.mean(v2)\n",
    "    pirson = np.dot(v1_norm, v2_norm) / (np.linalg.norm(v1_norm) * np.linalg.norm(v2_norm))\n",
    "    return pirson, cos"
   ]
  },
  {
   "cell_type": "code",
   "execution_count": 7,
   "metadata": {},
   "outputs": [],
   "source": [
    "v1 = np.random.randn(15)\n",
    "v2 = np.random.randn(15)"
   ]
  },
  {
   "cell_type": "code",
   "execution_count": 8,
   "metadata": {},
   "outputs": [
    {
     "name": "stdout",
     "output_type": "stream",
     "text": [
      "0.4106425430026906 0.3844438189823377 0.41064254300269054\n"
     ]
    }
   ],
   "source": [
    "p, c = PirsonAndCos(v1, v2)\n",
    "print(p, c, np.corrcoef(v1, v2)[0, 1])"
   ]
  }
 ],
 "metadata": {
  "kernelspec": {
   "display_name": "Python 3",
   "language": "python",
   "name": "python3"
  },
  "language_info": {
   "codemirror_mode": {
    "name": "ipython",
    "version": 3
   },
   "file_extension": ".py",
   "mimetype": "text/x-python",
   "name": "python",
   "nbconvert_exporter": "python",
   "pygments_lexer": "ipython3",
   "version": "3.11.5"
  },
  "orig_nbformat": 4
 },
 "nbformat": 4,
 "nbformat_minor": 2
}
